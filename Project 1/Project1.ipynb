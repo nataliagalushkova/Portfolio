{
 "cells": [
  {
   "cell_type": "markdown",
   "metadata": {},
   "source": [
    "# Исследование закономерностей, определяющих успешность игр,  для интернет-магазина \"Стримчик\""
   ]
  },
  {
   "cell_type": "markdown",
   "metadata": {},
   "source": [
    "**Описание данных:** из открытых источников доступны исторические данные до 2016 года о продажах игр, оценках пользователей и экспертов, жанрах и платформах (например, Xbox или PlayStation).  \n",
    "**Цель исследования:** выявить определяющие успешность игры закономерности, что позволит сделать ставку на потенциально популярный продукт и спланировать рекламные кампании.  \n",
    "\n",
    "**План работы:**\n",
    "- Изучение общей информации о данных;  \n",
    "- Предобработка данных;   \n",
    "- Исследовательский анализ данных: \n",
    "   - Сколько игр выпускалось в разные годы;\n",
    "   - Как менялись продажи по платформам;\n",
    "   - Какие платформы лидируют по продажам, растут или падают;\n",
    "   - Как влияют на продажи внутри одной популярной платформы отзывы пользователей и критиков;\n",
    "   - Изучение распределения игр по жанрам\n",
    "- Определить для пользователя каждого региона (NA, EU, JP):\n",
    "   - Самые популярные платформы (топ-5);\n",
    "   - Самые популярные жанры (топ-5);\n",
    "   - Влияет ли рейтинг ESRB на продажи в отдельном регионе\n",
    "- Проверка гипотез:\n",
    "   - Средние пользовательские рейтинги платформ Xbox One и PC одинаковые;\n",
    "   - Средние пользовательские рейтинги жанров Action и Sports разные.\n",
    "- Финальные заключения."
   ]
  },
  {
   "cell_type": "markdown",
   "metadata": {},
   "source": [
    "#### Шаг 1. Загрузка данных"
   ]
  },
  {
   "cell_type": "code",
   "execution_count": 1,
   "metadata": {},
   "outputs": [],
   "source": [
    "import pandas as pd\n",
    "import numpy as np\n",
    "import matplotlib.pyplot as plt\n",
    "import scipy.stats as st\n",
    "import seaborn as sns"
   ]
  },
  {
   "cell_type": "code",
   "execution_count": 2,
   "metadata": {},
   "outputs": [],
   "source": [
    "data = pd.read_csv('games.csv')"
   ]
  },
  {
   "cell_type": "code",
   "execution_count": 3,
   "metadata": {},
   "outputs": [
    {
     "data": {
      "text/html": [
       "<div>\n",
       "<style scoped>\n",
       "    .dataframe tbody tr th:only-of-type {\n",
       "        vertical-align: middle;\n",
       "    }\n",
       "\n",
       "    .dataframe tbody tr th {\n",
       "        vertical-align: top;\n",
       "    }\n",
       "\n",
       "    .dataframe thead th {\n",
       "        text-align: right;\n",
       "    }\n",
       "</style>\n",
       "<table border=\"1\" class=\"dataframe\">\n",
       "  <thead>\n",
       "    <tr style=\"text-align: right;\">\n",
       "      <th></th>\n",
       "      <th>Name</th>\n",
       "      <th>Platform</th>\n",
       "      <th>Year_of_Release</th>\n",
       "      <th>Genre</th>\n",
       "      <th>NA_sales</th>\n",
       "      <th>EU_sales</th>\n",
       "      <th>JP_sales</th>\n",
       "      <th>Other_sales</th>\n",
       "      <th>Critic_Score</th>\n",
       "      <th>User_Score</th>\n",
       "      <th>Rating</th>\n",
       "    </tr>\n",
       "  </thead>\n",
       "  <tbody>\n",
       "    <tr>\n",
       "      <th>0</th>\n",
       "      <td>Wii Sports</td>\n",
       "      <td>Wii</td>\n",
       "      <td>2006.0</td>\n",
       "      <td>Sports</td>\n",
       "      <td>41.36</td>\n",
       "      <td>28.96</td>\n",
       "      <td>3.77</td>\n",
       "      <td>8.45</td>\n",
       "      <td>76.0</td>\n",
       "      <td>8</td>\n",
       "      <td>E</td>\n",
       "    </tr>\n",
       "    <tr>\n",
       "      <th>1</th>\n",
       "      <td>Super Mario Bros.</td>\n",
       "      <td>NES</td>\n",
       "      <td>1985.0</td>\n",
       "      <td>Platform</td>\n",
       "      <td>29.08</td>\n",
       "      <td>3.58</td>\n",
       "      <td>6.81</td>\n",
       "      <td>0.77</td>\n",
       "      <td>NaN</td>\n",
       "      <td>NaN</td>\n",
       "      <td>NaN</td>\n",
       "    </tr>\n",
       "    <tr>\n",
       "      <th>2</th>\n",
       "      <td>Mario Kart Wii</td>\n",
       "      <td>Wii</td>\n",
       "      <td>2008.0</td>\n",
       "      <td>Racing</td>\n",
       "      <td>15.68</td>\n",
       "      <td>12.76</td>\n",
       "      <td>3.79</td>\n",
       "      <td>3.29</td>\n",
       "      <td>82.0</td>\n",
       "      <td>8.3</td>\n",
       "      <td>E</td>\n",
       "    </tr>\n",
       "    <tr>\n",
       "      <th>3</th>\n",
       "      <td>Wii Sports Resort</td>\n",
       "      <td>Wii</td>\n",
       "      <td>2009.0</td>\n",
       "      <td>Sports</td>\n",
       "      <td>15.61</td>\n",
       "      <td>10.93</td>\n",
       "      <td>3.28</td>\n",
       "      <td>2.95</td>\n",
       "      <td>80.0</td>\n",
       "      <td>8</td>\n",
       "      <td>E</td>\n",
       "    </tr>\n",
       "    <tr>\n",
       "      <th>4</th>\n",
       "      <td>Pokemon Red/Pokemon Blue</td>\n",
       "      <td>GB</td>\n",
       "      <td>1996.0</td>\n",
       "      <td>Role-Playing</td>\n",
       "      <td>11.27</td>\n",
       "      <td>8.89</td>\n",
       "      <td>10.22</td>\n",
       "      <td>1.00</td>\n",
       "      <td>NaN</td>\n",
       "      <td>NaN</td>\n",
       "      <td>NaN</td>\n",
       "    </tr>\n",
       "  </tbody>\n",
       "</table>\n",
       "</div>"
      ],
      "text/plain": [
       "                       Name Platform  Year_of_Release         Genre  NA_sales  \\\n",
       "0                Wii Sports      Wii           2006.0        Sports     41.36   \n",
       "1         Super Mario Bros.      NES           1985.0      Platform     29.08   \n",
       "2            Mario Kart Wii      Wii           2008.0        Racing     15.68   \n",
       "3         Wii Sports Resort      Wii           2009.0        Sports     15.61   \n",
       "4  Pokemon Red/Pokemon Blue       GB           1996.0  Role-Playing     11.27   \n",
       "\n",
       "   EU_sales  JP_sales  Other_sales  Critic_Score User_Score Rating  \n",
       "0     28.96      3.77         8.45          76.0          8      E  \n",
       "1      3.58      6.81         0.77           NaN        NaN    NaN  \n",
       "2     12.76      3.79         3.29          82.0        8.3      E  \n",
       "3     10.93      3.28         2.95          80.0          8      E  \n",
       "4      8.89     10.22         1.00           NaN        NaN    NaN  "
      ]
     },
     "metadata": {},
     "output_type": "display_data"
    },
    {
     "name": "stdout",
     "output_type": "stream",
     "text": [
      "<class 'pandas.core.frame.DataFrame'>\n",
      "RangeIndex: 16715 entries, 0 to 16714\n",
      "Data columns (total 11 columns):\n",
      " #   Column           Non-Null Count  Dtype  \n",
      "---  ------           --------------  -----  \n",
      " 0   Name             16713 non-null  object \n",
      " 1   Platform         16715 non-null  object \n",
      " 2   Year_of_Release  16446 non-null  float64\n",
      " 3   Genre            16713 non-null  object \n",
      " 4   NA_sales         16715 non-null  float64\n",
      " 5   EU_sales         16715 non-null  float64\n",
      " 6   JP_sales         16715 non-null  float64\n",
      " 7   Other_sales      16715 non-null  float64\n",
      " 8   Critic_Score     8137 non-null   float64\n",
      " 9   User_Score       10014 non-null  object \n",
      " 10  Rating           9949 non-null   object \n",
      "dtypes: float64(6), object(5)\n",
      "memory usage: 1.4+ MB\n"
     ]
    }
   ],
   "source": [
    "display(data.head())\n",
    "data.info()"
   ]
  },
  {
   "cell_type": "markdown",
   "metadata": {},
   "source": [
    "**Первичный обзор данных:**  \n",
    "Датасет о продажах игр состоит из 16715 строк и 11 столбцов. В датасете представлены исторические данные о продажах игр до 2016г, оценках пользователей и экспертов, жанрах и платформах.\n",
    "\n",
    "В 6 из 11 столбцов есть пропуски - на следующем этапе пропуски будут проверены и по возможности обработаны. У столбцов по году выпуска и оценке пользователей будут заменены типы данных для дальнейшей корректной работы."
   ]
  },
  {
   "cell_type": "markdown",
   "metadata": {},
   "source": [
    "#### Шаг 2. Предобработка данных"
   ]
  },
  {
   "cell_type": "code",
   "execution_count": 4,
   "metadata": {},
   "outputs": [
    {
     "data": {
      "text/plain": [
       "Index(['Name', 'Platform', 'Year_of_Release', 'Genre', 'NA_sales', 'EU_sales',\n",
       "       'JP_sales', 'Other_sales', 'Critic_Score', 'User_Score', 'Rating'],\n",
       "      dtype='object')"
      ]
     },
     "execution_count": 4,
     "metadata": {},
     "output_type": "execute_result"
    }
   ],
   "source": [
    "data.columns"
   ]
  },
  {
   "cell_type": "code",
   "execution_count": 5,
   "metadata": {},
   "outputs": [
    {
     "name": "stdout",
     "output_type": "stream",
     "text": [
      "Index(['name', 'platform', 'year_of_release', 'genre', 'na_sales', 'eu_sales',\n",
      "       'jp_sales', 'other_sales', 'critic_score', 'user_score', 'rating'],\n",
      "      dtype='object')\n"
     ]
    }
   ],
   "source": [
    "# Приведем названия столбцов к нижнему регистру\n",
    "\n",
    "data = data.rename(columns = str.lower)\n",
    "print(data.columns)"
   ]
  },
  {
   "cell_type": "code",
   "execution_count": 6,
   "metadata": {},
   "outputs": [],
   "source": [
    "# Заменяем тип данных для года выпуска\n",
    "\n",
    "data['year_of_release'] = data['year_of_release'].astype(pd.Int64Dtype())"
   ]
  },
  {
   "cell_type": "code",
   "execution_count": 7,
   "metadata": {},
   "outputs": [
    {
     "data": {
      "text/plain": [
       "name                0.011965\n",
       "platform            0.000000\n",
       "year_of_release     1.609333\n",
       "genre               0.011965\n",
       "na_sales            0.000000\n",
       "eu_sales            0.000000\n",
       "jp_sales            0.000000\n",
       "other_sales         0.000000\n",
       "critic_score       51.319174\n",
       "user_score         40.089740\n",
       "rating             40.478612\n",
       "dtype: float64"
      ]
     },
     "execution_count": 7,
     "metadata": {},
     "output_type": "execute_result"
    }
   ],
   "source": [
    "percent_missing = data.isna().sum() / len(data) * 100\n",
    "percent_missing"
   ]
  },
  {
   "cell_type": "markdown",
   "metadata": {},
   "source": [
    "Больше всего пропусков в данных по оценкам критиков и пользователей, и по рейтингу."
   ]
  },
  {
   "cell_type": "code",
   "execution_count": 8,
   "metadata": {},
   "outputs": [
    {
     "data": {
      "text/plain": [
       "array(['0', '0.2', '0.3', '0.5', '0.6', '0.7', '0.9', '1', '1.1', '1.2',\n",
       "       '1.3', '1.4', '1.5', '1.6', '1.7', '1.8', '1.9', '2', '2.1', '2.2',\n",
       "       '2.3', '2.4', '2.5', '2.6', '2.7', '2.8', '2.9', '3', '3.1', '3.2',\n",
       "       '3.3', '3.4', '3.5', '3.6', '3.7', '3.8', '3.9', '4', '4.1', '4.2',\n",
       "       '4.3', '4.4', '4.5', '4.6', '4.7', '4.8', '4.9', '5', '5.1', '5.2',\n",
       "       '5.3', '5.4', '5.5', '5.6', '5.7', '5.8', '5.9', '6', '6.1', '6.2',\n",
       "       '6.3', '6.4', '6.5', '6.6', '6.7', '6.8', '6.9', '7', '7.1', '7.2',\n",
       "       '7.3', '7.4', '7.5', '7.6', '7.7', '7.8', '7.9', '8', '8.1', '8.2',\n",
       "       '8.3', '8.4', '8.5', '8.6', '8.7', '8.8', '8.9', '9', '9.1', '9.2',\n",
       "       '9.3', '9.4', '9.5', '9.6', '9.7', 'tbd', nan], dtype=object)"
      ]
     },
     "execution_count": 8,
     "metadata": {},
     "output_type": "execute_result"
    }
   ],
   "source": [
    "# Проверяем, какие значения входят в user_score\n",
    "\n",
    "data['user_score'].sort_values().unique()"
   ]
  },
  {
   "cell_type": "code",
   "execution_count": 9,
   "metadata": {},
   "outputs": [
    {
     "name": "stdout",
     "output_type": "stream",
     "text": [
      "1997\n",
      "2016\n"
     ]
    }
   ],
   "source": [
    "print (data.query('user_score == \"tbd\"')['year_of_release'].min())\n",
    "print (data.query('user_score == \"tbd\"')['year_of_release'].max())"
   ]
  },
  {
   "cell_type": "markdown",
   "metadata": {},
   "source": [
    "Аббревиатура TBD (= to be determined) обычно используется в тех случаях, когда данные по рейтингу еще не доступны, но будут объявлены позже. Однако, в данном случае, можно отметить, что такой рейтинг встречался и в прошлые года (с 1997), поэтому предположим, что если в рейтинге игры стоит \"tbd\", то для такой игры рейтинг не планировалось собирать.\n"
   ]
  },
  {
   "cell_type": "code",
   "execution_count": 10,
   "metadata": {},
   "outputs": [
    {
     "name": "stdout",
     "output_type": "stream",
     "text": [
      "0.1450194436135208\n",
      "1\n"
     ]
    }
   ],
   "source": [
    "# Процент строк со значением tbd в user_score\n",
    "\n",
    "print(len(data.query('user_score == \"tbd\"'))/len (data))\n",
    "\n",
    "# Количество строк с нулевым рейтингом в user_score\n",
    "\n",
    "print (len(data.query('user_score == \"0\"')))"
   ]
  },
  {
   "cell_type": "code",
   "execution_count": 11,
   "metadata": {},
   "outputs": [],
   "source": [
    "# Заменяем пустые строки и строки с tbd на значение 0 (предполагаем, что 0 будет означать отсутствие оценки)\n",
    "\n",
    "data['user_score'].fillna('0', inplace=True)\n",
    "data['user_score'].replace('tbd', '0', inplace=True)"
   ]
  },
  {
   "cell_type": "code",
   "execution_count": 12,
   "metadata": {
    "scrolled": true
   },
   "outputs": [
    {
     "data": {
      "text/plain": [
       "array(['0', '0.2', '0.3', '0.5', '0.6', '0.7', '0.9', '1', '1.1', '1.2',\n",
       "       '1.3', '1.4', '1.5', '1.6', '1.7', '1.8', '1.9', '2', '2.1', '2.2',\n",
       "       '2.3', '2.4', '2.5', '2.6', '2.7', '2.8', '2.9', '3', '3.1', '3.2',\n",
       "       '3.3', '3.4', '3.5', '3.6', '3.7', '3.8', '3.9', '4', '4.1', '4.2',\n",
       "       '4.3', '4.4', '4.5', '4.6', '4.7', '4.8', '4.9', '5', '5.1', '5.2',\n",
       "       '5.3', '5.4', '5.5', '5.6', '5.7', '5.8', '5.9', '6', '6.1', '6.2',\n",
       "       '6.3', '6.4', '6.5', '6.6', '6.7', '6.8', '6.9', '7', '7.1', '7.2',\n",
       "       '7.3', '7.4', '7.5', '7.6', '7.7', '7.8', '7.9', '8', '8.1', '8.2',\n",
       "       '8.3', '8.4', '8.5', '8.6', '8.7', '8.8', '8.9', '9', '9.1', '9.2',\n",
       "       '9.3', '9.4', '9.5', '9.6', '9.7'], dtype=object)"
      ]
     },
     "execution_count": 12,
     "metadata": {},
     "output_type": "execute_result"
    }
   ],
   "source": [
    "data['user_score'].sort_values().unique()"
   ]
  },
  {
   "cell_type": "code",
   "execution_count": 13,
   "metadata": {},
   "outputs": [],
   "source": [
    "# Меняем формат данных для оценки пользователей\n",
    "\n",
    "data['user_score'] = pd.to_numeric(data['user_score'], errors='coerce')"
   ]
  },
  {
   "cell_type": "code",
   "execution_count": 14,
   "metadata": {
    "scrolled": true
   },
   "outputs": [
    {
     "data": {
      "text/html": [
       "<div>\n",
       "<style scoped>\n",
       "    .dataframe tbody tr th:only-of-type {\n",
       "        vertical-align: middle;\n",
       "    }\n",
       "\n",
       "    .dataframe tbody tr th {\n",
       "        vertical-align: top;\n",
       "    }\n",
       "\n",
       "    .dataframe thead th {\n",
       "        text-align: right;\n",
       "    }\n",
       "</style>\n",
       "<table border=\"1\" class=\"dataframe\">\n",
       "  <thead>\n",
       "    <tr style=\"text-align: right;\">\n",
       "      <th></th>\n",
       "      <th>name</th>\n",
       "      <th>platform</th>\n",
       "      <th>year_of_release</th>\n",
       "      <th>genre</th>\n",
       "      <th>na_sales</th>\n",
       "      <th>eu_sales</th>\n",
       "      <th>jp_sales</th>\n",
       "      <th>other_sales</th>\n",
       "      <th>critic_score</th>\n",
       "      <th>user_score</th>\n",
       "      <th>rating</th>\n",
       "    </tr>\n",
       "  </thead>\n",
       "  <tbody>\n",
       "    <tr>\n",
       "      <th>659</th>\n",
       "      <td>NaN</td>\n",
       "      <td>GEN</td>\n",
       "      <td>1993</td>\n",
       "      <td>NaN</td>\n",
       "      <td>1.78</td>\n",
       "      <td>0.53</td>\n",
       "      <td>0.00</td>\n",
       "      <td>0.08</td>\n",
       "      <td>NaN</td>\n",
       "      <td>0.0</td>\n",
       "      <td>NaN</td>\n",
       "    </tr>\n",
       "    <tr>\n",
       "      <th>14244</th>\n",
       "      <td>NaN</td>\n",
       "      <td>GEN</td>\n",
       "      <td>1993</td>\n",
       "      <td>NaN</td>\n",
       "      <td>0.00</td>\n",
       "      <td>0.00</td>\n",
       "      <td>0.03</td>\n",
       "      <td>0.00</td>\n",
       "      <td>NaN</td>\n",
       "      <td>0.0</td>\n",
       "      <td>NaN</td>\n",
       "    </tr>\n",
       "  </tbody>\n",
       "</table>\n",
       "</div>"
      ],
      "text/plain": [
       "      name platform  year_of_release genre  na_sales  eu_sales  jp_sales  \\\n",
       "659    NaN      GEN             1993   NaN      1.78      0.53      0.00   \n",
       "14244  NaN      GEN             1993   NaN      0.00      0.00      0.03   \n",
       "\n",
       "       other_sales  critic_score  user_score rating  \n",
       "659           0.08           NaN         0.0    NaN  \n",
       "14244         0.00           NaN         0.0    NaN  "
      ]
     },
     "metadata": {},
     "output_type": "display_data"
    }
   ],
   "source": [
    "display(data[data['name'].isna()])"
   ]
  },
  {
   "cell_type": "code",
   "execution_count": 15,
   "metadata": {},
   "outputs": [],
   "source": [
    "# Удалим из данных 2 строки с пропусками в наименовании, так как невозможно заполнить\n",
    "\n",
    "data = data[data['name'].notnull()]"
   ]
  },
  {
   "cell_type": "code",
   "execution_count": 16,
   "metadata": {},
   "outputs": [
    {
     "data": {
      "text/html": [
       "<div>\n",
       "<style scoped>\n",
       "    .dataframe tbody tr th:only-of-type {\n",
       "        vertical-align: middle;\n",
       "    }\n",
       "\n",
       "    .dataframe tbody tr th {\n",
       "        vertical-align: top;\n",
       "    }\n",
       "\n",
       "    .dataframe thead th {\n",
       "        text-align: right;\n",
       "    }\n",
       "</style>\n",
       "<table border=\"1\" class=\"dataframe\">\n",
       "  <thead>\n",
       "    <tr style=\"text-align: right;\">\n",
       "      <th></th>\n",
       "      <th>name</th>\n",
       "      <th>platform</th>\n",
       "      <th>year_of_release</th>\n",
       "      <th>genre</th>\n",
       "      <th>na_sales</th>\n",
       "      <th>eu_sales</th>\n",
       "      <th>jp_sales</th>\n",
       "      <th>other_sales</th>\n",
       "      <th>critic_score</th>\n",
       "      <th>user_score</th>\n",
       "      <th>rating</th>\n",
       "    </tr>\n",
       "  </thead>\n",
       "  <tbody>\n",
       "    <tr>\n",
       "      <th>183</th>\n",
       "      <td>Madden NFL 2004</td>\n",
       "      <td>PS2</td>\n",
       "      <td>&lt;NA&gt;</td>\n",
       "      <td>Sports</td>\n",
       "      <td>4.26</td>\n",
       "      <td>0.26</td>\n",
       "      <td>0.01</td>\n",
       "      <td>0.71</td>\n",
       "      <td>94.0</td>\n",
       "      <td>8.5</td>\n",
       "      <td>E</td>\n",
       "    </tr>\n",
       "    <tr>\n",
       "      <th>377</th>\n",
       "      <td>FIFA Soccer 2004</td>\n",
       "      <td>PS2</td>\n",
       "      <td>&lt;NA&gt;</td>\n",
       "      <td>Sports</td>\n",
       "      <td>0.59</td>\n",
       "      <td>2.36</td>\n",
       "      <td>0.04</td>\n",
       "      <td>0.51</td>\n",
       "      <td>84.0</td>\n",
       "      <td>6.4</td>\n",
       "      <td>E</td>\n",
       "    </tr>\n",
       "    <tr>\n",
       "      <th>456</th>\n",
       "      <td>LEGO Batman: The Videogame</td>\n",
       "      <td>Wii</td>\n",
       "      <td>&lt;NA&gt;</td>\n",
       "      <td>Action</td>\n",
       "      <td>1.80</td>\n",
       "      <td>0.97</td>\n",
       "      <td>0.00</td>\n",
       "      <td>0.29</td>\n",
       "      <td>74.0</td>\n",
       "      <td>7.9</td>\n",
       "      <td>E10+</td>\n",
       "    </tr>\n",
       "    <tr>\n",
       "      <th>475</th>\n",
       "      <td>wwe Smackdown vs. Raw 2006</td>\n",
       "      <td>PS2</td>\n",
       "      <td>&lt;NA&gt;</td>\n",
       "      <td>Fighting</td>\n",
       "      <td>1.57</td>\n",
       "      <td>1.02</td>\n",
       "      <td>0.00</td>\n",
       "      <td>0.41</td>\n",
       "      <td>NaN</td>\n",
       "      <td>0.0</td>\n",
       "      <td>NaN</td>\n",
       "    </tr>\n",
       "    <tr>\n",
       "      <th>609</th>\n",
       "      <td>Space Invaders</td>\n",
       "      <td>2600</td>\n",
       "      <td>&lt;NA&gt;</td>\n",
       "      <td>Shooter</td>\n",
       "      <td>2.36</td>\n",
       "      <td>0.14</td>\n",
       "      <td>0.00</td>\n",
       "      <td>0.03</td>\n",
       "      <td>NaN</td>\n",
       "      <td>0.0</td>\n",
       "      <td>NaN</td>\n",
       "    </tr>\n",
       "    <tr>\n",
       "      <th>...</th>\n",
       "      <td>...</td>\n",
       "      <td>...</td>\n",
       "      <td>...</td>\n",
       "      <td>...</td>\n",
       "      <td>...</td>\n",
       "      <td>...</td>\n",
       "      <td>...</td>\n",
       "      <td>...</td>\n",
       "      <td>...</td>\n",
       "      <td>...</td>\n",
       "      <td>...</td>\n",
       "    </tr>\n",
       "    <tr>\n",
       "      <th>16373</th>\n",
       "      <td>PDC World Championship Darts 2008</td>\n",
       "      <td>PSP</td>\n",
       "      <td>&lt;NA&gt;</td>\n",
       "      <td>Sports</td>\n",
       "      <td>0.01</td>\n",
       "      <td>0.00</td>\n",
       "      <td>0.00</td>\n",
       "      <td>0.00</td>\n",
       "      <td>43.0</td>\n",
       "      <td>0.0</td>\n",
       "      <td>E10+</td>\n",
       "    </tr>\n",
       "    <tr>\n",
       "      <th>16405</th>\n",
       "      <td>Freaky Flyers</td>\n",
       "      <td>GC</td>\n",
       "      <td>&lt;NA&gt;</td>\n",
       "      <td>Racing</td>\n",
       "      <td>0.01</td>\n",
       "      <td>0.00</td>\n",
       "      <td>0.00</td>\n",
       "      <td>0.00</td>\n",
       "      <td>69.0</td>\n",
       "      <td>6.5</td>\n",
       "      <td>T</td>\n",
       "    </tr>\n",
       "    <tr>\n",
       "      <th>16448</th>\n",
       "      <td>Inversion</td>\n",
       "      <td>PC</td>\n",
       "      <td>&lt;NA&gt;</td>\n",
       "      <td>Shooter</td>\n",
       "      <td>0.01</td>\n",
       "      <td>0.00</td>\n",
       "      <td>0.00</td>\n",
       "      <td>0.00</td>\n",
       "      <td>59.0</td>\n",
       "      <td>6.7</td>\n",
       "      <td>M</td>\n",
       "    </tr>\n",
       "    <tr>\n",
       "      <th>16458</th>\n",
       "      <td>Hakuouki: Shinsengumi Kitan</td>\n",
       "      <td>PS3</td>\n",
       "      <td>&lt;NA&gt;</td>\n",
       "      <td>Adventure</td>\n",
       "      <td>0.01</td>\n",
       "      <td>0.00</td>\n",
       "      <td>0.00</td>\n",
       "      <td>0.00</td>\n",
       "      <td>NaN</td>\n",
       "      <td>0.0</td>\n",
       "      <td>NaN</td>\n",
       "    </tr>\n",
       "    <tr>\n",
       "      <th>16522</th>\n",
       "      <td>Virtua Quest</td>\n",
       "      <td>GC</td>\n",
       "      <td>&lt;NA&gt;</td>\n",
       "      <td>Role-Playing</td>\n",
       "      <td>0.01</td>\n",
       "      <td>0.00</td>\n",
       "      <td>0.00</td>\n",
       "      <td>0.00</td>\n",
       "      <td>55.0</td>\n",
       "      <td>5.5</td>\n",
       "      <td>T</td>\n",
       "    </tr>\n",
       "  </tbody>\n",
       "</table>\n",
       "<p>269 rows × 11 columns</p>\n",
       "</div>"
      ],
      "text/plain": [
       "                                    name platform  year_of_release  \\\n",
       "183                      Madden NFL 2004      PS2             <NA>   \n",
       "377                     FIFA Soccer 2004      PS2             <NA>   \n",
       "456           LEGO Batman: The Videogame      Wii             <NA>   \n",
       "475           wwe Smackdown vs. Raw 2006      PS2             <NA>   \n",
       "609                       Space Invaders     2600             <NA>   \n",
       "...                                  ...      ...              ...   \n",
       "16373  PDC World Championship Darts 2008      PSP             <NA>   \n",
       "16405                      Freaky Flyers       GC             <NA>   \n",
       "16448                          Inversion       PC             <NA>   \n",
       "16458        Hakuouki: Shinsengumi Kitan      PS3             <NA>   \n",
       "16522                       Virtua Quest       GC             <NA>   \n",
       "\n",
       "              genre  na_sales  eu_sales  jp_sales  other_sales  critic_score  \\\n",
       "183          Sports      4.26      0.26      0.01         0.71          94.0   \n",
       "377          Sports      0.59      2.36      0.04         0.51          84.0   \n",
       "456          Action      1.80      0.97      0.00         0.29          74.0   \n",
       "475        Fighting      1.57      1.02      0.00         0.41           NaN   \n",
       "609         Shooter      2.36      0.14      0.00         0.03           NaN   \n",
       "...             ...       ...       ...       ...          ...           ...   \n",
       "16373        Sports      0.01      0.00      0.00         0.00          43.0   \n",
       "16405        Racing      0.01      0.00      0.00         0.00          69.0   \n",
       "16448       Shooter      0.01      0.00      0.00         0.00          59.0   \n",
       "16458     Adventure      0.01      0.00      0.00         0.00           NaN   \n",
       "16522  Role-Playing      0.01      0.00      0.00         0.00          55.0   \n",
       "\n",
       "       user_score rating  \n",
       "183           8.5      E  \n",
       "377           6.4      E  \n",
       "456           7.9   E10+  \n",
       "475           0.0    NaN  \n",
       "609           0.0    NaN  \n",
       "...           ...    ...  \n",
       "16373         0.0   E10+  \n",
       "16405         6.5      T  \n",
       "16448         6.7      M  \n",
       "16458         0.0    NaN  \n",
       "16522         5.5      T  \n",
       "\n",
       "[269 rows x 11 columns]"
      ]
     },
     "metadata": {},
     "output_type": "display_data"
    }
   ],
   "source": [
    "display(data[data['year_of_release'].isna()])"
   ]
  },
  {
   "cell_type": "code",
   "execution_count": 17,
   "metadata": {},
   "outputs": [],
   "source": [
    "# Удалим из датасета 269 строк с пропусками в году выпуска, так как невозможно заполнить\n",
    "\n",
    "data = data[data['year_of_release'].notnull()]"
   ]
  },
  {
   "cell_type": "code",
   "execution_count": 18,
   "metadata": {},
   "outputs": [
    {
     "data": {
      "text/plain": [
       "array([13., 17., 19., 20., 21., 23., 24., 25., 26., 27., 28., 29., 30.,\n",
       "       31., 32., 33., 34., 35., 36., 37., 38., 39., 40., 41., 42., 43.,\n",
       "       44., 45., 46., 47., 48., 49., 50., 51., 52., 53., 54., 55., 56.,\n",
       "       57., 58., 59., 60., 61., 62., 63., 64., 65., 66., 67., 68., 69.,\n",
       "       70., 71., 72., 73., 74., 75., 76., 77., 78., 79., 80., 81., 82.,\n",
       "       83., 84., 85., 86., 87., 88., 89., 90., 91., 92., 93., 94., 95.,\n",
       "       96., 97., 98., nan])"
      ]
     },
     "execution_count": 18,
     "metadata": {},
     "output_type": "execute_result"
    }
   ],
   "source": [
    "data['critic_score'].sort_values().unique()"
   ]
  },
  {
   "cell_type": "code",
   "execution_count": 19,
   "metadata": {},
   "outputs": [
    {
     "data": {
      "text/plain": [
       "array([ 0., 13., 17., 19., 20., 21., 23., 24., 25., 26., 27., 28., 29.,\n",
       "       30., 31., 32., 33., 34., 35., 36., 37., 38., 39., 40., 41., 42.,\n",
       "       43., 44., 45., 46., 47., 48., 49., 50., 51., 52., 53., 54., 55.,\n",
       "       56., 57., 58., 59., 60., 61., 62., 63., 64., 65., 66., 67., 68.,\n",
       "       69., 70., 71., 72., 73., 74., 75., 76., 77., 78., 79., 80., 81.,\n",
       "       82., 83., 84., 85., 86., 87., 88., 89., 90., 91., 92., 93., 94.,\n",
       "       95., 96., 97., 98.])"
      ]
     },
     "execution_count": 19,
     "metadata": {},
     "output_type": "execute_result"
    }
   ],
   "source": [
    "# Заменим пропуски в оценках критиков на нулевые значения (предполагаем, что 0 будет означать отсутствие оценки)\n",
    "\n",
    "data['critic_score'].fillna(0, inplace=True)\n",
    "data['critic_score'].sort_values().unique()"
   ]
  },
  {
   "cell_type": "code",
   "execution_count": 20,
   "metadata": {},
   "outputs": [
    {
     "data": {
      "text/plain": [
       "array(['AO', 'E', 'E10+', 'EC', 'K-A', 'M', 'RP', 'T', nan], dtype=object)"
      ]
     },
     "execution_count": 20,
     "metadata": {},
     "output_type": "execute_result"
    }
   ],
   "source": [
    "data['rating'].sort_values().unique()"
   ]
  },
  {
   "cell_type": "code",
   "execution_count": 21,
   "metadata": {},
   "outputs": [
    {
     "name": "stdout",
     "output_type": "stream",
     "text": [
      "<class 'pandas.core.frame.DataFrame'>\n",
      "Int64Index: 16444 entries, 0 to 16714\n",
      "Data columns (total 11 columns):\n",
      " #   Column           Non-Null Count  Dtype  \n",
      "---  ------           --------------  -----  \n",
      " 0   name             16444 non-null  object \n",
      " 1   platform         16444 non-null  object \n",
      " 2   year_of_release  16444 non-null  Int64  \n",
      " 3   genre            16444 non-null  object \n",
      " 4   na_sales         16444 non-null  float64\n",
      " 5   eu_sales         16444 non-null  float64\n",
      " 6   jp_sales         16444 non-null  float64\n",
      " 7   other_sales      16444 non-null  float64\n",
      " 8   critic_score     16444 non-null  float64\n",
      " 9   user_score       16444 non-null  float64\n",
      " 10  rating           16444 non-null  object \n",
      "dtypes: Int64(1), float64(6), object(4)\n",
      "memory usage: 1.5+ MB\n"
     ]
    }
   ],
   "source": [
    "# Рейтинг - категориальная переменная, поэтому заменим пропуски на \"TBD\" (предполагаем, что TBD - отсутствие рейтинга)\n",
    "\n",
    "data['rating'].fillna('tbd', inplace=True)\n",
    "data.info()"
   ]
  },
  {
   "cell_type": "code",
   "execution_count": 22,
   "metadata": {},
   "outputs": [
    {
     "name": "stdout",
     "output_type": "stream",
     "text": [
      "Удалено 1.6212982351181575 % от исходных данных\n"
     ]
    }
   ],
   "source": [
    "print ('Удалено', ((16715-16444)/ 16715)*100, '% от исходных данных')"
   ]
  },
  {
   "cell_type": "code",
   "execution_count": 23,
   "metadata": {},
   "outputs": [],
   "source": [
    "# Добавим столбец с суммарными продажами по всем регионам\n",
    "\n",
    "data['total_sales'] = data['na_sales'] + data['eu_sales'] + data['jp_sales'] + data ['other_sales']"
   ]
  },
  {
   "cell_type": "code",
   "execution_count": 24,
   "metadata": {
    "scrolled": true
   },
   "outputs": [
    {
     "data": {
      "text/html": [
       "<div>\n",
       "<style scoped>\n",
       "    .dataframe tbody tr th:only-of-type {\n",
       "        vertical-align: middle;\n",
       "    }\n",
       "\n",
       "    .dataframe tbody tr th {\n",
       "        vertical-align: top;\n",
       "    }\n",
       "\n",
       "    .dataframe thead th {\n",
       "        text-align: right;\n",
       "    }\n",
       "</style>\n",
       "<table border=\"1\" class=\"dataframe\">\n",
       "  <thead>\n",
       "    <tr style=\"text-align: right;\">\n",
       "      <th></th>\n",
       "      <th>name</th>\n",
       "      <th>platform</th>\n",
       "      <th>year_of_release</th>\n",
       "      <th>genre</th>\n",
       "      <th>na_sales</th>\n",
       "      <th>eu_sales</th>\n",
       "      <th>jp_sales</th>\n",
       "      <th>other_sales</th>\n",
       "      <th>critic_score</th>\n",
       "      <th>user_score</th>\n",
       "      <th>rating</th>\n",
       "      <th>total_sales</th>\n",
       "    </tr>\n",
       "  </thead>\n",
       "  <tbody>\n",
       "    <tr>\n",
       "      <th>0</th>\n",
       "      <td>Wii Sports</td>\n",
       "      <td>Wii</td>\n",
       "      <td>2006</td>\n",
       "      <td>Sports</td>\n",
       "      <td>41.36</td>\n",
       "      <td>28.96</td>\n",
       "      <td>3.77</td>\n",
       "      <td>8.45</td>\n",
       "      <td>76.0</td>\n",
       "      <td>8.0</td>\n",
       "      <td>E</td>\n",
       "      <td>82.54</td>\n",
       "    </tr>\n",
       "    <tr>\n",
       "      <th>1</th>\n",
       "      <td>Super Mario Bros.</td>\n",
       "      <td>NES</td>\n",
       "      <td>1985</td>\n",
       "      <td>Platform</td>\n",
       "      <td>29.08</td>\n",
       "      <td>3.58</td>\n",
       "      <td>6.81</td>\n",
       "      <td>0.77</td>\n",
       "      <td>0.0</td>\n",
       "      <td>0.0</td>\n",
       "      <td>tbd</td>\n",
       "      <td>40.24</td>\n",
       "    </tr>\n",
       "    <tr>\n",
       "      <th>2</th>\n",
       "      <td>Mario Kart Wii</td>\n",
       "      <td>Wii</td>\n",
       "      <td>2008</td>\n",
       "      <td>Racing</td>\n",
       "      <td>15.68</td>\n",
       "      <td>12.76</td>\n",
       "      <td>3.79</td>\n",
       "      <td>3.29</td>\n",
       "      <td>82.0</td>\n",
       "      <td>8.3</td>\n",
       "      <td>E</td>\n",
       "      <td>35.52</td>\n",
       "    </tr>\n",
       "    <tr>\n",
       "      <th>3</th>\n",
       "      <td>Wii Sports Resort</td>\n",
       "      <td>Wii</td>\n",
       "      <td>2009</td>\n",
       "      <td>Sports</td>\n",
       "      <td>15.61</td>\n",
       "      <td>10.93</td>\n",
       "      <td>3.28</td>\n",
       "      <td>2.95</td>\n",
       "      <td>80.0</td>\n",
       "      <td>8.0</td>\n",
       "      <td>E</td>\n",
       "      <td>32.77</td>\n",
       "    </tr>\n",
       "    <tr>\n",
       "      <th>4</th>\n",
       "      <td>Pokemon Red/Pokemon Blue</td>\n",
       "      <td>GB</td>\n",
       "      <td>1996</td>\n",
       "      <td>Role-Playing</td>\n",
       "      <td>11.27</td>\n",
       "      <td>8.89</td>\n",
       "      <td>10.22</td>\n",
       "      <td>1.00</td>\n",
       "      <td>0.0</td>\n",
       "      <td>0.0</td>\n",
       "      <td>tbd</td>\n",
       "      <td>31.38</td>\n",
       "    </tr>\n",
       "  </tbody>\n",
       "</table>\n",
       "</div>"
      ],
      "text/plain": [
       "                       name platform  year_of_release         genre  na_sales  \\\n",
       "0                Wii Sports      Wii             2006        Sports     41.36   \n",
       "1         Super Mario Bros.      NES             1985      Platform     29.08   \n",
       "2            Mario Kart Wii      Wii             2008        Racing     15.68   \n",
       "3         Wii Sports Resort      Wii             2009        Sports     15.61   \n",
       "4  Pokemon Red/Pokemon Blue       GB             1996  Role-Playing     11.27   \n",
       "\n",
       "   eu_sales  jp_sales  other_sales  critic_score  user_score rating  \\\n",
       "0     28.96      3.77         8.45          76.0         8.0      E   \n",
       "1      3.58      6.81         0.77           0.0         0.0    tbd   \n",
       "2     12.76      3.79         3.29          82.0         8.3      E   \n",
       "3     10.93      3.28         2.95          80.0         8.0      E   \n",
       "4      8.89     10.22         1.00           0.0         0.0    tbd   \n",
       "\n",
       "   total_sales  \n",
       "0        82.54  \n",
       "1        40.24  \n",
       "2        35.52  \n",
       "3        32.77  \n",
       "4        31.38  "
      ]
     },
     "metadata": {},
     "output_type": "display_data"
    }
   ],
   "source": [
    "display(data.head())"
   ]
  },
  {
   "cell_type": "markdown",
   "metadata": {},
   "source": [
    "##### Предобработка данных - промежуточный итог"
   ]
  },
  {
   "cell_type": "markdown",
   "metadata": {},
   "source": [
    "- Названия столбцов приведены к нижнему регистру.  \n",
    "- Изменены типы для данных для года выпуска (с float64 на Int64) и для оценки пользователей (с object на float64) для дальнейшей корректной работы с данными.  \n",
    "- Пропуски в наименовании имени и году выпуска не могут быть обработаны, строки с пропусками были удалены, что составило всего 1.6% от исходных данных.\n",
    "- В данных по оценкам пользователей пропущенные значения и TBD были заменены на нулевые значения с предположением, что 0 - отсутствие оценки.  \n",
    "- В данных по оценкам критиков пропущенные значения были заменены на нулевые значения с предположением, что 0 - отсутствие оценки.  \n",
    "- В данных по рейтингу пропущенные значения были заменены на TBD, так как рейтинг - категориальная переменная. Предполагаем, что TBD - отсутствие рейтинга. \n",
    "- Добавлен столбец с суммарными продажами по всем регионам.  "
   ]
  },
  {
   "cell_type": "markdown",
   "metadata": {},
   "source": [
    "#### Шаг 3. Исследовательский анализ данных"
   ]
  },
  {
   "cell_type": "markdown",
   "metadata": {},
   "source": [
    "##### Cколько игр выпускалось в разные годы"
   ]
  },
  {
   "cell_type": "code",
   "execution_count": 25,
   "metadata": {},
   "outputs": [
    {
     "data": {
      "image/png": "[encoded data removed]",
      "text/plain": [
       "<Figure size 1000x500 with 1 Axes>"
      ]
     },
     "metadata": {},
     "output_type": "display_data"
    }
   ],
   "source": [
    "# Считаем количество уникальных значений и сортируем года по возрастанию\n",
    "games_per_year = data['year_of_release'].value_counts().sort_index()\n",
    "\n",
    "games_per_year.plot(\n",
    "    style = 'o-',\n",
    "    title = 'Динамика выпуска игр по годам',\n",
    "    figsize = (10,5)\n",
    ")\n",
    "plt.xticks(range(1980, 2018,2))\n",
    "plt.show()"
   ]
  },
  {
   "cell_type": "markdown",
   "metadata": {},
   "source": [
    "**Вывод:**  \n",
    "До 1994г количество новых игр было совсем небольшим. Первая волна роста наблюдается с 1994г по 2000г.  \n",
    "Значительные изменения на игровом рынке начали происходить с 2000г. Можно отметить несколько \"игровых бумов\" - с 2000 по 2002г и с 2007 по 2009г. Однако, после 2009г количество новых игр пошло на спад и на момент 2014-2016 годов вернулось на уровень 2001г."
   ]
  },
  {
   "cell_type": "markdown",
   "metadata": {},
   "source": [
    "#####  Как менялись продажи по платформам"
   ]
  },
  {
   "cell_type": "code",
   "execution_count": 26,
   "metadata": {},
   "outputs": [],
   "source": [
    "# Группируем данные по платформам и суммарным продажам\n",
    "platform_sales = data.groupby('platform')['total_sales'].sum().sort_values(ascending=False)\n",
    "\n",
    "# Выбор платформ с наибольшими суммарными продажами\n",
    "top_platforms = platform_sales.nlargest(6).index\n",
    "filtered_data = data[data['platform'].isin(top_platforms)]\n",
    "\n",
    "# Группируем отфильтрованные данные по годам и суммарным продажам\n",
    "yearly_platform_sales = filtered_data.groupby(['year_of_release', 'platform'])['total_sales'].sum().unstack()\n"
   ]
  },
  {
   "cell_type": "code",
   "execution_count": 27,
   "metadata": {},
   "outputs": [
    {
     "data": {
      "text/plain": [
       "platform\n",
       "PS2     1233.56\n",
       "X360     961.24\n",
       "PS3      931.34\n",
       "Wii      891.18\n",
       "DS       802.78\n",
       "PS       727.58\n",
       "PS4      314.14\n",
       "GBA      312.88\n",
       "PSP      289.53\n",
       "3DS      257.81\n",
       "Name: total_sales, dtype: float64"
      ]
     },
     "execution_count": 27,
     "metadata": {},
     "output_type": "execute_result"
    }
   ],
   "source": [
    "platform_sales.head(10)"
   ]
  },
  {
   "cell_type": "code",
   "execution_count": 28,
   "metadata": {},
   "outputs": [
    {
     "data": {
      "text/html": [
       "<div>\n",
       "<style scoped>\n",
       "    .dataframe tbody tr th:only-of-type {\n",
       "        vertical-align: middle;\n",
       "    }\n",
       "\n",
       "    .dataframe tbody tr th {\n",
       "        vertical-align: top;\n",
       "    }\n",
       "\n",
       "    .dataframe thead th {\n",
       "        text-align: right;\n",
       "    }\n",
       "</style>\n",
       "<table border=\"1\" class=\"dataframe\">\n",
       "  <thead>\n",
       "    <tr style=\"text-align: right;\">\n",
       "      <th>platform</th>\n",
       "      <th>DS</th>\n",
       "      <th>PS</th>\n",
       "      <th>PS2</th>\n",
       "      <th>PS3</th>\n",
       "      <th>Wii</th>\n",
       "      <th>X360</th>\n",
       "    </tr>\n",
       "    <tr>\n",
       "      <th>year_of_release</th>\n",
       "      <th></th>\n",
       "      <th></th>\n",
       "      <th></th>\n",
       "      <th></th>\n",
       "      <th></th>\n",
       "      <th></th>\n",
       "    </tr>\n",
       "  </thead>\n",
       "  <tbody>\n",
       "    <tr>\n",
       "      <th>1985</th>\n",
       "      <td>0.02</td>\n",
       "      <td>NaN</td>\n",
       "      <td>NaN</td>\n",
       "      <td>NaN</td>\n",
       "      <td>NaN</td>\n",
       "      <td>NaN</td>\n",
       "    </tr>\n",
       "    <tr>\n",
       "      <th>1994</th>\n",
       "      <td>NaN</td>\n",
       "      <td>6.03</td>\n",
       "      <td>NaN</td>\n",
       "      <td>NaN</td>\n",
       "      <td>NaN</td>\n",
       "      <td>NaN</td>\n",
       "    </tr>\n",
       "    <tr>\n",
       "      <th>1995</th>\n",
       "      <td>NaN</td>\n",
       "      <td>35.96</td>\n",
       "      <td>NaN</td>\n",
       "      <td>NaN</td>\n",
       "      <td>NaN</td>\n",
       "      <td>NaN</td>\n",
       "    </tr>\n",
       "    <tr>\n",
       "      <th>1996</th>\n",
       "      <td>NaN</td>\n",
       "      <td>94.70</td>\n",
       "      <td>NaN</td>\n",
       "      <td>NaN</td>\n",
       "      <td>NaN</td>\n",
       "      <td>NaN</td>\n",
       "    </tr>\n",
       "    <tr>\n",
       "      <th>1997</th>\n",
       "      <td>NaN</td>\n",
       "      <td>136.17</td>\n",
       "      <td>NaN</td>\n",
       "      <td>NaN</td>\n",
       "      <td>NaN</td>\n",
       "      <td>NaN</td>\n",
       "    </tr>\n",
       "  </tbody>\n",
       "</table>\n",
       "</div>"
      ],
      "text/plain": [
       "platform           DS      PS  PS2  PS3  Wii  X360\n",
       "year_of_release                                   \n",
       "1985             0.02     NaN  NaN  NaN  NaN   NaN\n",
       "1994              NaN    6.03  NaN  NaN  NaN   NaN\n",
       "1995              NaN   35.96  NaN  NaN  NaN   NaN\n",
       "1996              NaN   94.70  NaN  NaN  NaN   NaN\n",
       "1997              NaN  136.17  NaN  NaN  NaN   NaN"
      ]
     },
     "execution_count": 28,
     "metadata": {},
     "output_type": "execute_result"
    }
   ],
   "source": [
    "yearly_platform_sales.head()"
   ]
  },
  {
   "cell_type": "code",
   "execution_count": 29,
   "metadata": {},
   "outputs": [
    {
     "data": {
      "image/png": "[encoded data removed]",
      "text/plain": [
       "<Figure size 1000x600 with 1 Axes>"
      ]
     },
     "metadata": {},
     "output_type": "display_data"
    }
   ],
   "source": [
    "# Строим график для распределения суммарных продаж по годам и платформам\n",
    "\n",
    "yearly_platform_sales.plot(kind='bar', stacked=True, figsize=(10, 6))\n",
    "\n",
    "plt.title('Распределение продаж по платформам по годам')\n",
    "plt.xlabel('Год')\n",
    "plt.ylabel('Продажи')\n",
    "plt.legend(title='Платформа')\n",
    "plt.grid(True)\n",
    "\n",
    "plt.show()"
   ]
  },
  {
   "cell_type": "code",
   "execution_count": 30,
   "metadata": {
    "scrolled": true
   },
   "outputs": [
    {
     "data": {
      "text/html": [
       "<div>\n",
       "<style scoped>\n",
       "    .dataframe tbody tr th:only-of-type {\n",
       "        vertical-align: middle;\n",
       "    }\n",
       "\n",
       "    .dataframe tbody tr th {\n",
       "        vertical-align: top;\n",
       "    }\n",
       "\n",
       "    .dataframe thead th {\n",
       "        text-align: right;\n",
       "    }\n",
       "</style>\n",
       "<table border=\"1\" class=\"dataframe\">\n",
       "  <thead>\n",
       "    <tr style=\"text-align: right;\">\n",
       "      <th></th>\n",
       "      <th>min</th>\n",
       "      <th>max</th>\n",
       "      <th>lifetime</th>\n",
       "    </tr>\n",
       "    <tr>\n",
       "      <th>platform</th>\n",
       "      <th></th>\n",
       "      <th></th>\n",
       "      <th></th>\n",
       "    </tr>\n",
       "  </thead>\n",
       "  <tbody>\n",
       "    <tr>\n",
       "      <th>2600</th>\n",
       "      <td>1980</td>\n",
       "      <td>1989</td>\n",
       "      <td>9</td>\n",
       "    </tr>\n",
       "    <tr>\n",
       "      <th>NES</th>\n",
       "      <td>1983</td>\n",
       "      <td>1994</td>\n",
       "      <td>11</td>\n",
       "    </tr>\n",
       "    <tr>\n",
       "      <th>DS</th>\n",
       "      <td>1985</td>\n",
       "      <td>2013</td>\n",
       "      <td>28</td>\n",
       "    </tr>\n",
       "    <tr>\n",
       "      <th>PC</th>\n",
       "      <td>1985</td>\n",
       "      <td>2016</td>\n",
       "      <td>31</td>\n",
       "    </tr>\n",
       "    <tr>\n",
       "      <th>GB</th>\n",
       "      <td>1988</td>\n",
       "      <td>2001</td>\n",
       "      <td>13</td>\n",
       "    </tr>\n",
       "    <tr>\n",
       "      <th>SNES</th>\n",
       "      <td>1990</td>\n",
       "      <td>1999</td>\n",
       "      <td>9</td>\n",
       "    </tr>\n",
       "    <tr>\n",
       "      <th>GEN</th>\n",
       "      <td>1990</td>\n",
       "      <td>1994</td>\n",
       "      <td>4</td>\n",
       "    </tr>\n",
       "    <tr>\n",
       "      <th>GG</th>\n",
       "      <td>1992</td>\n",
       "      <td>1992</td>\n",
       "      <td>0</td>\n",
       "    </tr>\n",
       "    <tr>\n",
       "      <th>SCD</th>\n",
       "      <td>1993</td>\n",
       "      <td>1994</td>\n",
       "      <td>1</td>\n",
       "    </tr>\n",
       "    <tr>\n",
       "      <th>NG</th>\n",
       "      <td>1993</td>\n",
       "      <td>1996</td>\n",
       "      <td>3</td>\n",
       "    </tr>\n",
       "    <tr>\n",
       "      <th>SAT</th>\n",
       "      <td>1994</td>\n",
       "      <td>1999</td>\n",
       "      <td>5</td>\n",
       "    </tr>\n",
       "    <tr>\n",
       "      <th>PS</th>\n",
       "      <td>1994</td>\n",
       "      <td>2003</td>\n",
       "      <td>9</td>\n",
       "    </tr>\n",
       "    <tr>\n",
       "      <th>3DO</th>\n",
       "      <td>1994</td>\n",
       "      <td>1995</td>\n",
       "      <td>1</td>\n",
       "    </tr>\n",
       "    <tr>\n",
       "      <th>TG16</th>\n",
       "      <td>1995</td>\n",
       "      <td>1995</td>\n",
       "      <td>0</td>\n",
       "    </tr>\n",
       "    <tr>\n",
       "      <th>PCFX</th>\n",
       "      <td>1996</td>\n",
       "      <td>1996</td>\n",
       "      <td>0</td>\n",
       "    </tr>\n",
       "    <tr>\n",
       "      <th>N64</th>\n",
       "      <td>1996</td>\n",
       "      <td>2002</td>\n",
       "      <td>6</td>\n",
       "    </tr>\n",
       "    <tr>\n",
       "      <th>DC</th>\n",
       "      <td>1998</td>\n",
       "      <td>2008</td>\n",
       "      <td>10</td>\n",
       "    </tr>\n",
       "    <tr>\n",
       "      <th>WS</th>\n",
       "      <td>1999</td>\n",
       "      <td>2001</td>\n",
       "      <td>2</td>\n",
       "    </tr>\n",
       "    <tr>\n",
       "      <th>GBA</th>\n",
       "      <td>2000</td>\n",
       "      <td>2007</td>\n",
       "      <td>7</td>\n",
       "    </tr>\n",
       "    <tr>\n",
       "      <th>XB</th>\n",
       "      <td>2000</td>\n",
       "      <td>2008</td>\n",
       "      <td>8</td>\n",
       "    </tr>\n",
       "    <tr>\n",
       "      <th>PS2</th>\n",
       "      <td>2000</td>\n",
       "      <td>2011</td>\n",
       "      <td>11</td>\n",
       "    </tr>\n",
       "    <tr>\n",
       "      <th>GC</th>\n",
       "      <td>2001</td>\n",
       "      <td>2007</td>\n",
       "      <td>6</td>\n",
       "    </tr>\n",
       "    <tr>\n",
       "      <th>PSP</th>\n",
       "      <td>2004</td>\n",
       "      <td>2015</td>\n",
       "      <td>11</td>\n",
       "    </tr>\n",
       "    <tr>\n",
       "      <th>X360</th>\n",
       "      <td>2005</td>\n",
       "      <td>2016</td>\n",
       "      <td>11</td>\n",
       "    </tr>\n",
       "    <tr>\n",
       "      <th>PS3</th>\n",
       "      <td>2006</td>\n",
       "      <td>2016</td>\n",
       "      <td>10</td>\n",
       "    </tr>\n",
       "    <tr>\n",
       "      <th>Wii</th>\n",
       "      <td>2006</td>\n",
       "      <td>2016</td>\n",
       "      <td>10</td>\n",
       "    </tr>\n",
       "    <tr>\n",
       "      <th>3DS</th>\n",
       "      <td>2011</td>\n",
       "      <td>2016</td>\n",
       "      <td>5</td>\n",
       "    </tr>\n",
       "    <tr>\n",
       "      <th>PSV</th>\n",
       "      <td>2011</td>\n",
       "      <td>2016</td>\n",
       "      <td>5</td>\n",
       "    </tr>\n",
       "    <tr>\n",
       "      <th>WiiU</th>\n",
       "      <td>2012</td>\n",
       "      <td>2016</td>\n",
       "      <td>4</td>\n",
       "    </tr>\n",
       "    <tr>\n",
       "      <th>PS4</th>\n",
       "      <td>2013</td>\n",
       "      <td>2016</td>\n",
       "      <td>3</td>\n",
       "    </tr>\n",
       "    <tr>\n",
       "      <th>XOne</th>\n",
       "      <td>2013</td>\n",
       "      <td>2016</td>\n",
       "      <td>3</td>\n",
       "    </tr>\n",
       "  </tbody>\n",
       "</table>\n",
       "</div>"
      ],
      "text/plain": [
       "           min   max  lifetime\n",
       "platform                      \n",
       "2600      1980  1989         9\n",
       "NES       1983  1994        11\n",
       "DS        1985  2013        28\n",
       "PC        1985  2016        31\n",
       "GB        1988  2001        13\n",
       "SNES      1990  1999         9\n",
       "GEN       1990  1994         4\n",
       "GG        1992  1992         0\n",
       "SCD       1993  1994         1\n",
       "NG        1993  1996         3\n",
       "SAT       1994  1999         5\n",
       "PS        1994  2003         9\n",
       "3DO       1994  1995         1\n",
       "TG16      1995  1995         0\n",
       "PCFX      1996  1996         0\n",
       "N64       1996  2002         6\n",
       "DC        1998  2008        10\n",
       "WS        1999  2001         2\n",
       "GBA       2000  2007         7\n",
       "XB        2000  2008         8\n",
       "PS2       2000  2011        11\n",
       "GC        2001  2007         6\n",
       "PSP       2004  2015        11\n",
       "X360      2005  2016        11\n",
       "PS3       2006  2016        10\n",
       "Wii       2006  2016        10\n",
       "3DS       2011  2016         5\n",
       "PSV       2011  2016         5\n",
       "WiiU      2012  2016         4\n",
       "PS4       2013  2016         3\n",
       "XOne      2013  2016         3"
      ]
     },
     "metadata": {},
     "output_type": "display_data"
    }
   ],
   "source": [
    "def find_lifetime(data):\n",
    "    min_max_years = data.groupby('platform')['year_of_release'].agg(['min', 'max']).sort_values(by = 'min')\n",
    "    min_max_years['lifetime'] = min_max_years['max'] - min_max_years['min']\n",
    "    return min_max_years\n",
    "\n",
    "\n",
    "min_max_years = find_lifetime(data)\n",
    "display(min_max_years)"
   ]
  },
  {
   "cell_type": "code",
   "execution_count": 31,
   "metadata": {},
   "outputs": [
    {
     "data": {
      "text/plain": [
       "count        31.0\n",
       "mean     7.612903\n",
       "std      6.998464\n",
       "min           0.0\n",
       "25%           3.0\n",
       "50%           6.0\n",
       "75%          10.0\n",
       "max          31.0\n",
       "Name: lifetime, dtype: Float64"
      ]
     },
     "execution_count": 31,
     "metadata": {},
     "output_type": "execute_result"
    }
   ],
   "source": [
    "min_max_years['lifetime'].describe()"
   ]
  },
  {
   "cell_type": "markdown",
   "metadata": {},
   "source": [
    "**Вывод:**  \n",
    "На графике отображены топ 6 платформ по суммарным продажам (DS, PS, PS2, PS3, Wii, X360): жизненный цикл каждой платформы составляет около 9-10 лет.  \n",
    "Новая версия платформы запускается примерно каждые 5-6 лет, при этом предыдущая версия продолжает поддерживаться еще примерно такой же срок.  \n",
    "Используя метод describe, проверяем результаты: средняя продолжительность - 6-7 лет, однако до 2000г было больше платформ с более коротким сроком жизни, также последние 5 платформ запустились в недавнем времени и могут немного занижать результат."
   ]
  },
  {
   "cell_type": "markdown",
   "metadata": {},
   "source": [
    "#####  Какие платформы лидируют по продажам, растут или падают?"
   ]
  },
  {
   "cell_type": "markdown",
   "metadata": {},
   "source": [
    "Учитывая продолжительность жизни платформы, возьмем 5 платформ, которые запустились после 2010г и PC, которая используется до сих пор."
   ]
  },
  {
   "cell_type": "code",
   "execution_count": 32,
   "metadata": {},
   "outputs": [],
   "source": [
    "platform_list = ['3DS', 'PSV', 'WiiU', 'PS4', 'XOne', 'PC']\n",
    "data_actual = data[data['platform'].isin(platform_list) & (data['year_of_release'] >= 2011)]"
   ]
  },
  {
   "cell_type": "code",
   "execution_count": 33,
   "metadata": {},
   "outputs": [
    {
     "data": {
      "image/png": "[encoded data removed]",
      "text/plain": [
       "<Figure size 1000x600 with 1 Axes>"
      ]
     },
     "metadata": {},
     "output_type": "display_data"
    }
   ],
   "source": [
    "# Список уникальных платформ\n",
    "platforms = data_actual['platform'].unique()  \n",
    "\n",
    "plt.figure(figsize=(10, 6))  \n",
    "\n",
    "for platform in platforms:\n",
    "    # Фильтрация данных для платформы\n",
    "    platform_data = data_actual[data_actual['platform'] == platform]\n",
    "    \n",
    "    # Группировка данных по году и суммирование выручки для каждого года\n",
    "    revenue_by_year = platform_data.groupby('year_of_release')['total_sales'].sum()\n",
    "    \n",
    "    # Построение графика для платформы\n",
    "    revenue_by_year.plot(label=platform)\n",
    "\n",
    "plt.xlabel('Год')\n",
    "plt.ylabel('Выручка')\n",
    "plt.title('Тренд выручки по платформам')\n",
    "plt.legend()\n",
    "plt.grid()\n",
    "\n",
    "plt.show()"
   ]
  },
  {
   "cell_type": "markdown",
   "metadata": {},
   "source": [
    "**Вывод:**  \n",
    "Можно отметить нисходящий тренд выручки по платформам.  \n",
    "На 2016г лидирующая платформа - PS4, затем - XOne и 3DS.  \n",
    "У трех платформ WiiU, PC, PSV продажи на 2016г находятся на одном уровне. Также, учитывая тот факт, что они запустились ранее, потенциально прибыльными платформами можно назвать PS4 и XOne."
   ]
  },
  {
   "cell_type": "markdown",
   "metadata": {},
   "source": [
    "##### График «ящик с усами» по глобальным продажам игр в разбивке по платформам"
   ]
  },
  {
   "cell_type": "code",
   "execution_count": 34,
   "metadata": {},
   "outputs": [
    {
     "data": {
      "image/png": "[encoded data removed]",
      "text/plain": [
       "<Figure size 1000x500 with 1 Axes>"
      ]
     },
     "metadata": {},
     "output_type": "display_data"
    }
   ],
   "source": [
    "plt.figure(figsize=(10,5))\n",
    "sns.boxplot(x=data_actual['platform'], y=data_actual['total_sales'], notch=True)\n",
    "\n",
    "plt.xlabel('Платформа')\n",
    "plt.ylabel('Выручка')\n",
    "plt.title('Распределение выручки по платформам')\n",
    "plt.ylim (0,2)\n",
    "\n",
    "plt.show()"
   ]
  },
  {
   "cell_type": "markdown",
   "metadata": {},
   "source": [
    "**Вывод:**  \n",
    "- Медианные значения у PS4, XOne, WiiU находятся примерно на одном уровне и они выше, чем у платформ 3DS, PC, PSV.  \n",
    "- 3й квартиль выше у платформ PS4 и XOne.  \n",
    "- Самые низкие значения у платформы PSV.  \n",
    "- Больше всего выбросов у платформы 3DS, меньше всего - у WiiU. \n"
   ]
  },
  {
   "cell_type": "markdown",
   "metadata": {},
   "source": [
    "#####  Влияние отзывов пользователей и критиков на продажи внутри популярных платформ"
   ]
  },
  {
   "cell_type": "markdown",
   "metadata": {},
   "source": [
    "Рассмотрим топ-3 популярные платформы - PS4, XOne, 3DS"
   ]
  },
  {
   "cell_type": "code",
   "execution_count": 35,
   "metadata": {
    "scrolled": true
   },
   "outputs": [
    {
     "name": "stdout",
     "output_type": "stream",
     "text": [
      "<class 'pandas.core.frame.DataFrame'>\n",
      "Int64Index: 249 entries, 42 to 16530\n",
      "Data columns (total 12 columns):\n",
      " #   Column           Non-Null Count  Dtype  \n",
      "---  ------           --------------  -----  \n",
      " 0   name             249 non-null    object \n",
      " 1   platform         249 non-null    object \n",
      " 2   year_of_release  249 non-null    Int64  \n",
      " 3   genre            249 non-null    object \n",
      " 4   na_sales         249 non-null    float64\n",
      " 5   eu_sales         249 non-null    float64\n",
      " 6   jp_sales         249 non-null    float64\n",
      " 7   other_sales      249 non-null    float64\n",
      " 8   critic_score     249 non-null    float64\n",
      " 9   user_score       249 non-null    float64\n",
      " 10  rating           249 non-null    object \n",
      " 11  total_sales      249 non-null    float64\n",
      "dtypes: Int64(1), float64(7), object(4)\n",
      "memory usage: 25.5+ KB\n"
     ]
    },
    {
     "data": {
      "text/plain": [
       "None"
      ]
     },
     "metadata": {},
     "output_type": "display_data"
    },
    {
     "name": "stdout",
     "output_type": "stream",
     "text": [
      "<class 'pandas.core.frame.DataFrame'>\n",
      "Int64Index: 165 entries, 165 to 16660\n",
      "Data columns (total 12 columns):\n",
      " #   Column           Non-Null Count  Dtype  \n",
      "---  ------           --------------  -----  \n",
      " 0   name             165 non-null    object \n",
      " 1   platform         165 non-null    object \n",
      " 2   year_of_release  165 non-null    Int64  \n",
      " 3   genre            165 non-null    object \n",
      " 4   na_sales         165 non-null    float64\n",
      " 5   eu_sales         165 non-null    float64\n",
      " 6   jp_sales         165 non-null    float64\n",
      " 7   other_sales      165 non-null    float64\n",
      " 8   critic_score     165 non-null    float64\n",
      " 9   user_score       165 non-null    float64\n",
      " 10  rating           165 non-null    object \n",
      " 11  total_sales      165 non-null    float64\n",
      "dtypes: Int64(1), float64(7), object(4)\n",
      "memory usage: 16.9+ KB\n"
     ]
    },
    {
     "data": {
      "text/plain": [
       "None"
      ]
     },
     "metadata": {},
     "output_type": "display_data"
    },
    {
     "name": "stdout",
     "output_type": "stream",
     "text": [
      "<class 'pandas.core.frame.DataFrame'>\n",
      "Int64Index: 156 entries, 40 to 16143\n",
      "Data columns (total 12 columns):\n",
      " #   Column           Non-Null Count  Dtype  \n",
      "---  ------           --------------  -----  \n",
      " 0   name             156 non-null    object \n",
      " 1   platform         156 non-null    object \n",
      " 2   year_of_release  156 non-null    Int64  \n",
      " 3   genre            156 non-null    object \n",
      " 4   na_sales         156 non-null    float64\n",
      " 5   eu_sales         156 non-null    float64\n",
      " 6   jp_sales         156 non-null    float64\n",
      " 7   other_sales      156 non-null    float64\n",
      " 8   critic_score     156 non-null    float64\n",
      " 9   user_score       156 non-null    float64\n",
      " 10  rating           156 non-null    object \n",
      " 11  total_sales      156 non-null    float64\n",
      "dtypes: Int64(1), float64(7), object(4)\n",
      "memory usage: 16.0+ KB\n"
     ]
    },
    {
     "data": {
      "text/plain": [
       "None"
      ]
     },
     "metadata": {},
     "output_type": "display_data"
    }
   ],
   "source": [
    "# Для оценки уберем строки, где оценки критиков и пользователей равны 0 (те отсутствуют)\n",
    "\n",
    "data_ps4 = data_actual.query('platform == \"PS4\" and critic_score >0 and user_score > 0')\n",
    "display(data_ps4.info())\n",
    "\n",
    "data_xone = data_actual.query('platform == \"XOne\" and critic_score >0 and user_score > 0')\n",
    "display(data_xone.info())\n",
    "\n",
    "data_3ds = data_actual.query('platform == \"3DS\" and critic_score >0 and user_score > 0')\n",
    "display(data_3ds.info())"
   ]
  },
  {
   "cell_type": "code",
   "execution_count": 36,
   "metadata": {},
   "outputs": [
    {
     "data": {
      "image/png": "[encoded data removed]",
      "text/plain": [
       "<Figure size 2000x1000 with 6 Axes>"
      ]
     },
     "metadata": {},
     "output_type": "display_data"
    }
   ],
   "source": [
    "fig, axes = plt.subplots (nrows = 2, ncols = 3, figsize = (20,10))\n",
    "\n",
    "data_ps4.plot(x='user_score',y='total_sales',kind='scatter', title = 'PS4', ax = axes[0,0])\n",
    "data_ps4.plot(x='critic_score',y='total_sales',kind='scatter', title = 'PS4', ax = axes[1,0])\n",
    "\n",
    "data_xone.plot(x='user_score',y='total_sales',kind='scatter', title = 'XOne', ax = axes[0,1])\n",
    "data_xone.plot(x='critic_score',y='total_sales',kind='scatter', title = 'XOne', ax = axes[1,1])\n",
    "\n",
    "data_3ds.plot(x='user_score',y='total_sales',kind='scatter', title = '3DS', ax = axes[0,2])\n",
    "data_3ds.plot(x='critic_score',y='total_sales',kind='scatter', title = '3DS', ax = axes[1,2])\n",
    "\n",
    "\n",
    "plt.show()"
   ]
  },
  {
   "cell_type": "code",
   "execution_count": 37,
   "metadata": {},
   "outputs": [
    {
     "name": "stdout",
     "output_type": "stream",
     "text": [
      "PS4: корреляция между оценкой пользователей и продажами равна -0.03362497596528883\n",
      "XOne: корреляция между оценкой пользователей и продажами равна -0.09400318326920862\n",
      "3DS: корреляция между оценкой пользователей и продажами равна 0.23208872237663591\n",
      "\n",
      "PS4: корреляция между оценкой критиков и продажами равна 0.4058948014583661\n",
      "XOne: корреляция между оценкой критиков и продажами равна 0.4104220356129637\n",
      "3DS: корреляция между оценкой критиков и продажами равна 0.33890386446332127\n"
     ]
    }
   ],
   "source": [
    "print('PS4: корреляция между оценкой пользователей и продажами равна',\n",
    "      data_ps4['user_score'].corr(data_ps4['total_sales']))\n",
    "print('XOne: корреляция между оценкой пользователей и продажами равна',\n",
    "      data_xone['user_score'].corr(data_xone['total_sales']))\n",
    "print('3DS: корреляция между оценкой пользователей и продажами равна',\n",
    "      data_3ds['user_score'].corr(data_3ds['total_sales']))  \n",
    "print ()\n",
    "\n",
    "print('PS4: корреляция между оценкой критиков и продажами равна',\n",
    "      data_ps4['critic_score'].corr(data_ps4['total_sales']))\n",
    "print('XOne: корреляция между оценкой критиков и продажами равна',\n",
    "      data_xone['critic_score'].corr(data_xone['total_sales']))\n",
    "print('3DS: корреляция между оценкой критиков и продажами равна',\n",
    "      data_3ds['critic_score'].corr(data_3ds['total_sales']))"
   ]
  },
  {
   "cell_type": "markdown",
   "metadata": {},
   "source": [
    "**Вывод:**  \n",
    "Оценки пользователей и критиков по-разному влияют на продажи:  \n",
    "- Корреляция между оценкой пользователей и продажами для трех платформ очень слабая.\n",
    "- Корреляция между оценкой критиков и продажами для трех платформ слабая.\n",
    "Оценка критиков сильнее влияет на продажи на платформах, чем оценка пользователей.  \n",
    "- Также можно отметить, что у 3DS значения корреляции по оценкам пользователей и критиков довольно близки, в то время как для PS4 и XOne они сильно отличаются."
   ]
  },
  {
   "cell_type": "markdown",
   "metadata": {},
   "source": [
    "##### Распределение игр по жанрам"
   ]
  },
  {
   "cell_type": "code",
   "execution_count": 38,
   "metadata": {},
   "outputs": [],
   "source": [
    "mean_sales_genre = data_actual.groupby('genre')['total_sales'].mean().sort_values()"
   ]
  },
  {
   "cell_type": "code",
   "execution_count": 39,
   "metadata": {},
   "outputs": [
    {
     "data": {
      "image/png": "[encoded data removed]",
      "text/plain": [
       "<Figure size 640x480 with 1 Axes>"
      ]
     },
     "metadata": {},
     "output_type": "display_data"
    }
   ],
   "source": [
    "plt.bar(mean_sales_genre.index, mean_sales_genre.values)\n",
    "plt.xlabel('Жанр')\n",
    "plt.ylabel('Средние продажи')\n",
    "plt.title('Средние продажи по жанрам')\n",
    "plt.xticks(rotation=90)  \n",
    "plt.show()"
   ]
  },
  {
   "cell_type": "markdown",
   "metadata": {},
   "source": [
    "**Вывод:**  \n",
    "Жанры с наименьшими средними продажами - Puzzle, Strategy и Adventure.  \n",
    "У жанров Simulation, Fighting, Racing, Role-Playing, Sports значения средних продаж достаточно близки.  \n",
    "Самые высокие средние продажи у жанров Shooter и Platform. "
   ]
  },
  {
   "cell_type": "markdown",
   "metadata": {},
   "source": [
    "##### Промежуточный вывод:"
   ]
  },
  {
   "cell_type": "markdown",
   "metadata": {},
   "source": [
    "**1) Динамика выпуска игр по годам**  \n",
    "До 1994г количество новых игр было совсем небольшим. Рост наблюдается с 1994г со всплесками - с 2000 по 2002г и с 2007 по 2009г. После 2009г количество новых игр пошло на спад.\n",
    "\n",
    "**2) Как менялись продажи по платформам**  \n",
    "Жизненный цикл каждой платформы составляет около 7 лет.\n",
    "Новая версия платформы запускается примерно каждые 5-6 лет, при этом предыдущая версия продолжает поддерживаться еще примерно такой же срок.\n",
    "\n",
    "**3) Какие платформы лидируют по продажам**  \n",
    "Наблюдается нисходящий тренд выручки по платформам. На 2016г лидирующая платформа - PS4, затем - XOne и 3DS.\n",
    "\n",
    "**4) Распределение выручки по платформам**  \n",
    "График ящик с усами подтверждает лидеров в платформах - PS4, XOne. У WiiU значения медианы и квартилей выше, чем у 3DS, однако у последней наблюдается больше выбросов.\n",
    "\n",
    "**5) Влияние отзывов пользователей и критиков на продажи внутри популярных платформ**  \n",
    "Оценка критиков (слабая корреляция) сильнее влияет на продажи на платформах, чем оценка пользователей (очень слабая корреляция).\n",
    "У 3DS значения корреляции по оценкам пользователей и критиков довольно близки, в то время как для PS4 и XOne они сильно отличаются.\n",
    "\n",
    "**6) Распределение игр по жанрам**  \n",
    "Жанры с наименьшими средними продажами - Puzzle, Strategy и Adventure.\n",
    "У жанров Simulation, Fighting, Racing, Role-Playing, Sports значения средних продаж достаточно близки.\n",
    "Самые высокие средние продажи у жанров Shooter и Platform."
   ]
  },
  {
   "cell_type": "markdown",
   "metadata": {},
   "source": [
    "#### Шаг 4. Составьте портрет пользователя каждого региона"
   ]
  },
  {
   "cell_type": "markdown",
   "metadata": {},
   "source": [
    "##### Самые популярные платформы (топ-5) для пользователя каждого региона (NA, EU, JP)"
   ]
  },
  {
   "cell_type": "code",
   "execution_count": 40,
   "metadata": {},
   "outputs": [],
   "source": [
    "na_top_platforms = data_actual.groupby('platform')['na_sales'].sum().sort_values(ascending=False)\n",
    "eu_top_platforms = data_actual.groupby('platform')['eu_sales'].sum().sort_values(ascending=False)\n",
    "jp_top_platforms = data_actual.groupby('platform')['jp_sales'].sum().sort_values(ascending=False)"
   ]
  },
  {
   "cell_type": "code",
   "execution_count": 41,
   "metadata": {},
   "outputs": [
    {
     "data": {
      "image/png": "[encoded data removed]",
      "text/plain": [
       "<Figure size 500x500 with 1 Axes>"
      ]
     },
     "metadata": {},
     "output_type": "display_data"
    },
    {
     "data": {
      "text/plain": [
       "platform\n",
       "PS4     108.74\n",
       "XOne     93.12\n",
       "3DS      82.65\n",
       "WiiU     38.10\n",
       "PC       29.88\n",
       "PSV      12.47\n",
       "Name: na_sales, dtype: float64"
      ]
     },
     "metadata": {},
     "output_type": "display_data"
    }
   ],
   "source": [
    "na_top_platforms.plot(\n",
    "    kind='pie',\n",
    "    figsize = (5,5),\n",
    "    legend = True,\n",
    "    autopct='%.1f%%',\n",
    "    title = 'Распределение платформ в Северной Америке'\n",
    ")\n",
    "\n",
    "plt.show()\n",
    "display(na_top_platforms)"
   ]
  },
  {
   "cell_type": "code",
   "execution_count": 42,
   "metadata": {},
   "outputs": [
    {
     "data": {
      "image/png": "[encoded data removed]",
      "text/plain": [
       "<Figure size 500x500 with 1 Axes>"
      ]
     },
     "metadata": {},
     "output_type": "display_data"
    },
    {
     "data": {
      "text/plain": [
       "platform\n",
       "PS4     141.09\n",
       "3DS      61.27\n",
       "PC       56.70\n",
       "XOne     51.59\n",
       "WiiU     25.13\n",
       "PSV      13.07\n",
       "Name: eu_sales, dtype: float64"
      ]
     },
     "metadata": {},
     "output_type": "display_data"
    }
   ],
   "source": [
    "eu_top_platforms.plot(\n",
    "    kind='pie',\n",
    "    figsize = (5,5),\n",
    "    legend = True,\n",
    "    autopct='%.1f%%',\n",
    "    title = 'Распределение платформ в Европе'\n",
    ")\n",
    "\n",
    "plt.show()\n",
    "display(eu_top_platforms)"
   ]
  },
  {
   "cell_type": "code",
   "execution_count": 43,
   "metadata": {},
   "outputs": [
    {
     "data": {
      "image/png": "[encoded data removed]",
      "text/plain": [
       "<Figure size 500x500 with 1 Axes>"
      ]
     },
     "metadata": {},
     "output_type": "display_data"
    },
    {
     "data": {
      "text/plain": [
       "platform\n",
       "3DS     100.62\n",
       "PSV      21.84\n",
       "PS4      15.96\n",
       "WiiU     13.01\n",
       "XOne      0.34\n",
       "PC        0.00\n",
       "Name: jp_sales, dtype: float64"
      ]
     },
     "metadata": {},
     "output_type": "display_data"
    }
   ],
   "source": [
    "jp_top_platforms.plot(\n",
    "    kind='pie',\n",
    "    figsize = (5,5),\n",
    "    legend = True,\n",
    "    autopct='%.1f%%',\n",
    "    title = 'Распределение платформ в Японии'\n",
    ")\n",
    "\n",
    "plt.show()\n",
    "display(jp_top_platforms)"
   ]
  },
  {
   "cell_type": "code",
   "execution_count": 44,
   "metadata": {},
   "outputs": [
    {
     "data": {
      "text/html": [
       "<div>\n",
       "<style scoped>\n",
       "    .dataframe tbody tr th:only-of-type {\n",
       "        vertical-align: middle;\n",
       "    }\n",
       "\n",
       "    .dataframe tbody tr th {\n",
       "        vertical-align: top;\n",
       "    }\n",
       "\n",
       "    .dataframe thead th {\n",
       "        text-align: right;\n",
       "    }\n",
       "</style>\n",
       "<table border=\"1\" class=\"dataframe\">\n",
       "  <thead>\n",
       "    <tr style=\"text-align: right;\">\n",
       "      <th></th>\n",
       "      <th>eu_sales</th>\n",
       "      <th>jp_sales</th>\n",
       "      <th>na_sales</th>\n",
       "    </tr>\n",
       "    <tr>\n",
       "      <th>platform</th>\n",
       "      <th></th>\n",
       "      <th></th>\n",
       "      <th></th>\n",
       "    </tr>\n",
       "  </thead>\n",
       "  <tbody>\n",
       "    <tr>\n",
       "      <th>3DS</th>\n",
       "      <td>61.27</td>\n",
       "      <td>100.62</td>\n",
       "      <td>82.65</td>\n",
       "    </tr>\n",
       "    <tr>\n",
       "      <th>PC</th>\n",
       "      <td>56.70</td>\n",
       "      <td>0.00</td>\n",
       "      <td>29.88</td>\n",
       "    </tr>\n",
       "    <tr>\n",
       "      <th>PS4</th>\n",
       "      <td>141.09</td>\n",
       "      <td>15.96</td>\n",
       "      <td>108.74</td>\n",
       "    </tr>\n",
       "    <tr>\n",
       "      <th>PSV</th>\n",
       "      <td>13.07</td>\n",
       "      <td>21.84</td>\n",
       "      <td>12.47</td>\n",
       "    </tr>\n",
       "    <tr>\n",
       "      <th>WiiU</th>\n",
       "      <td>25.13</td>\n",
       "      <td>13.01</td>\n",
       "      <td>38.10</td>\n",
       "    </tr>\n",
       "    <tr>\n",
       "      <th>XOne</th>\n",
       "      <td>51.59</td>\n",
       "      <td>0.34</td>\n",
       "      <td>93.12</td>\n",
       "    </tr>\n",
       "  </tbody>\n",
       "</table>\n",
       "</div>"
      ],
      "text/plain": [
       "          eu_sales  jp_sales  na_sales\n",
       "platform                              \n",
       "3DS          61.27    100.62     82.65\n",
       "PC           56.70      0.00     29.88\n",
       "PS4         141.09     15.96    108.74\n",
       "PSV          13.07     21.84     12.47\n",
       "WiiU         25.13     13.01     38.10\n",
       "XOne         51.59      0.34     93.12"
      ]
     },
     "execution_count": 44,
     "metadata": {},
     "output_type": "execute_result"
    }
   ],
   "source": [
    "platform_share_region = data_actual.pivot_table(\n",
    "    index = 'platform',\n",
    "    values = ['na_sales', 'eu_sales','jp_sales'],\n",
    "    aggfunc = 'sum')\n",
    "\n",
    "platform_share_region"
   ]
  },
  {
   "cell_type": "code",
   "execution_count": 45,
   "metadata": {},
   "outputs": [
    {
     "name": "stdout",
     "output_type": "stream",
     "text": [
      "Доля продаж платформ по регионам\n"
     ]
    },
    {
     "data": {
      "text/html": [
       "<div>\n",
       "<style scoped>\n",
       "    .dataframe tbody tr th:only-of-type {\n",
       "        vertical-align: middle;\n",
       "    }\n",
       "\n",
       "    .dataframe tbody tr th {\n",
       "        vertical-align: top;\n",
       "    }\n",
       "\n",
       "    .dataframe thead th {\n",
       "        text-align: right;\n",
       "    }\n",
       "</style>\n",
       "<table border=\"1\" class=\"dataframe\">\n",
       "  <thead>\n",
       "    <tr style=\"text-align: right;\">\n",
       "      <th></th>\n",
       "      <th>eu_sales</th>\n",
       "      <th>jp_sales</th>\n",
       "      <th>na_sales</th>\n",
       "    </tr>\n",
       "    <tr>\n",
       "      <th>platform</th>\n",
       "      <th></th>\n",
       "      <th></th>\n",
       "      <th></th>\n",
       "    </tr>\n",
       "  </thead>\n",
       "  <tbody>\n",
       "    <tr>\n",
       "      <th>3DS</th>\n",
       "      <td>0.250552</td>\n",
       "      <td>0.411466</td>\n",
       "      <td>0.337982</td>\n",
       "    </tr>\n",
       "    <tr>\n",
       "      <th>PC</th>\n",
       "      <td>0.654886</td>\n",
       "      <td>0.000000</td>\n",
       "      <td>0.345114</td>\n",
       "    </tr>\n",
       "    <tr>\n",
       "      <th>PS4</th>\n",
       "      <td>0.530833</td>\n",
       "      <td>0.060047</td>\n",
       "      <td>0.409120</td>\n",
       "    </tr>\n",
       "    <tr>\n",
       "      <th>PSV</th>\n",
       "      <td>0.275855</td>\n",
       "      <td>0.460954</td>\n",
       "      <td>0.263191</td>\n",
       "    </tr>\n",
       "    <tr>\n",
       "      <th>WiiU</th>\n",
       "      <td>0.329617</td>\n",
       "      <td>0.170645</td>\n",
       "      <td>0.499738</td>\n",
       "    </tr>\n",
       "    <tr>\n",
       "      <th>XOne</th>\n",
       "      <td>0.355670</td>\n",
       "      <td>0.002344</td>\n",
       "      <td>0.641986</td>\n",
       "    </tr>\n",
       "  </tbody>\n",
       "</table>\n",
       "</div>"
      ],
      "text/plain": [
       "          eu_sales  jp_sales  na_sales\n",
       "platform                              \n",
       "3DS       0.250552  0.411466  0.337982\n",
       "PC        0.654886  0.000000  0.345114\n",
       "PS4       0.530833  0.060047  0.409120\n",
       "PSV       0.275855  0.460954  0.263191\n",
       "WiiU      0.329617  0.170645  0.499738\n",
       "XOne      0.355670  0.002344  0.641986"
      ]
     },
     "metadata": {},
     "output_type": "display_data"
    }
   ],
   "source": [
    "def calculate_percent(row):\n",
    "    total = row.sum()\n",
    "    return row / total\n",
    "\n",
    "platform_share_region_percent = platform_share_region.apply(calculate_percent, axis=1)\n",
    "\n",
    "print('Доля продаж платформ по регионам')\n",
    "display(platform_share_region_percent)"
   ]
  },
  {
   "cell_type": "markdown",
   "metadata": {},
   "source": [
    "**Вывод:**  \n",
    "В Северной Америке и Европе топ-5 платформ совпадают: это PS4, XOne, 3DS, WiiU и PC c лидером PS4.  \n",
    "В Японии есть отличия: в топ-5 попадает PSV вместо XOne и PC. Лидером является 3DS - 66% рынка, что в 3 раза больше, чем на рынках Америки и Европы.\n",
    "\n",
    "Оценивая долю продаж каждой платформы по регионам, можно отметить, что в процентном соотношение PS4 намного популярнее в Америке и Европе, чем в Японии. У PC основной рынок - Европа (65%), у XOne -  Северная Америка (64%)."
   ]
  },
  {
   "cell_type": "markdown",
   "metadata": {},
   "source": [
    "##### Самые популярные жанры (топ-5) для пользователя каждого региона (NA, EU, JP)"
   ]
  },
  {
   "cell_type": "code",
   "execution_count": 46,
   "metadata": {},
   "outputs": [],
   "source": [
    "na_top_genre = data_actual.groupby('genre')['na_sales'].sum().sort_values(ascending=False)\n",
    "eu_top_genre = data_actual.groupby('genre')['eu_sales'].sum().sort_values(ascending=False)\n",
    "jp_top_genre = data_actual.groupby('genre')['jp_sales'].sum().sort_values(ascending=False)"
   ]
  },
  {
   "cell_type": "code",
   "execution_count": 47,
   "metadata": {},
   "outputs": [
    {
     "data": {
      "image/png": "[encoded data removed]",
      "text/plain": [
       "<Figure size 500x500 with 1 Axes>"
      ]
     },
     "metadata": {},
     "output_type": "display_data"
    },
    {
     "data": {
      "text/plain": [
       "genre\n",
       "Action          93.41\n",
       "Shooter         81.82\n",
       "Role-Playing    52.00\n",
       "Sports          40.04\n",
       "Platform        26.97\n",
       "Racing          17.72\n",
       "Misc            17.18\n",
       "Fighting        14.05\n",
       "Simulation      10.43\n",
       "Adventure        5.17\n",
       "Strategy         4.14\n",
       "Puzzle           2.03\n",
       "Name: na_sales, dtype: float64"
      ]
     },
     "metadata": {},
     "output_type": "display_data"
    }
   ],
   "source": [
    "na_top_genre.plot(\n",
    "    kind='pie',\n",
    "    figsize = (5,5),\n",
    "    autopct='%.1f%%',\n",
    "    title = 'Распределение жанров в Северной Америке'\n",
    ")\n",
    "\n",
    "plt.show()\n",
    "display(na_top_genre)"
   ]
  },
  {
   "cell_type": "code",
   "execution_count": 48,
   "metadata": {},
   "outputs": [
    {
     "data": {
      "image/png": "[encoded data removed]",
      "text/plain": [
       "<Figure size 500x500 with 1 Axes>"
      ]
     },
     "metadata": {},
     "output_type": "display_data"
    },
    {
     "data": {
      "text/plain": [
       "genre\n",
       "Action          90.21\n",
       "Shooter         72.92\n",
       "Sports          43.66\n",
       "Role-Playing    42.91\n",
       "Platform        22.30\n",
       "Racing          22.04\n",
       "Simulation      17.50\n",
       "Misc            12.70\n",
       "Fighting         7.87\n",
       "Adventure        7.01\n",
       "Strategy         6.73\n",
       "Puzzle           3.00\n",
       "Name: eu_sales, dtype: float64"
      ]
     },
     "metadata": {},
     "output_type": "display_data"
    }
   ],
   "source": [
    "eu_top_genre.plot(\n",
    "    kind='pie',\n",
    "    figsize = (5,5),\n",
    "    autopct='%.1f%%',\n",
    "    title = 'Распределение жанров в Европе'\n",
    ")\n",
    "\n",
    "plt.show()\n",
    "display(eu_top_genre)"
   ]
  },
  {
   "cell_type": "code",
   "execution_count": 49,
   "metadata": {},
   "outputs": [
    {
     "data": {
      "image/png": "[encoded data removed]",
      "text/plain": [
       "<Figure size 600x600 with 1 Axes>"
      ]
     },
     "metadata": {},
     "output_type": "display_data"
    },
    {
     "data": {
      "text/plain": [
       "genre\n",
       "Role-Playing    54.19\n",
       "Action          36.54\n",
       "Platform        10.71\n",
       "Misc            10.70\n",
       "Simulation      10.64\n",
       "Fighting         5.67\n",
       "Adventure        5.57\n",
       "Shooter          4.95\n",
       "Racing           4.60\n",
       "Sports           4.54\n",
       "Puzzle           2.07\n",
       "Strategy         1.59\n",
       "Name: jp_sales, dtype: float64"
      ]
     },
     "metadata": {},
     "output_type": "display_data"
    }
   ],
   "source": [
    "jp_top_genre.plot(\n",
    "    kind='pie',\n",
    "    figsize = (6,6),\n",
    "    autopct='%.1f%%',\n",
    "    title = 'Распределение жанров в Японии'\n",
    ")\n",
    "\n",
    "plt.show()\n",
    "display(jp_top_genre)"
   ]
  },
  {
   "cell_type": "code",
   "execution_count": 50,
   "metadata": {},
   "outputs": [
    {
     "data": {
      "text/html": [
       "<div>\n",
       "<style scoped>\n",
       "    .dataframe tbody tr th:only-of-type {\n",
       "        vertical-align: middle;\n",
       "    }\n",
       "\n",
       "    .dataframe tbody tr th {\n",
       "        vertical-align: top;\n",
       "    }\n",
       "\n",
       "    .dataframe thead th {\n",
       "        text-align: right;\n",
       "    }\n",
       "</style>\n",
       "<table border=\"1\" class=\"dataframe\">\n",
       "  <thead>\n",
       "    <tr style=\"text-align: right;\">\n",
       "      <th></th>\n",
       "      <th>eu_sales</th>\n",
       "      <th>jp_sales</th>\n",
       "      <th>na_sales</th>\n",
       "    </tr>\n",
       "    <tr>\n",
       "      <th>genre</th>\n",
       "      <th></th>\n",
       "      <th></th>\n",
       "      <th></th>\n",
       "    </tr>\n",
       "  </thead>\n",
       "  <tbody>\n",
       "    <tr>\n",
       "      <th>Action</th>\n",
       "      <td>90.21</td>\n",
       "      <td>36.54</td>\n",
       "      <td>93.41</td>\n",
       "    </tr>\n",
       "    <tr>\n",
       "      <th>Adventure</th>\n",
       "      <td>7.01</td>\n",
       "      <td>5.57</td>\n",
       "      <td>5.17</td>\n",
       "    </tr>\n",
       "    <tr>\n",
       "      <th>Fighting</th>\n",
       "      <td>7.87</td>\n",
       "      <td>5.67</td>\n",
       "      <td>14.05</td>\n",
       "    </tr>\n",
       "    <tr>\n",
       "      <th>Misc</th>\n",
       "      <td>12.70</td>\n",
       "      <td>10.70</td>\n",
       "      <td>17.18</td>\n",
       "    </tr>\n",
       "    <tr>\n",
       "      <th>Platform</th>\n",
       "      <td>22.30</td>\n",
       "      <td>10.71</td>\n",
       "      <td>26.97</td>\n",
       "    </tr>\n",
       "    <tr>\n",
       "      <th>Puzzle</th>\n",
       "      <td>3.00</td>\n",
       "      <td>2.07</td>\n",
       "      <td>2.03</td>\n",
       "    </tr>\n",
       "    <tr>\n",
       "      <th>Racing</th>\n",
       "      <td>22.04</td>\n",
       "      <td>4.60</td>\n",
       "      <td>17.72</td>\n",
       "    </tr>\n",
       "    <tr>\n",
       "      <th>Role-Playing</th>\n",
       "      <td>42.91</td>\n",
       "      <td>54.19</td>\n",
       "      <td>52.00</td>\n",
       "    </tr>\n",
       "    <tr>\n",
       "      <th>Shooter</th>\n",
       "      <td>72.92</td>\n",
       "      <td>4.95</td>\n",
       "      <td>81.82</td>\n",
       "    </tr>\n",
       "    <tr>\n",
       "      <th>Simulation</th>\n",
       "      <td>17.50</td>\n",
       "      <td>10.64</td>\n",
       "      <td>10.43</td>\n",
       "    </tr>\n",
       "    <tr>\n",
       "      <th>Sports</th>\n",
       "      <td>43.66</td>\n",
       "      <td>4.54</td>\n",
       "      <td>40.04</td>\n",
       "    </tr>\n",
       "    <tr>\n",
       "      <th>Strategy</th>\n",
       "      <td>6.73</td>\n",
       "      <td>1.59</td>\n",
       "      <td>4.14</td>\n",
       "    </tr>\n",
       "  </tbody>\n",
       "</table>\n",
       "</div>"
      ],
      "text/plain": [
       "              eu_sales  jp_sales  na_sales\n",
       "genre                                     \n",
       "Action           90.21     36.54     93.41\n",
       "Adventure         7.01      5.57      5.17\n",
       "Fighting          7.87      5.67     14.05\n",
       "Misc             12.70     10.70     17.18\n",
       "Platform         22.30     10.71     26.97\n",
       "Puzzle            3.00      2.07      2.03\n",
       "Racing           22.04      4.60     17.72\n",
       "Role-Playing     42.91     54.19     52.00\n",
       "Shooter          72.92      4.95     81.82\n",
       "Simulation       17.50     10.64     10.43\n",
       "Sports           43.66      4.54     40.04\n",
       "Strategy          6.73      1.59      4.14"
      ]
     },
     "execution_count": 50,
     "metadata": {},
     "output_type": "execute_result"
    }
   ],
   "source": [
    "genre_share_region = data_actual.pivot_table(\n",
    "    index = 'genre',\n",
    "    values = ['na_sales', 'eu_sales','jp_sales'],\n",
    "    aggfunc = 'sum')\n",
    "\n",
    "genre_share_region"
   ]
  },
  {
   "cell_type": "code",
   "execution_count": 51,
   "metadata": {},
   "outputs": [
    {
     "name": "stdout",
     "output_type": "stream",
     "text": [
      "Доля продаж жанров по регионам\n"
     ]
    },
    {
     "data": {
      "text/html": [
       "<div>\n",
       "<style scoped>\n",
       "    .dataframe tbody tr th:only-of-type {\n",
       "        vertical-align: middle;\n",
       "    }\n",
       "\n",
       "    .dataframe tbody tr th {\n",
       "        vertical-align: top;\n",
       "    }\n",
       "\n",
       "    .dataframe thead th {\n",
       "        text-align: right;\n",
       "    }\n",
       "</style>\n",
       "<table border=\"1\" class=\"dataframe\">\n",
       "  <thead>\n",
       "    <tr style=\"text-align: right;\">\n",
       "      <th></th>\n",
       "      <th>eu_sales</th>\n",
       "      <th>jp_sales</th>\n",
       "      <th>na_sales</th>\n",
       "    </tr>\n",
       "    <tr>\n",
       "      <th>genre</th>\n",
       "      <th></th>\n",
       "      <th></th>\n",
       "      <th></th>\n",
       "    </tr>\n",
       "  </thead>\n",
       "  <tbody>\n",
       "    <tr>\n",
       "      <th>Action</th>\n",
       "      <td>0.409747</td>\n",
       "      <td>0.165970</td>\n",
       "      <td>0.424282</td>\n",
       "    </tr>\n",
       "    <tr>\n",
       "      <th>Adventure</th>\n",
       "      <td>0.394930</td>\n",
       "      <td>0.313803</td>\n",
       "      <td>0.291268</td>\n",
       "    </tr>\n",
       "    <tr>\n",
       "      <th>Fighting</th>\n",
       "      <td>0.285248</td>\n",
       "      <td>0.205509</td>\n",
       "      <td>0.509242</td>\n",
       "    </tr>\n",
       "    <tr>\n",
       "      <th>Misc</th>\n",
       "      <td>0.312962</td>\n",
       "      <td>0.263677</td>\n",
       "      <td>0.423361</td>\n",
       "    </tr>\n",
       "    <tr>\n",
       "      <th>Platform</th>\n",
       "      <td>0.371791</td>\n",
       "      <td>0.178560</td>\n",
       "      <td>0.449650</td>\n",
       "    </tr>\n",
       "    <tr>\n",
       "      <th>Puzzle</th>\n",
       "      <td>0.422535</td>\n",
       "      <td>0.291549</td>\n",
       "      <td>0.285915</td>\n",
       "    </tr>\n",
       "    <tr>\n",
       "      <th>Racing</th>\n",
       "      <td>0.496844</td>\n",
       "      <td>0.103697</td>\n",
       "      <td>0.399459</td>\n",
       "    </tr>\n",
       "    <tr>\n",
       "      <th>Role-Playing</th>\n",
       "      <td>0.287793</td>\n",
       "      <td>0.363447</td>\n",
       "      <td>0.348759</td>\n",
       "    </tr>\n",
       "    <tr>\n",
       "      <th>Shooter</th>\n",
       "      <td>0.456635</td>\n",
       "      <td>0.030998</td>\n",
       "      <td>0.512368</td>\n",
       "    </tr>\n",
       "    <tr>\n",
       "      <th>Simulation</th>\n",
       "      <td>0.453721</td>\n",
       "      <td>0.275862</td>\n",
       "      <td>0.270417</td>\n",
       "    </tr>\n",
       "    <tr>\n",
       "      <th>Sports</th>\n",
       "      <td>0.494787</td>\n",
       "      <td>0.051451</td>\n",
       "      <td>0.453762</td>\n",
       "    </tr>\n",
       "    <tr>\n",
       "      <th>Strategy</th>\n",
       "      <td>0.540128</td>\n",
       "      <td>0.127608</td>\n",
       "      <td>0.332263</td>\n",
       "    </tr>\n",
       "  </tbody>\n",
       "</table>\n",
       "</div>"
      ],
      "text/plain": [
       "              eu_sales  jp_sales  na_sales\n",
       "genre                                     \n",
       "Action        0.409747  0.165970  0.424282\n",
       "Adventure     0.394930  0.313803  0.291268\n",
       "Fighting      0.285248  0.205509  0.509242\n",
       "Misc          0.312962  0.263677  0.423361\n",
       "Platform      0.371791  0.178560  0.449650\n",
       "Puzzle        0.422535  0.291549  0.285915\n",
       "Racing        0.496844  0.103697  0.399459\n",
       "Role-Playing  0.287793  0.363447  0.348759\n",
       "Shooter       0.456635  0.030998  0.512368\n",
       "Simulation    0.453721  0.275862  0.270417\n",
       "Sports        0.494787  0.051451  0.453762\n",
       "Strategy      0.540128  0.127608  0.332263"
      ]
     },
     "metadata": {},
     "output_type": "display_data"
    }
   ],
   "source": [
    "def calculate_percent_genre(row):\n",
    "    total = row.sum()\n",
    "    return row / total\n",
    "\n",
    "genre_share_region_percent = genre_share_region.apply(calculate_percent_genre, axis=1)\n",
    "\n",
    "print('Доля продаж жанров по регионам')\n",
    "display(genre_share_region_percent)"
   ]
  },
  {
   "cell_type": "markdown",
   "metadata": {},
   "source": [
    "**Вывод:**  \n",
    "Топ 5 жанров в Америке и Европе: Action, Shooter, Role-Playing, Sports, Platform  \n",
    "Топ 5 жанров в Японии: Role-Playing, Action, Platform, Misc, Simulation  \n",
    "Оценивая долю продаж жанров по регионам, можно отметить, что Shooter и Sports почти не присутствуют в Японии."
   ]
  },
  {
   "cell_type": "markdown",
   "metadata": {},
   "source": [
    "##### Влияет ли рейтинг ESRB на продажи в отдельном регионе?\n"
   ]
  },
  {
   "cell_type": "code",
   "execution_count": 52,
   "metadata": {},
   "outputs": [
    {
     "data": {
      "image/png": "[encoded data removed]",
      "text/plain": [
       "<Figure size 640x480 with 1 Axes>"
      ]
     },
     "metadata": {},
     "output_type": "display_data"
    },
    {
     "data": {
      "image/png": "[encoded data removed]",
      "text/plain": [
       "<Figure size 640x480 with 1 Axes>"
      ]
     },
     "metadata": {},
     "output_type": "display_data"
    },
    {
     "data": {
      "image/png": "[encoded data removed]",
      "text/plain": [
       "<Figure size 640x480 with 1 Axes>"
      ]
     },
     "metadata": {},
     "output_type": "display_data"
    }
   ],
   "source": [
    "data.plot(x = 'rating', y = 'eu_sales', kind = 'scatter', title = 'Европа')\n",
    "data.plot(x = 'rating', y = 'na_sales', kind = 'scatter', title = 'Северная Америка')\n",
    "data.plot(x = 'rating', y = 'jp_sales', kind = 'scatter', title = 'Япония')\n",
    "\n",
    "plt.show()"
   ]
  },
  {
   "cell_type": "markdown",
   "metadata": {},
   "source": [
    "**Вывод:**  \n",
    "Согласно ESRB, рейтинги означают:  \n",
    "E - для всех  \n",
    "E 10+ - для лиц от 10 лет  \n",
    "M - для взрослых  \n",
    "T - для подростков  \n",
    "AO - 18+  \n",
    "KA - 6+  \n",
    "EC - для детей младшего возраста  \n",
    "RP - рейтинг ожидается  \n",
    "\n",
    "Меньше продаж наблюдается у игр с рейтингами KA, AO, EC, RP, больше продаж - у E, M, T, E10+.  \n",
    "В Японии наблюдается отличие у игр с \"tbd\" (рейтинг отсутствует), можно предположить, что в Японии рейтинг меньше влияет на продажи."
   ]
  },
  {
   "cell_type": "markdown",
   "metadata": {},
   "source": [
    "##### Промежуточный вывод:"
   ]
  },
  {
   "cell_type": "markdown",
   "metadata": {},
   "source": [
    "Топ жанры и платформы в Северной Америке и Европе совпадают, отличия наблюдаются в Японии.  \n",
    "\n",
    "В Северной Америке и Европе топ-5 платформ: PS4, XOne, 3DS, WiiU и PC c лидером PS4. В Японии в топ-5 попадает PSV вместо XOne и PC, лидером является 3DS - 66% рынка.  \n",
    "\n",
    "Топ 5 жанров в Америке и Европе: Action, Shooter, Role-Playing, Sports, Platform. Топ 5 жанров в Японии: Role-Playing, Action, Platform, Misc, Simulation.  \n",
    "\n",
    "Меньше продаж наблюдается у игр с рейтингами KA, AO, EC, RP, больше продаж - у E, M, T, E10+.\n",
    "В Японии наблюдается отличие у игр с \"tbd\" (рейтинг отсутствует), можно предположить, что в Японии рейтинг меньше влияет на продажи.\n"
   ]
  },
  {
   "cell_type": "markdown",
   "metadata": {},
   "source": [
    "#### Шаг 5. Проверьте гипотезы"
   ]
  },
  {
   "cell_type": "markdown",
   "metadata": {},
   "source": [
    "##### Средние пользовательские рейтинги платформ Xbox One и PC одинаковые"
   ]
  },
  {
   "cell_type": "markdown",
   "metadata": {},
   "source": [
    "Нулевая гипотеза - средние пользовательские рейтинги платформ Xbox One и PC равны  \n",
    "Альтернативная гипотеза - средние пользовательские рейтинги платформ Xbox One и PC не равны  \n",
    "Установим пороговое значение alpha в 5 %"
   ]
  },
  {
   "cell_type": "code",
   "execution_count": 53,
   "metadata": {},
   "outputs": [],
   "source": [
    "sample_XOne = data_actual.query('platform == \"XOne\" and user_score > 0')\n",
    "sample_PC = data_actual.query('platform == \"PC\" and user_score > 0')"
   ]
  },
  {
   "cell_type": "code",
   "execution_count": 54,
   "metadata": {},
   "outputs": [
    {
     "name": "stdout",
     "output_type": "stream",
     "text": [
      "p-значение: 0.6267602271422398\n",
      "Не получилось отвергнуть нулевую гипотезу\n"
     ]
    }
   ],
   "source": [
    "alpha = 0.05 \n",
    "\n",
    "results = st.ttest_ind(sample_XOne['user_score'], sample_PC['user_score'])\n",
    "\n",
    "print('p-значение:', results.pvalue)\n",
    "\n",
    "if results.pvalue < alpha:\n",
    "    print('Отвергаем нулевую гипотезу')\n",
    "else:\n",
    "    print('Не получилось отвергнуть нулевую гипотезу') "
   ]
  },
  {
   "cell_type": "markdown",
   "metadata": {},
   "source": [
    "**Вывод:**  \n",
    "На имеющихся данных, на уровне значимости 5% (уровне доверия 95%) нет оснований отвергнуть нулевую гипотезу в пользу альтернативы. Нельзя утверждать о том, что средние пользовательские рейтинги платформ Xbox One и PC не равны."
   ]
  },
  {
   "cell_type": "markdown",
   "metadata": {},
   "source": [
    "##### Средние пользовательские рейтинги жанров Action и Sports разные."
   ]
  },
  {
   "cell_type": "markdown",
   "metadata": {},
   "source": [
    "Нулевая гипотеза - средние пользовательские рейтинги жанров Action и Sports  равны  \n",
    "Альтернативная гипотеза - средние пользовательские рейтинги жанров Action и Sports не равны  \n",
    "Установим пороговое значение alpha в 5 %"
   ]
  },
  {
   "cell_type": "code",
   "execution_count": 55,
   "metadata": {},
   "outputs": [],
   "source": [
    "sample_action = data_actual.query('genre == \"Action\" and user_score > 0')\n",
    "sample_sports = data_actual.query('genre == \"Sports\" and user_score > 0')"
   ]
  },
  {
   "cell_type": "code",
   "execution_count": 56,
   "metadata": {},
   "outputs": [
    {
     "name": "stdout",
     "output_type": "stream",
     "text": [
      "p-значение: 3.7279566072817166e-13\n",
      "Отвергаем нулевую гипотезу\n"
     ]
    }
   ],
   "source": [
    "alpha = 0.05 \n",
    "\n",
    "results = st.ttest_ind(sample_action['user_score'], sample_sports['user_score'])\n",
    "\n",
    "print('p-значение:', results.pvalue)\n",
    "\n",
    "if results.pvalue < alpha:\n",
    "    print('Отвергаем нулевую гипотезу')\n",
    "else:\n",
    "    print('Не получилось отвергнуть нулевую гипотезу') "
   ]
  },
  {
   "cell_type": "markdown",
   "metadata": {},
   "source": [
    "**Вывод:**  \n",
    "На имеющихся данных, на уровне значимости 5% (уровне доверия 95%) есть основания отвергнуть нулевую гипотезу в пользу альтернативы. Средние пользовательские рейтинги жанров Action и Sports не равны"
   ]
  },
  {
   "cell_type": "markdown",
   "metadata": {},
   "source": [
    "##### Результаты"
   ]
  },
  {
   "cell_type": "markdown",
   "metadata": {},
   "source": [
    "Первая гипотеза: нельзя утверждать о том, что средние пользовательские рейтинги платформ Xbox One и PC не равны.  \n",
    "Вторая гипотеза: средние пользовательские рейтинги жанров Action и Sports не равны."
   ]
  },
  {
   "cell_type": "markdown",
   "metadata": {},
   "source": [
    "#### Шаг 6. Вывод"
   ]
  },
  {
   "cell_type": "markdown",
   "metadata": {},
   "source": [
    "Описание данных: из открытых источников доступны исторические данные до 2016 года о продажах игр, оценках пользователей и экспертов, жанрах и платформах (например, Xbox или PlayStation).\n",
    "\n",
    "В процессе предобработки данных была проведена следующая работа:  \n",
    "- Названия столбцов приведены к нижнему регистру.  \n",
    "- Изменены типы для данных для года выпуска (с float64 на Int64) и для оценки пользователей (с object на float64) для дальнейшей корректной работы с данными.  \n",
    "- Пропуски в наименовании имени и году выпуска не могут быть обработаны, строки с пропусками были удалены, что составило всего 1.6% от исходных данных.\n",
    "- В данных по оценкам пользователей пропущенные значения и TBD были заменены на нулевые значения с предположением, что 0 - отсутствие оценки.  \n",
    "- В данных по оценкам критиков пропущенные значения были заменены на нулевые значения с предположением, что 0 - отсутствие оценки.  \n",
    "- В данных по рейтингу пропущенные значения были заменены на TBD, так как рейтинг - категориальная переменная. Предполагаем, что TBD - отсутствие рейтинга. \n",
    "- Добавлен столбец с суммарными продажами по всем регионам.  \n",
    "\n",
    "В процессе исследовательского анализа выявлены следующие результаты:  \n",
    "1) Динамика выпуска игр по годам  \n",
    "До 1994г количество новых игр было совсем небольшим. Первая волна роста наблюдается с 1994г по 2000г.\n",
    "Значительные изменения на игровом рынке начали происходить с 2000г. Можно отметить несколько \"игровых бумов\" - с 2000 по 2002г и с 2007 по 2009г. Однако, после 2009г количество новых игр пошло на спад и на момент 2014-2016 годов вернулось на уровень 2001г.\n",
    "\n",
    "2) Как менялись продажи по платформам  \n",
    "Жизненный цикл каждой платформы составляет около 7 лет.\n",
    "Новая версия платформы запускается примерно каждые 5-6 лет, при этом предыдущая версия продолжает поддерживаться еще примерно такой же срок.\n",
    "\n",
    "3) Какие платформы лидируют по продажам  \n",
    "Наблюдается нисходящий тренд выручки по платформам. На 2016г лидирующая платформа - PS4, затем - XOne и 3DS.\n",
    "\n",
    "4) Распределение выручки по платформам  \n",
    "График ящик с усами подтверждает лидеров в платформах - PS4, XOne. У WiiU значения медианы и квартилей выше, чем у 3DS, однако у последней наблюдается больше выбросов.\n",
    "\n",
    "5) Влияние отзывов пользователей и критиков на продажи внутри популярных платформ  \n",
    "Оценка критиков (слабая корреляция) сильнее влияет на продажи на платформах, чем оценка пользователей (очень слабая корреляция).\n",
    "У 3DS значения корреляции по оценкам пользователей и критиков довольно близки, в то время как для PS4 и XOne они сильно отличаются.\n",
    "\n",
    "6) Распределение игр по жанрам  \n",
    "Жанры с наименьшими средними продажами - Puzzle, Strategy и Adventure.\n",
    "У жанров Simulation, Fighting, Racing, Role-Playing, Sports значения средних продаж достаточно близки.\n",
    "Самые высокие средние продажи у жанров Shooter и Platform.\n",
    "\n",
    "Был составлен портрет пользователей по регионам:  \n",
    "\n",
    "Топ жанры и платформы в Северной Америке и Европе совпадают, отличия наблюдаются в Японии.\n",
    "В Северной Америке и Европе топ-5 платформ: PS4, XOne, 3DS, WiiU и PC c лидером PS4. В Японии в топ-5 попадает PSV вместо XOne и PC, лидером является 3DS - 66% рынка.  \n",
    "Топ 5 жанров в Америке и Европе: Action, Shooter, Role-Playing, Sports, Platform. Топ 5 жанров в Японии: Role-Playing, Action, Platform, Misc, Simulation.  \n",
    "Меньше продаж наблюдается у игр с рейтингами KA, AO, EC, RP, больше продаж - у E, M, T, E10+. В Японии наблюдается отличие у игр с \"tbd\" (рейтинг отсутствует), можно предположить, что в Японии рейтинг меньше влияет на продажи.  \n",
    "\n",
    "Были проверены следующие гипотезы:\n",
    "1) Средние пользовательские рейтинги платформ Xbox One и PC одинаковые.  \n",
    "\n",
    "Нулевая гипотеза - средние пользовательские рейтинги платформ Xbox One и PC равны. Альтернативная гипотеза - средние пользовательские рейтинги платформ Xbox One и PC не равны.  \n",
    "На имеющихся данных, на уровне значимости 5% (уровне доверия 95%) нет оснований отвергнуть нулевую гипотезу в пользу альтернативы. Нельзя утверждать о том, что средние пользовательские рейтинги платформ Xbox One и PC не равны (p-значение: 0.62).\n",
    "\n",
    "2) Средние пользовательские рейтинги жанров Action и Sports разные.  \n",
    "\n",
    "Нулевая гипотеза - средние пользовательские рейтинги жанров Action и Sports равны. Альтернативная гипотеза - средние пользовательские рейтинги жанров Action и Sports не равны.  \n",
    "На имеющихся данных, на уровне значимости 5% (уровне доверия 95%) есть основания отвергнуть нулевую гипотезу в пользу альтернативы. Средние пользовательские рейтинги жанров Action и Sports не равны\n",
    "(p-значение: 3.7279566072817166e-13)."
   ]
  },
  {
   "cell_type": "code",
   "execution_count": null,
   "metadata": {},
   "outputs": [],
   "source": []
  }
 ],
 "metadata": {
  "ExecuteTimeLog": [
   {
    "duration": 1518,
    "start_time": "2023-05-29T07:29:09.362Z"
   },
   {
    "duration": 191,
    "start_time": "2023-05-29T07:29:32.188Z"
   },
   {
    "duration": 164,
    "start_time": "2023-05-29T07:29:40.671Z"
   },
   {
    "duration": 43,
    "start_time": "2023-05-29T07:29:49.151Z"
   },
   {
    "duration": 1410,
    "start_time": "2023-05-29T14:36:09.136Z"
   },
   {
    "duration": 196,
    "start_time": "2023-05-29T14:36:10.548Z"
   },
   {
    "duration": 34,
    "start_time": "2023-05-29T14:36:10.751Z"
   },
   {
    "duration": 4,
    "start_time": "2023-05-29T14:36:17.896Z"
   },
   {
    "duration": 4,
    "start_time": "2023-05-29T14:38:12.716Z"
   },
   {
    "duration": 4,
    "start_time": "2023-05-29T14:38:15.330Z"
   },
   {
    "duration": 5,
    "start_time": "2023-05-29T14:38:44.748Z"
   },
   {
    "duration": 5,
    "start_time": "2023-05-29T14:42:24.429Z"
   },
   {
    "duration": 1781,
    "start_time": "2023-05-29T14:50:17.343Z"
   },
   {
    "duration": 18,
    "start_time": "2023-05-29T14:50:53.943Z"
   },
   {
    "duration": 21,
    "start_time": "2023-05-29T14:53:55.215Z"
   },
   {
    "duration": 13,
    "start_time": "2023-05-29T14:54:06.401Z"
   },
   {
    "duration": 14,
    "start_time": "2023-05-29T14:54:40.293Z"
   },
   {
    "duration": 33,
    "start_time": "2023-05-29T14:54:44.926Z"
   },
   {
    "duration": 14,
    "start_time": "2023-05-29T14:54:51.161Z"
   },
   {
    "duration": 9,
    "start_time": "2023-05-29T14:54:55.825Z"
   },
   {
    "duration": 11,
    "start_time": "2023-05-29T14:55:04.265Z"
   },
   {
    "duration": 24,
    "start_time": "2023-05-29T14:55:07.163Z"
   },
   {
    "duration": 1148,
    "start_time": "2023-05-29T14:56:37.083Z"
   },
   {
    "duration": 52,
    "start_time": "2023-05-29T14:56:38.233Z"
   },
   {
    "duration": 31,
    "start_time": "2023-05-29T14:56:38.286Z"
   },
   {
    "duration": 3,
    "start_time": "2023-05-29T14:56:38.319Z"
   },
   {
    "duration": 8,
    "start_time": "2023-05-29T14:56:38.324Z"
   },
   {
    "duration": 41,
    "start_time": "2023-05-29T14:56:38.334Z"
   },
   {
    "duration": 15,
    "start_time": "2023-05-29T14:57:11.938Z"
   },
   {
    "duration": 1223,
    "start_time": "2023-05-29T14:57:18.860Z"
   },
   {
    "duration": 52,
    "start_time": "2023-05-29T14:57:20.085Z"
   },
   {
    "duration": 29,
    "start_time": "2023-05-29T14:57:20.139Z"
   },
   {
    "duration": 3,
    "start_time": "2023-05-29T14:57:20.170Z"
   },
   {
    "duration": 23,
    "start_time": "2023-05-29T14:57:20.175Z"
   },
   {
    "duration": 22,
    "start_time": "2023-05-29T14:57:20.199Z"
   },
   {
    "duration": 7,
    "start_time": "2023-05-29T14:57:56.180Z"
   },
   {
    "duration": 6,
    "start_time": "2023-05-29T14:58:02.840Z"
   },
   {
    "duration": 7,
    "start_time": "2023-05-29T14:58:10.000Z"
   },
   {
    "duration": 7,
    "start_time": "2023-05-29T14:58:18.729Z"
   },
   {
    "duration": 12,
    "start_time": "2023-05-29T14:58:23.006Z"
   },
   {
    "duration": 9,
    "start_time": "2023-05-29T14:58:27.583Z"
   },
   {
    "duration": 11,
    "start_time": "2023-05-29T14:58:35.296Z"
   },
   {
    "duration": 6,
    "start_time": "2023-05-29T15:01:36.814Z"
   },
   {
    "duration": 18,
    "start_time": "2023-05-29T15:02:59.461Z"
   },
   {
    "duration": 16,
    "start_time": "2023-05-29T15:05:02.664Z"
   },
   {
    "duration": 23,
    "start_time": "2023-05-29T15:06:24.451Z"
   },
   {
    "duration": 38,
    "start_time": "2023-05-29T15:06:28.185Z"
   },
   {
    "duration": 6,
    "start_time": "2023-05-29T15:07:52.150Z"
   },
   {
    "duration": 107,
    "start_time": "2023-05-29T15:08:00.074Z"
   },
   {
    "duration": 11,
    "start_time": "2023-05-29T15:08:18.412Z"
   },
   {
    "duration": 1763,
    "start_time": "2023-05-29T15:08:59.107Z"
   },
   {
    "duration": 1762,
    "start_time": "2023-05-29T15:09:07.847Z"
   },
   {
    "duration": 9,
    "start_time": "2023-05-29T15:09:21.701Z"
   },
   {
    "duration": 8,
    "start_time": "2023-05-29T15:09:26.239Z"
   },
   {
    "duration": 13,
    "start_time": "2023-05-29T15:09:38.135Z"
   },
   {
    "duration": 14,
    "start_time": "2023-05-29T15:10:36.163Z"
   },
   {
    "duration": 9,
    "start_time": "2023-05-29T15:11:04.192Z"
   },
   {
    "duration": 10,
    "start_time": "2023-05-29T15:11:12.349Z"
   },
   {
    "duration": 9,
    "start_time": "2023-05-29T15:11:33.275Z"
   },
   {
    "duration": 11,
    "start_time": "2023-05-29T15:11:42.736Z"
   },
   {
    "duration": 12,
    "start_time": "2023-05-29T15:11:53.925Z"
   },
   {
    "duration": 42,
    "start_time": "2023-05-29T15:14:46.247Z"
   },
   {
    "duration": 23,
    "start_time": "2023-05-29T15:15:05.370Z"
   },
   {
    "duration": 30,
    "start_time": "2023-05-29T15:15:18.157Z"
   },
   {
    "duration": 95,
    "start_time": "2023-05-29T15:18:49.479Z"
   },
   {
    "duration": 11,
    "start_time": "2023-05-29T15:20:05.083Z"
   },
   {
    "duration": 12,
    "start_time": "2023-05-29T15:20:32.794Z"
   },
   {
    "duration": 14,
    "start_time": "2023-05-29T15:21:31.199Z"
   },
   {
    "duration": 5,
    "start_time": "2023-05-29T15:23:10.685Z"
   },
   {
    "duration": 15,
    "start_time": "2023-05-29T15:23:22.578Z"
   },
   {
    "duration": 11,
    "start_time": "2023-05-29T15:42:26.031Z"
   },
   {
    "duration": 7,
    "start_time": "2023-05-29T15:42:29.171Z"
   },
   {
    "duration": 7,
    "start_time": "2023-05-29T15:42:41.350Z"
   },
   {
    "duration": 121,
    "start_time": "2023-05-29T15:42:48.258Z"
   },
   {
    "duration": 5,
    "start_time": "2023-05-29T15:42:58.279Z"
   },
   {
    "duration": 15,
    "start_time": "2023-05-29T15:48:19.060Z"
   },
   {
    "duration": 5,
    "start_time": "2023-05-29T15:50:12.802Z"
   },
   {
    "duration": 4,
    "start_time": "2023-05-29T15:50:33.882Z"
   },
   {
    "duration": 250,
    "start_time": "2023-05-29T16:08:41.105Z"
   },
   {
    "duration": 274,
    "start_time": "2023-05-29T16:10:18.947Z"
   },
   {
    "duration": 418,
    "start_time": "2023-05-29T16:10:34.020Z"
   },
   {
    "duration": 16,
    "start_time": "2023-05-29T16:11:07.736Z"
   },
   {
    "duration": 16,
    "start_time": "2023-05-29T16:11:28.542Z"
   },
   {
    "duration": 31,
    "start_time": "2023-05-29T16:11:33.181Z"
   },
   {
    "duration": 12,
    "start_time": "2023-05-29T16:12:19.241Z"
   },
   {
    "duration": 20,
    "start_time": "2023-05-29T16:12:33.930Z"
   },
   {
    "duration": 15,
    "start_time": "2023-05-29T16:14:25.959Z"
   },
   {
    "duration": 23,
    "start_time": "2023-05-29T16:16:47.784Z"
   },
   {
    "duration": 1626,
    "start_time": "2023-05-29T16:17:08.111Z"
   },
   {
    "duration": 1707,
    "start_time": "2023-05-29T16:17:19.574Z"
   },
   {
    "duration": 15,
    "start_time": "2023-05-29T16:17:29.370Z"
   },
   {
    "duration": 18,
    "start_time": "2023-05-29T16:17:37.392Z"
   },
   {
    "duration": 4,
    "start_time": "2023-05-29T16:18:07.641Z"
   },
   {
    "duration": 4,
    "start_time": "2023-05-29T16:18:51.024Z"
   },
   {
    "duration": 20,
    "start_time": "2023-05-29T16:19:10.552Z"
   },
   {
    "duration": 6,
    "start_time": "2023-05-29T16:19:19.335Z"
   },
   {
    "duration": 21,
    "start_time": "2023-05-29T16:20:07.839Z"
   },
   {
    "duration": 443,
    "start_time": "2023-05-29T16:22:45.633Z"
   },
   {
    "duration": 373,
    "start_time": "2023-05-29T16:24:26.884Z"
   },
   {
    "duration": 510,
    "start_time": "2023-05-29T16:24:57.703Z"
   },
   {
    "duration": 6,
    "start_time": "2023-05-29T16:50:47.468Z"
   },
   {
    "duration": 24,
    "start_time": "2023-05-29T16:51:14.090Z"
   },
   {
    "duration": 14,
    "start_time": "2023-05-29T17:02:50.841Z"
   },
   {
    "duration": 8,
    "start_time": "2023-05-29T17:03:37.371Z"
   },
   {
    "duration": 11,
    "start_time": "2023-05-29T17:04:10.120Z"
   },
   {
    "duration": 8,
    "start_time": "2023-05-29T17:04:19.087Z"
   },
   {
    "duration": 8,
    "start_time": "2023-05-29T17:04:23.636Z"
   },
   {
    "duration": 7,
    "start_time": "2023-05-29T17:04:31.684Z"
   },
   {
    "duration": 7,
    "start_time": "2023-05-29T17:04:35.695Z"
   },
   {
    "duration": 15,
    "start_time": "2023-05-29T17:04:39.601Z"
   },
   {
    "duration": 28,
    "start_time": "2023-05-29T17:04:45.655Z"
   },
   {
    "duration": 132,
    "start_time": "2023-05-29T17:06:31.231Z"
   },
   {
    "duration": 8,
    "start_time": "2023-05-29T17:06:42.568Z"
   },
   {
    "duration": 35,
    "start_time": "2023-05-29T17:09:00.449Z"
   },
   {
    "duration": 23,
    "start_time": "2023-05-29T17:09:05.733Z"
   },
   {
    "duration": 1304,
    "start_time": "2023-05-30T07:33:02.019Z"
   },
   {
    "duration": 95,
    "start_time": "2023-05-30T07:33:04.885Z"
   },
   {
    "duration": 26,
    "start_time": "2023-05-30T07:33:05.546Z"
   },
   {
    "duration": 1091,
    "start_time": "2023-05-30T07:33:29.241Z"
   },
   {
    "duration": 55,
    "start_time": "2023-05-30T07:33:30.333Z"
   },
   {
    "duration": 27,
    "start_time": "2023-05-30T07:33:30.390Z"
   },
   {
    "duration": 1408,
    "start_time": "2023-05-30T07:33:30.419Z"
   },
   {
    "duration": 0,
    "start_time": "2023-05-30T07:33:31.829Z"
   },
   {
    "duration": 0,
    "start_time": "2023-05-30T07:33:31.830Z"
   },
   {
    "duration": 0,
    "start_time": "2023-05-30T07:33:31.831Z"
   },
   {
    "duration": 0,
    "start_time": "2023-05-30T07:33:31.833Z"
   },
   {
    "duration": 0,
    "start_time": "2023-05-30T07:33:31.834Z"
   },
   {
    "duration": 0,
    "start_time": "2023-05-30T07:33:31.835Z"
   },
   {
    "duration": 0,
    "start_time": "2023-05-30T07:33:31.836Z"
   },
   {
    "duration": 0,
    "start_time": "2023-05-30T07:33:31.838Z"
   },
   {
    "duration": 0,
    "start_time": "2023-05-30T07:33:31.840Z"
   },
   {
    "duration": 0,
    "start_time": "2023-05-30T07:33:31.841Z"
   },
   {
    "duration": 0,
    "start_time": "2023-05-30T07:33:31.842Z"
   },
   {
    "duration": 0,
    "start_time": "2023-05-30T07:33:31.843Z"
   },
   {
    "duration": 0,
    "start_time": "2023-05-30T07:33:31.845Z"
   },
   {
    "duration": 0,
    "start_time": "2023-05-30T07:33:31.847Z"
   },
   {
    "duration": 0,
    "start_time": "2023-05-30T07:33:31.848Z"
   },
   {
    "duration": 1124,
    "start_time": "2023-05-30T07:33:57.483Z"
   },
   {
    "duration": 52,
    "start_time": "2023-05-30T07:33:58.609Z"
   },
   {
    "duration": 37,
    "start_time": "2023-05-30T07:33:58.663Z"
   },
   {
    "duration": 3,
    "start_time": "2023-05-30T07:33:58.701Z"
   },
   {
    "duration": 9,
    "start_time": "2023-05-30T07:33:58.706Z"
   },
   {
    "duration": 27,
    "start_time": "2023-05-30T07:33:58.717Z"
   },
   {
    "duration": 12,
    "start_time": "2023-05-30T07:33:58.746Z"
   },
   {
    "duration": 19,
    "start_time": "2023-05-30T07:33:58.760Z"
   },
   {
    "duration": 18,
    "start_time": "2023-05-30T07:33:58.781Z"
   },
   {
    "duration": 26,
    "start_time": "2023-05-30T07:33:58.801Z"
   },
   {
    "duration": 5,
    "start_time": "2023-05-30T07:33:58.828Z"
   },
   {
    "duration": 34,
    "start_time": "2023-05-30T07:33:58.834Z"
   },
   {
    "duration": 24,
    "start_time": "2023-05-30T07:33:58.870Z"
   },
   {
    "duration": 5,
    "start_time": "2023-05-30T07:33:58.897Z"
   },
   {
    "duration": 10,
    "start_time": "2023-05-30T07:33:58.903Z"
   },
   {
    "duration": 38,
    "start_time": "2023-05-30T07:33:58.914Z"
   },
   {
    "duration": 466,
    "start_time": "2023-05-30T07:33:58.954Z"
   },
   {
    "duration": 4,
    "start_time": "2023-05-30T07:34:37.164Z"
   },
   {
    "duration": 5,
    "start_time": "2023-05-30T07:34:42.013Z"
   },
   {
    "duration": 16,
    "start_time": "2023-05-30T07:39:05.197Z"
   },
   {
    "duration": 1908,
    "start_time": "2023-05-30T07:39:18.017Z"
   },
   {
    "duration": 52,
    "start_time": "2023-05-30T07:39:19.927Z"
   },
   {
    "duration": 28,
    "start_time": "2023-05-30T07:39:19.981Z"
   },
   {
    "duration": 4,
    "start_time": "2023-05-30T07:39:20.010Z"
   },
   {
    "duration": 15,
    "start_time": "2023-05-30T07:39:20.016Z"
   },
   {
    "duration": 29,
    "start_time": "2023-05-30T07:39:20.032Z"
   },
   {
    "duration": 16,
    "start_time": "2023-05-30T07:39:20.063Z"
   },
   {
    "duration": 21,
    "start_time": "2023-05-30T07:39:20.080Z"
   },
   {
    "duration": 42,
    "start_time": "2023-05-30T07:39:20.103Z"
   },
   {
    "duration": 19,
    "start_time": "2023-05-30T07:39:20.147Z"
   },
   {
    "duration": 8,
    "start_time": "2023-05-30T07:39:20.168Z"
   },
   {
    "duration": 35,
    "start_time": "2023-05-30T07:39:20.177Z"
   },
   {
    "duration": 20,
    "start_time": "2023-05-30T07:39:20.213Z"
   },
   {
    "duration": 4,
    "start_time": "2023-05-30T07:39:20.236Z"
   },
   {
    "duration": 13,
    "start_time": "2023-05-30T07:39:20.242Z"
   },
   {
    "duration": 32,
    "start_time": "2023-05-30T07:39:20.257Z"
   },
   {
    "duration": 555,
    "start_time": "2023-05-30T07:39:20.291Z"
   },
   {
    "duration": 14,
    "start_time": "2023-05-30T07:40:51.641Z"
   },
   {
    "duration": 19,
    "start_time": "2023-05-30T07:41:09.330Z"
   },
   {
    "duration": 117,
    "start_time": "2023-05-30T07:43:02.202Z"
   },
   {
    "duration": 15,
    "start_time": "2023-05-30T07:44:33.584Z"
   },
   {
    "duration": 11,
    "start_time": "2023-05-30T07:45:11.346Z"
   },
   {
    "duration": 7,
    "start_time": "2023-05-30T07:45:49.984Z"
   },
   {
    "duration": 4,
    "start_time": "2023-05-30T07:46:08.806Z"
   },
   {
    "duration": 9,
    "start_time": "2023-05-30T07:46:14.689Z"
   },
   {
    "duration": 7,
    "start_time": "2023-05-30T07:46:52.852Z"
   },
   {
    "duration": 11,
    "start_time": "2023-05-30T07:46:59.719Z"
   },
   {
    "duration": 10,
    "start_time": "2023-05-30T07:47:06.025Z"
   },
   {
    "duration": 14,
    "start_time": "2023-05-30T07:47:12.242Z"
   },
   {
    "duration": 18,
    "start_time": "2023-05-30T07:47:14.608Z"
   },
   {
    "duration": 14,
    "start_time": "2023-05-30T07:47:20.241Z"
   },
   {
    "duration": 13,
    "start_time": "2023-05-30T07:47:22.990Z"
   },
   {
    "duration": 8,
    "start_time": "2023-05-30T07:47:29.574Z"
   },
   {
    "duration": 8,
    "start_time": "2023-05-30T07:48:38.745Z"
   },
   {
    "duration": 9,
    "start_time": "2023-05-30T07:48:49.264Z"
   },
   {
    "duration": 9,
    "start_time": "2023-05-30T07:49:24.597Z"
   },
   {
    "duration": 5,
    "start_time": "2023-05-30T07:52:27.005Z"
   },
   {
    "duration": 7,
    "start_time": "2023-05-30T07:55:21.406Z"
   },
   {
    "duration": 8,
    "start_time": "2023-05-30T07:55:23.874Z"
   },
   {
    "duration": 10,
    "start_time": "2023-05-30T07:55:43.161Z"
   },
   {
    "duration": 15,
    "start_time": "2023-05-30T07:55:47.784Z"
   },
   {
    "duration": 1202,
    "start_time": "2023-05-30T07:56:19.919Z"
   },
   {
    "duration": 54,
    "start_time": "2023-05-30T07:56:21.123Z"
   },
   {
    "duration": 27,
    "start_time": "2023-05-30T07:56:21.179Z"
   },
   {
    "duration": 6,
    "start_time": "2023-05-30T07:56:21.210Z"
   },
   {
    "duration": 21,
    "start_time": "2023-05-30T07:56:21.217Z"
   },
   {
    "duration": 32,
    "start_time": "2023-05-30T07:56:21.240Z"
   },
   {
    "duration": 11,
    "start_time": "2023-05-30T07:56:21.274Z"
   },
   {
    "duration": 17,
    "start_time": "2023-05-30T07:56:21.286Z"
   },
   {
    "duration": 29,
    "start_time": "2023-05-30T07:56:21.305Z"
   },
   {
    "duration": 22,
    "start_time": "2023-05-30T07:56:21.336Z"
   },
   {
    "duration": 28,
    "start_time": "2023-05-30T07:56:21.359Z"
   },
   {
    "duration": 15,
    "start_time": "2023-05-30T07:56:21.389Z"
   },
   {
    "duration": 51,
    "start_time": "2023-05-30T07:56:21.406Z"
   },
   {
    "duration": 14,
    "start_time": "2023-05-30T07:56:21.459Z"
   },
   {
    "duration": 30,
    "start_time": "2023-05-30T07:56:21.474Z"
   },
   {
    "duration": 21,
    "start_time": "2023-05-30T07:56:21.505Z"
   },
   {
    "duration": 20,
    "start_time": "2023-05-30T07:56:21.528Z"
   },
   {
    "duration": 12,
    "start_time": "2023-05-30T07:56:21.550Z"
   },
   {
    "duration": 20,
    "start_time": "2023-05-30T07:56:21.564Z"
   },
   {
    "duration": 20,
    "start_time": "2023-05-30T07:56:21.586Z"
   },
   {
    "duration": 17,
    "start_time": "2023-05-30T07:56:21.608Z"
   },
   {
    "duration": 34,
    "start_time": "2023-05-30T07:56:21.626Z"
   },
   {
    "duration": 24,
    "start_time": "2023-05-30T07:56:21.663Z"
   },
   {
    "duration": 13,
    "start_time": "2023-05-30T07:56:21.689Z"
   },
   {
    "duration": 21,
    "start_time": "2023-05-30T07:56:21.703Z"
   },
   {
    "duration": 24,
    "start_time": "2023-05-30T07:56:21.726Z"
   },
   {
    "duration": 487,
    "start_time": "2023-05-30T07:56:21.752Z"
   },
   {
    "duration": 7,
    "start_time": "2023-05-30T07:56:35.550Z"
   },
   {
    "duration": 9,
    "start_time": "2023-05-30T07:56:36.224Z"
   },
   {
    "duration": 1121,
    "start_time": "2023-05-30T07:56:40.770Z"
   },
   {
    "duration": 53,
    "start_time": "2023-05-30T07:56:41.893Z"
   },
   {
    "duration": 38,
    "start_time": "2023-05-30T07:56:41.948Z"
   },
   {
    "duration": 4,
    "start_time": "2023-05-30T07:56:41.988Z"
   },
   {
    "duration": 23,
    "start_time": "2023-05-30T07:56:41.994Z"
   },
   {
    "duration": 14,
    "start_time": "2023-05-30T07:56:42.019Z"
   },
   {
    "duration": 14,
    "start_time": "2023-05-30T07:56:42.035Z"
   },
   {
    "duration": 8,
    "start_time": "2023-05-30T07:56:42.050Z"
   },
   {
    "duration": 11,
    "start_time": "2023-05-30T07:56:42.060Z"
   },
   {
    "duration": 13,
    "start_time": "2023-05-30T07:56:42.072Z"
   },
   {
    "duration": 11,
    "start_time": "2023-05-30T07:56:42.086Z"
   },
   {
    "duration": 6,
    "start_time": "2023-05-30T07:56:42.118Z"
   },
   {
    "duration": 20,
    "start_time": "2023-05-30T07:56:42.126Z"
   },
   {
    "duration": 8,
    "start_time": "2023-05-30T07:56:42.150Z"
   },
   {
    "duration": 21,
    "start_time": "2023-05-30T07:56:42.161Z"
   },
   {
    "duration": 17,
    "start_time": "2023-05-30T07:56:42.183Z"
   },
   {
    "duration": 11,
    "start_time": "2023-05-30T07:56:42.202Z"
   },
   {
    "duration": 13,
    "start_time": "2023-05-30T07:56:42.218Z"
   },
   {
    "duration": 7,
    "start_time": "2023-05-30T07:56:42.233Z"
   },
   {
    "duration": 20,
    "start_time": "2023-05-30T07:56:42.242Z"
   },
   {
    "duration": 5,
    "start_time": "2023-05-30T07:56:42.263Z"
   },
   {
    "duration": 38,
    "start_time": "2023-05-30T07:56:42.270Z"
   },
   {
    "duration": 19,
    "start_time": "2023-05-30T07:56:42.317Z"
   },
   {
    "duration": 6,
    "start_time": "2023-05-30T07:56:42.338Z"
   },
   {
    "duration": 13,
    "start_time": "2023-05-30T07:56:42.346Z"
   },
   {
    "duration": 41,
    "start_time": "2023-05-30T07:56:42.361Z"
   },
   {
    "duration": 462,
    "start_time": "2023-05-30T07:56:42.404Z"
   },
   {
    "duration": 6,
    "start_time": "2023-05-30T07:57:06.049Z"
   },
   {
    "duration": 12,
    "start_time": "2023-05-30T07:57:06.770Z"
   },
   {
    "duration": 4,
    "start_time": "2023-05-30T07:57:07.680Z"
   },
   {
    "duration": 19,
    "start_time": "2023-05-30T07:57:07.817Z"
   },
   {
    "duration": 1167,
    "start_time": "2023-05-30T07:57:12.939Z"
   },
   {
    "duration": 58,
    "start_time": "2023-05-30T07:57:14.108Z"
   },
   {
    "duration": 38,
    "start_time": "2023-05-30T07:57:14.168Z"
   },
   {
    "duration": 4,
    "start_time": "2023-05-30T07:57:14.209Z"
   },
   {
    "duration": 16,
    "start_time": "2023-05-30T07:57:14.215Z"
   },
   {
    "duration": 32,
    "start_time": "2023-05-30T07:57:14.232Z"
   },
   {
    "duration": 17,
    "start_time": "2023-05-30T07:57:14.265Z"
   },
   {
    "duration": 8,
    "start_time": "2023-05-30T07:57:14.283Z"
   },
   {
    "duration": 9,
    "start_time": "2023-05-30T07:57:14.293Z"
   },
   {
    "duration": 16,
    "start_time": "2023-05-30T07:57:14.305Z"
   },
   {
    "duration": 12,
    "start_time": "2023-05-30T07:57:14.323Z"
   },
   {
    "duration": 90,
    "start_time": "2023-05-30T07:57:14.337Z"
   },
   {
    "duration": 25,
    "start_time": "2023-05-30T07:57:14.429Z"
   },
   {
    "duration": 22,
    "start_time": "2023-05-30T07:57:14.456Z"
   },
   {
    "duration": 151,
    "start_time": "2023-05-30T07:57:14.480Z"
   },
   {
    "duration": 0,
    "start_time": "2023-05-30T07:57:14.634Z"
   },
   {
    "duration": 0,
    "start_time": "2023-05-30T07:57:14.635Z"
   },
   {
    "duration": 0,
    "start_time": "2023-05-30T07:57:14.636Z"
   },
   {
    "duration": 0,
    "start_time": "2023-05-30T07:57:14.637Z"
   },
   {
    "duration": 1,
    "start_time": "2023-05-30T07:57:14.638Z"
   },
   {
    "duration": 0,
    "start_time": "2023-05-30T07:57:14.640Z"
   },
   {
    "duration": 0,
    "start_time": "2023-05-30T07:57:14.641Z"
   },
   {
    "duration": 0,
    "start_time": "2023-05-30T07:57:14.642Z"
   },
   {
    "duration": 0,
    "start_time": "2023-05-30T07:57:14.643Z"
   },
   {
    "duration": 0,
    "start_time": "2023-05-30T07:57:14.645Z"
   },
   {
    "duration": 0,
    "start_time": "2023-05-30T07:57:14.647Z"
   },
   {
    "duration": 0,
    "start_time": "2023-05-30T07:57:14.648Z"
   },
   {
    "duration": 5,
    "start_time": "2023-05-30T07:58:20.310Z"
   },
   {
    "duration": 12,
    "start_time": "2023-05-30T07:58:20.902Z"
   },
   {
    "duration": 4,
    "start_time": "2023-05-30T07:58:31.976Z"
   },
   {
    "duration": 15,
    "start_time": "2023-05-30T07:58:32.823Z"
   },
   {
    "duration": 4,
    "start_time": "2023-05-30T07:58:38.064Z"
   },
   {
    "duration": 12,
    "start_time": "2023-05-30T07:58:38.687Z"
   },
   {
    "duration": 13,
    "start_time": "2023-05-30T07:59:08.915Z"
   },
   {
    "duration": 9,
    "start_time": "2023-05-30T07:59:09.004Z"
   },
   {
    "duration": 5,
    "start_time": "2023-05-30T07:59:17.065Z"
   },
   {
    "duration": 10,
    "start_time": "2023-05-30T07:59:17.304Z"
   },
   {
    "duration": 4,
    "start_time": "2023-05-30T07:59:22.564Z"
   },
   {
    "duration": 18,
    "start_time": "2023-05-30T07:59:22.710Z"
   },
   {
    "duration": 4,
    "start_time": "2023-05-30T07:59:32.535Z"
   },
   {
    "duration": 7,
    "start_time": "2023-05-30T07:59:32.743Z"
   },
   {
    "duration": 1231,
    "start_time": "2023-05-30T07:59:45.810Z"
   },
   {
    "duration": 53,
    "start_time": "2023-05-30T07:59:47.043Z"
   },
   {
    "duration": 38,
    "start_time": "2023-05-30T07:59:47.098Z"
   },
   {
    "duration": 5,
    "start_time": "2023-05-30T07:59:47.137Z"
   },
   {
    "duration": 8,
    "start_time": "2023-05-30T07:59:47.144Z"
   },
   {
    "duration": 16,
    "start_time": "2023-05-30T07:59:47.153Z"
   },
   {
    "duration": 11,
    "start_time": "2023-05-30T07:59:47.170Z"
   },
   {
    "duration": 20,
    "start_time": "2023-05-30T07:59:47.182Z"
   },
   {
    "duration": 31,
    "start_time": "2023-05-30T07:59:47.204Z"
   },
   {
    "duration": 18,
    "start_time": "2023-05-30T07:59:47.236Z"
   },
   {
    "duration": 23,
    "start_time": "2023-05-30T07:59:47.256Z"
   },
   {
    "duration": 17,
    "start_time": "2023-05-30T07:59:47.281Z"
   },
   {
    "duration": 36,
    "start_time": "2023-05-30T07:59:47.299Z"
   },
   {
    "duration": 13,
    "start_time": "2023-05-30T07:59:47.338Z"
   },
   {
    "duration": 130,
    "start_time": "2023-05-30T07:59:47.353Z"
   },
   {
    "duration": 0,
    "start_time": "2023-05-30T07:59:47.485Z"
   },
   {
    "duration": 0,
    "start_time": "2023-05-30T07:59:47.487Z"
   },
   {
    "duration": 0,
    "start_time": "2023-05-30T07:59:47.488Z"
   },
   {
    "duration": 0,
    "start_time": "2023-05-30T07:59:47.489Z"
   },
   {
    "duration": 0,
    "start_time": "2023-05-30T07:59:47.491Z"
   },
   {
    "duration": 0,
    "start_time": "2023-05-30T07:59:47.492Z"
   },
   {
    "duration": 0,
    "start_time": "2023-05-30T07:59:47.493Z"
   },
   {
    "duration": 0,
    "start_time": "2023-05-30T07:59:47.494Z"
   },
   {
    "duration": 0,
    "start_time": "2023-05-30T07:59:47.495Z"
   },
   {
    "duration": 0,
    "start_time": "2023-05-30T07:59:47.496Z"
   },
   {
    "duration": 0,
    "start_time": "2023-05-30T07:59:47.497Z"
   },
   {
    "duration": 0,
    "start_time": "2023-05-30T07:59:47.498Z"
   },
   {
    "duration": 8,
    "start_time": "2023-05-30T08:00:53.817Z"
   },
   {
    "duration": 12,
    "start_time": "2023-05-30T08:00:54.397Z"
   },
   {
    "duration": 5,
    "start_time": "2023-05-30T08:01:04.480Z"
   },
   {
    "duration": 17,
    "start_time": "2023-05-30T08:01:12.643Z"
   },
   {
    "duration": 5,
    "start_time": "2023-05-30T08:01:19.355Z"
   },
   {
    "duration": 30,
    "start_time": "2023-05-30T08:01:22.800Z"
   },
   {
    "duration": 12,
    "start_time": "2023-05-30T08:01:38.866Z"
   },
   {
    "duration": 9,
    "start_time": "2023-05-30T08:04:11.417Z"
   },
   {
    "duration": 13,
    "start_time": "2023-05-30T08:05:07.794Z"
   },
   {
    "duration": 8,
    "start_time": "2023-05-30T08:06:06.938Z"
   },
   {
    "duration": 1301,
    "start_time": "2023-05-30T08:06:54.577Z"
   },
   {
    "duration": 2107,
    "start_time": "2023-05-30T08:08:04.912Z"
   },
   {
    "duration": 1211,
    "start_time": "2023-05-30T08:08:31.324Z"
   },
   {
    "duration": 1062,
    "start_time": "2023-05-30T08:08:44.769Z"
   },
   {
    "duration": 52,
    "start_time": "2023-05-30T08:08:45.833Z"
   },
   {
    "duration": 27,
    "start_time": "2023-05-30T08:08:45.887Z"
   },
   {
    "duration": 4,
    "start_time": "2023-05-30T08:08:45.915Z"
   },
   {
    "duration": 10,
    "start_time": "2023-05-30T08:08:45.921Z"
   },
   {
    "duration": 15,
    "start_time": "2023-05-30T08:08:45.933Z"
   },
   {
    "duration": 10,
    "start_time": "2023-05-30T08:08:45.949Z"
   },
   {
    "duration": 7,
    "start_time": "2023-05-30T08:08:45.961Z"
   },
   {
    "duration": 7,
    "start_time": "2023-05-30T08:08:45.969Z"
   },
   {
    "duration": 43,
    "start_time": "2023-05-30T08:08:45.977Z"
   },
   {
    "duration": 6,
    "start_time": "2023-05-30T08:08:46.021Z"
   },
   {
    "duration": 6,
    "start_time": "2023-05-30T08:08:46.029Z"
   },
   {
    "duration": 15,
    "start_time": "2023-05-30T08:08:46.036Z"
   },
   {
    "duration": 28,
    "start_time": "2023-05-30T08:08:46.054Z"
   },
   {
    "duration": 15,
    "start_time": "2023-05-30T08:08:46.084Z"
   },
   {
    "duration": 33,
    "start_time": "2023-05-30T08:08:46.101Z"
   },
   {
    "duration": 13,
    "start_time": "2023-05-30T08:08:46.138Z"
   },
   {
    "duration": 19,
    "start_time": "2023-05-30T08:08:46.153Z"
   },
   {
    "duration": 17,
    "start_time": "2023-05-30T08:08:46.174Z"
   },
   {
    "duration": 26,
    "start_time": "2023-05-30T08:08:46.193Z"
   },
   {
    "duration": 13,
    "start_time": "2023-05-30T08:08:46.221Z"
   },
   {
    "duration": 20,
    "start_time": "2023-05-30T08:08:46.236Z"
   },
   {
    "duration": 27,
    "start_time": "2023-05-30T08:08:46.258Z"
   },
   {
    "duration": 15,
    "start_time": "2023-05-30T08:08:46.287Z"
   },
   {
    "duration": 8,
    "start_time": "2023-05-30T08:08:46.304Z"
   },
   {
    "duration": 40,
    "start_time": "2023-05-30T08:08:46.314Z"
   },
   {
    "duration": 456,
    "start_time": "2023-05-30T08:08:46.356Z"
   },
   {
    "duration": 13,
    "start_time": "2023-05-30T08:09:02.687Z"
   },
   {
    "duration": 13,
    "start_time": "2023-05-30T08:09:37.561Z"
   },
   {
    "duration": 14,
    "start_time": "2023-05-30T08:10:23.955Z"
   },
   {
    "duration": 12,
    "start_time": "2023-05-30T08:11:06.507Z"
   },
   {
    "duration": 10,
    "start_time": "2023-05-30T08:11:12.155Z"
   },
   {
    "duration": 6,
    "start_time": "2023-05-30T08:11:31.455Z"
   },
   {
    "duration": 114,
    "start_time": "2023-05-30T08:11:41.257Z"
   },
   {
    "duration": 21,
    "start_time": "2023-05-30T08:14:15.243Z"
   },
   {
    "duration": 6,
    "start_time": "2023-05-30T08:14:30.659Z"
   },
   {
    "duration": 8,
    "start_time": "2023-05-30T08:14:58.449Z"
   },
   {
    "duration": 8,
    "start_time": "2023-05-30T08:15:03.362Z"
   },
   {
    "duration": 23,
    "start_time": "2023-05-30T08:15:05.937Z"
   },
   {
    "duration": 19,
    "start_time": "2023-05-30T08:15:23.025Z"
   },
   {
    "duration": 24,
    "start_time": "2023-05-30T08:15:33.225Z"
   },
   {
    "duration": 21,
    "start_time": "2023-05-30T08:16:01.804Z"
   },
   {
    "duration": 18,
    "start_time": "2023-05-30T08:16:13.962Z"
   },
   {
    "duration": 13,
    "start_time": "2023-05-30T08:16:24.017Z"
   },
   {
    "duration": 17,
    "start_time": "2023-05-30T08:17:50.016Z"
   },
   {
    "duration": 37,
    "start_time": "2023-05-30T08:18:00.933Z"
   },
   {
    "duration": 5,
    "start_time": "2023-05-30T08:18:15.359Z"
   },
   {
    "duration": 63,
    "start_time": "2023-05-30T08:18:39.604Z"
   },
   {
    "duration": 16,
    "start_time": "2023-05-30T08:19:33.871Z"
   },
   {
    "duration": 15,
    "start_time": "2023-05-30T08:20:12.201Z"
   },
   {
    "duration": 9,
    "start_time": "2023-05-30T08:21:00.633Z"
   },
   {
    "duration": 21,
    "start_time": "2023-05-30T08:22:56.371Z"
   },
   {
    "duration": 19,
    "start_time": "2023-05-30T08:23:21.157Z"
   },
   {
    "duration": 5,
    "start_time": "2023-05-30T08:23:33.065Z"
   },
   {
    "duration": 15,
    "start_time": "2023-05-30T08:23:33.365Z"
   },
   {
    "duration": 1192,
    "start_time": "2023-05-30T08:23:40.881Z"
   },
   {
    "duration": 64,
    "start_time": "2023-05-30T08:23:42.075Z"
   },
   {
    "duration": 39,
    "start_time": "2023-05-30T08:23:42.143Z"
   },
   {
    "duration": 5,
    "start_time": "2023-05-30T08:23:42.184Z"
   },
   {
    "duration": 26,
    "start_time": "2023-05-30T08:23:42.191Z"
   },
   {
    "duration": 30,
    "start_time": "2023-05-30T08:23:42.226Z"
   },
   {
    "duration": 16,
    "start_time": "2023-05-30T08:23:42.258Z"
   },
   {
    "duration": 9,
    "start_time": "2023-05-30T08:23:42.276Z"
   },
   {
    "duration": 8,
    "start_time": "2023-05-30T08:23:42.286Z"
   },
   {
    "duration": 51,
    "start_time": "2023-05-30T08:23:42.296Z"
   },
   {
    "duration": 21,
    "start_time": "2023-05-30T08:23:42.349Z"
   },
   {
    "duration": 12,
    "start_time": "2023-05-30T08:23:42.372Z"
   },
   {
    "duration": 20,
    "start_time": "2023-05-30T08:23:42.385Z"
   },
   {
    "duration": 6,
    "start_time": "2023-05-30T08:23:42.408Z"
   },
   {
    "duration": 17,
    "start_time": "2023-05-30T08:23:42.415Z"
   },
   {
    "duration": 50,
    "start_time": "2023-05-30T08:23:42.436Z"
   },
   {
    "duration": 16,
    "start_time": "2023-05-30T08:23:42.488Z"
   },
   {
    "duration": 17,
    "start_time": "2023-05-30T08:23:42.505Z"
   },
   {
    "duration": 21,
    "start_time": "2023-05-30T08:23:42.523Z"
   },
   {
    "duration": 27,
    "start_time": "2023-05-30T08:23:42.545Z"
   },
   {
    "duration": 7,
    "start_time": "2023-05-30T08:23:42.574Z"
   },
   {
    "duration": 20,
    "start_time": "2023-05-30T08:23:42.583Z"
   },
   {
    "duration": 24,
    "start_time": "2023-05-30T08:23:42.605Z"
   },
   {
    "duration": 15,
    "start_time": "2023-05-30T08:23:42.634Z"
   },
   {
    "duration": 21,
    "start_time": "2023-05-30T08:23:42.650Z"
   },
   {
    "duration": 18,
    "start_time": "2023-05-30T08:23:42.674Z"
   },
   {
    "duration": 7,
    "start_time": "2023-05-30T08:23:42.693Z"
   },
   {
    "duration": 17,
    "start_time": "2023-05-30T08:23:42.702Z"
   },
   {
    "duration": 32,
    "start_time": "2023-05-30T08:23:42.723Z"
   },
   {
    "duration": 504,
    "start_time": "2023-05-30T08:23:42.757Z"
   },
   {
    "duration": 9,
    "start_time": "2023-05-30T08:28:07.388Z"
   },
   {
    "duration": 8,
    "start_time": "2023-05-30T08:28:08.439Z"
   },
   {
    "duration": 9,
    "start_time": "2023-05-30T08:28:11.581Z"
   },
   {
    "duration": 4,
    "start_time": "2023-05-30T08:28:14.071Z"
   },
   {
    "duration": 5,
    "start_time": "2023-05-30T08:28:15.595Z"
   },
   {
    "duration": 15,
    "start_time": "2023-05-30T08:28:17.503Z"
   },
   {
    "duration": 8,
    "start_time": "2023-05-30T08:28:33.413Z"
   },
   {
    "duration": 1263,
    "start_time": "2023-05-30T08:33:23.525Z"
   },
   {
    "duration": 94,
    "start_time": "2023-05-30T08:33:24.791Z"
   },
   {
    "duration": 30,
    "start_time": "2023-05-30T08:33:24.887Z"
   },
   {
    "duration": 26,
    "start_time": "2023-05-30T08:33:24.920Z"
   },
   {
    "duration": 25,
    "start_time": "2023-05-30T08:33:24.949Z"
   },
   {
    "duration": 43,
    "start_time": "2023-05-30T08:33:24.976Z"
   },
   {
    "duration": 49,
    "start_time": "2023-05-30T08:33:25.022Z"
   },
   {
    "duration": 23,
    "start_time": "2023-05-30T08:33:25.073Z"
   },
   {
    "duration": 24,
    "start_time": "2023-05-30T08:33:25.098Z"
   },
   {
    "duration": 25,
    "start_time": "2023-05-30T08:33:25.124Z"
   },
   {
    "duration": 17,
    "start_time": "2023-05-30T08:33:25.151Z"
   },
   {
    "duration": 22,
    "start_time": "2023-05-30T08:33:25.169Z"
   },
   {
    "duration": 21,
    "start_time": "2023-05-30T08:33:25.193Z"
   },
   {
    "duration": 30,
    "start_time": "2023-05-30T08:33:25.217Z"
   },
   {
    "duration": 22,
    "start_time": "2023-05-30T08:33:25.249Z"
   },
   {
    "duration": 21,
    "start_time": "2023-05-30T08:33:25.273Z"
   },
   {
    "duration": 7,
    "start_time": "2023-05-30T08:33:25.296Z"
   },
   {
    "duration": 18,
    "start_time": "2023-05-30T08:33:25.305Z"
   },
   {
    "duration": 27,
    "start_time": "2023-05-30T08:33:25.326Z"
   },
   {
    "duration": 11,
    "start_time": "2023-05-30T08:33:25.355Z"
   },
   {
    "duration": 45,
    "start_time": "2023-05-30T08:33:25.367Z"
   },
   {
    "duration": 33,
    "start_time": "2023-05-30T08:33:25.413Z"
   },
   {
    "duration": 14,
    "start_time": "2023-05-30T08:33:25.447Z"
   },
   {
    "duration": 28,
    "start_time": "2023-05-30T08:33:25.463Z"
   },
   {
    "duration": 39,
    "start_time": "2023-05-30T08:33:25.493Z"
   },
   {
    "duration": 507,
    "start_time": "2023-05-30T08:33:25.534Z"
   },
   {
    "duration": 15,
    "start_time": "2023-05-30T08:36:04.666Z"
   },
   {
    "duration": 114,
    "start_time": "2023-05-30T08:36:45.759Z"
   },
   {
    "duration": 11,
    "start_time": "2023-05-30T08:39:22.841Z"
   },
   {
    "duration": 5,
    "start_time": "2023-05-30T08:39:45.200Z"
   },
   {
    "duration": 10,
    "start_time": "2023-05-30T08:39:45.895Z"
   },
   {
    "duration": 242,
    "start_time": "2023-05-30T08:40:35.091Z"
   },
   {
    "duration": 124,
    "start_time": "2023-05-30T08:40:44.102Z"
   },
   {
    "duration": 38,
    "start_time": "2023-05-30T08:42:19.862Z"
   },
   {
    "duration": 16,
    "start_time": "2023-05-30T08:42:28.237Z"
   },
   {
    "duration": 29,
    "start_time": "2023-05-30T08:44:43.515Z"
   },
   {
    "duration": 4141,
    "start_time": "2023-05-30T08:48:20.676Z"
   },
   {
    "duration": 6289,
    "start_time": "2023-05-30T08:50:04.947Z"
   },
   {
    "duration": 13,
    "start_time": "2023-05-30T08:56:35.258Z"
   },
   {
    "duration": 540,
    "start_time": "2023-05-30T08:56:36.116Z"
   },
   {
    "duration": 6,
    "start_time": "2023-05-30T08:56:42.143Z"
   },
   {
    "duration": 8,
    "start_time": "2023-05-30T08:57:34.695Z"
   },
   {
    "duration": 8,
    "start_time": "2023-05-30T08:57:41.743Z"
   },
   {
    "duration": 20,
    "start_time": "2023-05-30T08:57:59.536Z"
   },
   {
    "duration": 18,
    "start_time": "2023-05-30T08:58:04.840Z"
   },
   {
    "duration": 12,
    "start_time": "2023-05-30T08:58:07.724Z"
   },
   {
    "duration": 11,
    "start_time": "2023-05-30T08:58:08.548Z"
   },
   {
    "duration": 3,
    "start_time": "2023-05-30T09:00:19.409Z"
   },
   {
    "duration": 3,
    "start_time": "2023-05-30T09:00:30.323Z"
   },
   {
    "duration": 161,
    "start_time": "2023-05-30T09:00:33.143Z"
   },
   {
    "duration": 6,
    "start_time": "2023-05-30T09:01:05.318Z"
   },
   {
    "duration": 5,
    "start_time": "2023-05-30T09:01:14.607Z"
   },
   {
    "duration": 20,
    "start_time": "2023-05-30T09:01:25.373Z"
   },
   {
    "duration": 15,
    "start_time": "2023-05-30T09:01:43.485Z"
   },
   {
    "duration": 20,
    "start_time": "2023-05-30T09:02:02.170Z"
   },
   {
    "duration": 5,
    "start_time": "2023-05-30T09:02:22.910Z"
   },
   {
    "duration": 6,
    "start_time": "2023-05-30T09:02:26.056Z"
   },
   {
    "duration": 7,
    "start_time": "2023-05-30T09:02:30.578Z"
   },
   {
    "duration": 1055,
    "start_time": "2023-05-30T09:02:43.226Z"
   },
   {
    "duration": 5,
    "start_time": "2023-05-30T09:04:26.386Z"
   },
   {
    "duration": 13,
    "start_time": "2023-05-30T09:04:57.479Z"
   },
   {
    "duration": 13,
    "start_time": "2023-05-30T09:05:03.665Z"
   },
   {
    "duration": 5,
    "start_time": "2023-05-30T09:05:05.205Z"
   },
   {
    "duration": 16,
    "start_time": "2023-05-30T09:05:10.805Z"
   },
   {
    "duration": 466,
    "start_time": "2023-05-30T09:05:13.429Z"
   },
   {
    "duration": 5,
    "start_time": "2023-05-30T09:05:48.227Z"
   },
   {
    "duration": 11,
    "start_time": "2023-05-30T09:05:56.646Z"
   },
   {
    "duration": 119,
    "start_time": "2023-05-30T09:13:11.239Z"
   },
   {
    "duration": 98,
    "start_time": "2023-05-30T09:13:17.938Z"
   },
   {
    "duration": 101,
    "start_time": "2023-05-30T09:13:32.533Z"
   },
   {
    "duration": 21,
    "start_time": "2023-05-30T09:14:40.358Z"
   },
   {
    "duration": 12,
    "start_time": "2023-05-30T09:14:50.175Z"
   },
   {
    "duration": 11,
    "start_time": "2023-05-30T09:15:40.490Z"
   },
   {
    "duration": 31,
    "start_time": "2023-05-30T09:16:16.103Z"
   },
   {
    "duration": 13,
    "start_time": "2023-05-30T09:16:29.740Z"
   },
   {
    "duration": 11,
    "start_time": "2023-05-30T09:16:36.162Z"
   },
   {
    "duration": 9,
    "start_time": "2023-05-30T09:18:02.861Z"
   },
   {
    "duration": 11,
    "start_time": "2023-05-30T09:18:13.934Z"
   },
   {
    "duration": 17,
    "start_time": "2023-05-30T09:18:24.842Z"
   },
   {
    "duration": 29,
    "start_time": "2023-05-30T09:18:53.000Z"
   },
   {
    "duration": 12,
    "start_time": "2023-05-30T09:18:59.475Z"
   },
   {
    "duration": 20,
    "start_time": "2023-05-30T09:19:12.342Z"
   },
   {
    "duration": 11,
    "start_time": "2023-05-30T09:19:21.897Z"
   },
   {
    "duration": 8,
    "start_time": "2023-05-30T09:20:12.580Z"
   },
   {
    "duration": 8,
    "start_time": "2023-05-30T09:20:22.705Z"
   },
   {
    "duration": 11,
    "start_time": "2023-05-30T09:20:43.501Z"
   },
   {
    "duration": 14,
    "start_time": "2023-05-30T09:31:39.241Z"
   },
   {
    "duration": 4,
    "start_time": "2023-05-30T09:31:58.738Z"
   },
   {
    "duration": 6,
    "start_time": "2023-05-30T09:32:02.772Z"
   },
   {
    "duration": 4,
    "start_time": "2023-05-30T09:32:07.154Z"
   },
   {
    "duration": 12,
    "start_time": "2023-05-30T09:35:35.952Z"
   },
   {
    "duration": 6,
    "start_time": "2023-05-30T09:35:36.845Z"
   },
   {
    "duration": 16,
    "start_time": "2023-05-30T09:35:41.037Z"
   },
   {
    "duration": 507,
    "start_time": "2023-05-30T09:35:53.109Z"
   },
   {
    "duration": 7,
    "start_time": "2023-05-30T09:39:52.675Z"
   },
   {
    "duration": 8,
    "start_time": "2023-05-30T09:40:08.439Z"
   },
   {
    "duration": 11,
    "start_time": "2023-05-30T09:41:51.801Z"
   },
   {
    "duration": 21,
    "start_time": "2023-05-30T09:41:52.314Z"
   },
   {
    "duration": 15,
    "start_time": "2023-05-30T09:42:32.062Z"
   },
   {
    "duration": 6,
    "start_time": "2023-05-30T09:42:32.575Z"
   },
   {
    "duration": 10,
    "start_time": "2023-05-30T09:42:38.952Z"
   },
   {
    "duration": 47032,
    "start_time": "2023-05-30T09:45:54.615Z"
   },
   {
    "duration": 9,
    "start_time": "2023-05-30T09:49:34.087Z"
   },
   {
    "duration": 11,
    "start_time": "2023-05-30T09:49:34.397Z"
   },
   {
    "duration": 6,
    "start_time": "2023-05-30T09:49:43.298Z"
   },
   {
    "duration": 11,
    "start_time": "2023-05-30T09:49:43.545Z"
   },
   {
    "duration": 770,
    "start_time": "2023-05-30T09:58:23.295Z"
   },
   {
    "duration": 277,
    "start_time": "2023-05-30T09:58:42.404Z"
   },
   {
    "duration": 253,
    "start_time": "2023-05-30T10:04:54.059Z"
   },
   {
    "duration": 1699,
    "start_time": "2023-05-30T10:08:46.502Z"
   },
   {
    "duration": 268,
    "start_time": "2023-05-30T10:09:23.075Z"
   },
   {
    "duration": 270,
    "start_time": "2023-05-30T10:17:49.489Z"
   },
   {
    "duration": 211,
    "start_time": "2023-05-30T10:17:51.282Z"
   },
   {
    "duration": 1583,
    "start_time": "2023-05-30T10:20:10.629Z"
   },
   {
    "duration": 4,
    "start_time": "2023-05-30T10:21:26.093Z"
   },
   {
    "duration": 34,
    "start_time": "2023-05-30T10:21:35.097Z"
   },
   {
    "duration": 7,
    "start_time": "2023-05-30T10:23:06.634Z"
   },
   {
    "duration": 12,
    "start_time": "2023-05-30T10:23:09.243Z"
   },
   {
    "duration": 314,
    "start_time": "2023-05-30T10:23:19.005Z"
   },
   {
    "duration": 264,
    "start_time": "2023-05-30T10:23:30.534Z"
   },
   {
    "duration": 602,
    "start_time": "2023-05-30T10:23:56.181Z"
   },
   {
    "duration": 1420,
    "start_time": "2023-05-30T10:24:14.183Z"
   },
   {
    "duration": 1272,
    "start_time": "2023-05-30T10:24:26.967Z"
   },
   {
    "duration": 590,
    "start_time": "2023-05-30T10:28:26.602Z"
   },
   {
    "duration": 144,
    "start_time": "2023-05-30T10:30:06.177Z"
   },
   {
    "duration": 116,
    "start_time": "2023-05-30T10:30:22.682Z"
   },
   {
    "duration": 216,
    "start_time": "2023-05-30T10:30:44.663Z"
   },
   {
    "duration": 125,
    "start_time": "2023-05-30T10:31:43.567Z"
   },
   {
    "duration": 256,
    "start_time": "2023-05-30T10:31:56.316Z"
   },
   {
    "duration": 6,
    "start_time": "2023-05-30T10:33:08.088Z"
   },
   {
    "duration": 48,
    "start_time": "2023-05-30T10:33:10.241Z"
   },
   {
    "duration": 251,
    "start_time": "2023-05-30T10:34:35.598Z"
   },
   {
    "duration": 9,
    "start_time": "2023-05-30T10:36:13.756Z"
   },
   {
    "duration": 171,
    "start_time": "2023-05-30T10:37:15.372Z"
   },
   {
    "duration": 4,
    "start_time": "2023-05-30T10:37:25.470Z"
   },
   {
    "duration": 4,
    "start_time": "2023-05-30T10:39:26.597Z"
   },
   {
    "duration": 182,
    "start_time": "2023-05-30T10:39:31.505Z"
   },
   {
    "duration": 163,
    "start_time": "2023-05-30T10:39:44.141Z"
   },
   {
    "duration": 112,
    "start_time": "2023-05-30T10:41:01.260Z"
   },
   {
    "duration": 22,
    "start_time": "2023-05-30T10:42:17.457Z"
   },
   {
    "duration": 24,
    "start_time": "2023-05-30T10:42:23.463Z"
   },
   {
    "duration": 7,
    "start_time": "2023-05-30T10:42:37.892Z"
   },
   {
    "duration": 5,
    "start_time": "2023-05-30T10:42:45.680Z"
   },
   {
    "duration": 7,
    "start_time": "2023-05-30T10:42:49.373Z"
   },
   {
    "duration": 181,
    "start_time": "2023-05-30T10:42:49.567Z"
   },
   {
    "duration": 167,
    "start_time": "2023-05-30T10:42:51.977Z"
   },
   {
    "duration": 18,
    "start_time": "2023-05-30T10:43:23.155Z"
   },
   {
    "duration": 317,
    "start_time": "2023-05-30T10:44:11.795Z"
   },
   {
    "duration": 330,
    "start_time": "2023-05-30T10:44:19.378Z"
   },
   {
    "duration": 14,
    "start_time": "2023-05-30T10:45:07.385Z"
   },
   {
    "duration": 311,
    "start_time": "2023-05-30T10:45:20.000Z"
   },
   {
    "duration": 12,
    "start_time": "2023-05-30T10:45:58.890Z"
   },
   {
    "duration": 337,
    "start_time": "2023-05-30T10:46:54.010Z"
   },
   {
    "duration": 6,
    "start_time": "2023-05-30T11:20:54.365Z"
   },
   {
    "duration": 14,
    "start_time": "2023-05-30T11:20:59.566Z"
   },
   {
    "duration": 9,
    "start_time": "2023-05-30T11:22:45.593Z"
   },
   {
    "duration": 149,
    "start_time": "2023-05-30T11:22:50.646Z"
   },
   {
    "duration": 8,
    "start_time": "2023-05-30T11:23:33.773Z"
   },
   {
    "duration": 10,
    "start_time": "2023-05-30T11:23:35.464Z"
   },
   {
    "duration": 8,
    "start_time": "2023-05-30T11:24:21.681Z"
   },
   {
    "duration": 10,
    "start_time": "2023-05-30T11:24:24.981Z"
   },
   {
    "duration": 7,
    "start_time": "2023-05-30T11:24:29.986Z"
   },
   {
    "duration": 6,
    "start_time": "2023-05-30T11:24:33.377Z"
   },
   {
    "duration": 5,
    "start_time": "2023-05-30T11:24:36.376Z"
   },
   {
    "duration": 7,
    "start_time": "2023-05-30T11:25:21.692Z"
   },
   {
    "duration": 127,
    "start_time": "2023-05-30T11:25:30.884Z"
   },
   {
    "duration": 140,
    "start_time": "2023-05-30T11:26:16.270Z"
   },
   {
    "duration": 99,
    "start_time": "2023-05-30T11:26:45.780Z"
   },
   {
    "duration": 161,
    "start_time": "2023-05-30T11:38:23.682Z"
   },
   {
    "duration": 213,
    "start_time": "2023-05-30T11:38:32.079Z"
   },
   {
    "duration": 206,
    "start_time": "2023-05-30T11:38:47.306Z"
   },
   {
    "duration": 113,
    "start_time": "2023-05-30T11:39:17.485Z"
   },
   {
    "duration": 170,
    "start_time": "2023-05-30T11:39:24.615Z"
   },
   {
    "duration": 118,
    "start_time": "2023-05-30T11:39:56.365Z"
   },
   {
    "duration": 1407,
    "start_time": "2023-05-31T07:05:25.962Z"
   },
   {
    "duration": 188,
    "start_time": "2023-05-31T07:05:27.371Z"
   },
   {
    "duration": 43,
    "start_time": "2023-05-31T07:05:27.561Z"
   },
   {
    "duration": 4,
    "start_time": "2023-05-31T07:05:27.606Z"
   },
   {
    "duration": 6,
    "start_time": "2023-05-31T07:05:27.613Z"
   },
   {
    "duration": 38,
    "start_time": "2023-05-31T07:05:27.621Z"
   },
   {
    "duration": 15,
    "start_time": "2023-05-31T07:05:27.661Z"
   },
   {
    "duration": 10,
    "start_time": "2023-05-31T07:05:27.678Z"
   },
   {
    "duration": 7,
    "start_time": "2023-05-31T07:05:27.690Z"
   },
   {
    "duration": 6,
    "start_time": "2023-05-31T07:05:27.699Z"
   },
   {
    "duration": 7,
    "start_time": "2023-05-31T07:05:27.707Z"
   },
   {
    "duration": 30,
    "start_time": "2023-05-31T07:05:27.750Z"
   },
   {
    "duration": 14,
    "start_time": "2023-05-31T07:05:27.782Z"
   },
   {
    "duration": 13,
    "start_time": "2023-05-31T07:05:27.799Z"
   },
   {
    "duration": 44,
    "start_time": "2023-05-31T07:05:27.814Z"
   },
   {
    "duration": 20,
    "start_time": "2023-05-31T07:05:27.860Z"
   },
   {
    "duration": 8,
    "start_time": "2023-05-31T07:05:27.883Z"
   },
   {
    "duration": 18,
    "start_time": "2023-05-31T07:05:27.893Z"
   },
   {
    "duration": 52,
    "start_time": "2023-05-31T07:05:27.913Z"
   },
   {
    "duration": 6,
    "start_time": "2023-05-31T07:05:27.967Z"
   },
   {
    "duration": 24,
    "start_time": "2023-05-31T07:05:27.975Z"
   },
   {
    "duration": 21,
    "start_time": "2023-05-31T07:05:28.001Z"
   },
   {
    "duration": 7,
    "start_time": "2023-05-31T07:05:28.052Z"
   },
   {
    "duration": 4,
    "start_time": "2023-05-31T07:05:28.062Z"
   },
   {
    "duration": 171,
    "start_time": "2023-05-31T07:05:28.069Z"
   },
   {
    "duration": 21,
    "start_time": "2023-05-31T07:05:28.242Z"
   },
   {
    "duration": 25,
    "start_time": "2023-05-31T07:05:28.266Z"
   },
   {
    "duration": 17,
    "start_time": "2023-05-31T07:05:28.293Z"
   },
   {
    "duration": 508,
    "start_time": "2023-05-31T07:05:28.312Z"
   },
   {
    "duration": 29,
    "start_time": "2023-05-31T07:05:28.822Z"
   },
   {
    "duration": 5,
    "start_time": "2023-05-31T07:05:28.853Z"
   },
   {
    "duration": 156,
    "start_time": "2023-05-31T07:05:28.860Z"
   },
   {
    "duration": 0,
    "start_time": "2023-05-31T07:05:29.018Z"
   },
   {
    "duration": 0,
    "start_time": "2023-05-31T07:05:29.019Z"
   },
   {
    "duration": 0,
    "start_time": "2023-05-31T07:05:29.020Z"
   },
   {
    "duration": 0,
    "start_time": "2023-05-31T07:05:29.021Z"
   },
   {
    "duration": 0,
    "start_time": "2023-05-31T07:05:29.023Z"
   },
   {
    "duration": 0,
    "start_time": "2023-05-31T07:05:29.025Z"
   },
   {
    "duration": 0,
    "start_time": "2023-05-31T07:05:29.026Z"
   },
   {
    "duration": 0,
    "start_time": "2023-05-31T07:05:29.027Z"
   },
   {
    "duration": 0,
    "start_time": "2023-05-31T07:05:29.029Z"
   },
   {
    "duration": 0,
    "start_time": "2023-05-31T07:05:29.051Z"
   },
   {
    "duration": 0,
    "start_time": "2023-05-31T07:05:29.051Z"
   },
   {
    "duration": 0,
    "start_time": "2023-05-31T07:05:29.053Z"
   },
   {
    "duration": 0,
    "start_time": "2023-05-31T07:05:29.054Z"
   },
   {
    "duration": 0,
    "start_time": "2023-05-31T07:05:29.055Z"
   },
   {
    "duration": 0,
    "start_time": "2023-05-31T07:05:29.056Z"
   },
   {
    "duration": 6,
    "start_time": "2023-05-31T07:05:40.178Z"
   },
   {
    "duration": 12,
    "start_time": "2023-05-31T07:05:42.210Z"
   },
   {
    "duration": 261,
    "start_time": "2023-05-31T07:05:42.520Z"
   },
   {
    "duration": 639,
    "start_time": "2023-05-31T07:05:42.783Z"
   },
   {
    "duration": 19,
    "start_time": "2023-05-31T07:05:43.432Z"
   },
   {
    "duration": 319,
    "start_time": "2023-05-31T07:05:44.178Z"
   },
   {
    "duration": 15,
    "start_time": "2023-05-31T07:05:44.498Z"
   },
   {
    "duration": 269,
    "start_time": "2023-05-31T07:05:44.530Z"
   },
   {
    "duration": 15,
    "start_time": "2023-05-31T07:05:44.832Z"
   },
   {
    "duration": 268,
    "start_time": "2023-05-31T07:05:44.887Z"
   },
   {
    "duration": 13,
    "start_time": "2023-05-31T07:05:45.880Z"
   },
   {
    "duration": 8,
    "start_time": "2023-05-31T07:05:47.532Z"
   },
   {
    "duration": 5,
    "start_time": "2023-05-31T07:05:47.697Z"
   },
   {
    "duration": 5,
    "start_time": "2023-05-31T07:05:47.977Z"
   },
   {
    "duration": 7,
    "start_time": "2023-05-31T07:05:48.511Z"
   },
   {
    "duration": 110,
    "start_time": "2023-05-31T07:05:48.586Z"
   },
   {
    "duration": 9,
    "start_time": "2023-05-31T07:13:22.809Z"
   },
   {
    "duration": 4,
    "start_time": "2023-05-31T07:13:26.859Z"
   },
   {
    "duration": 5,
    "start_time": "2023-05-31T07:13:33.714Z"
   },
   {
    "duration": 7,
    "start_time": "2023-05-31T07:14:44.860Z"
   },
   {
    "duration": 4,
    "start_time": "2023-05-31T07:14:47.646Z"
   },
   {
    "duration": 2012,
    "start_time": "2023-05-31T07:15:44.989Z"
   },
   {
    "duration": 5,
    "start_time": "2023-05-31T07:16:42.263Z"
   },
   {
    "duration": 4,
    "start_time": "2023-05-31T07:17:10.574Z"
   },
   {
    "duration": 7,
    "start_time": "2023-05-31T07:17:14.480Z"
   },
   {
    "duration": 3,
    "start_time": "2023-05-31T07:17:25.997Z"
   },
   {
    "duration": 11,
    "start_time": "2023-05-31T07:18:29.425Z"
   },
   {
    "duration": 11,
    "start_time": "2023-05-31T07:18:46.677Z"
   },
   {
    "duration": 11,
    "start_time": "2023-05-31T07:19:04.412Z"
   },
   {
    "duration": 79,
    "start_time": "2023-05-31T07:37:11.302Z"
   },
   {
    "duration": 7,
    "start_time": "2023-05-31T07:37:30.055Z"
   },
   {
    "duration": 5,
    "start_time": "2023-05-31T07:37:31.111Z"
   },
   {
    "duration": 115,
    "start_time": "2023-05-31T07:37:36.703Z"
   },
   {
    "duration": 179,
    "start_time": "2023-05-31T07:37:53.661Z"
   },
   {
    "duration": 244,
    "start_time": "2023-05-31T07:38:03.303Z"
   },
   {
    "duration": 252,
    "start_time": "2023-05-31T07:38:33.783Z"
   },
   {
    "duration": 263,
    "start_time": "2023-05-31T07:38:41.932Z"
   },
   {
    "duration": 267,
    "start_time": "2023-05-31T07:38:46.641Z"
   },
   {
    "duration": 274,
    "start_time": "2023-05-31T07:39:36.276Z"
   },
   {
    "duration": 306,
    "start_time": "2023-05-31T07:39:46.328Z"
   },
   {
    "duration": 304,
    "start_time": "2023-05-31T07:40:24.192Z"
   },
   {
    "duration": 293,
    "start_time": "2023-05-31T07:40:53.131Z"
   },
   {
    "duration": 283,
    "start_time": "2023-05-31T07:40:59.212Z"
   },
   {
    "duration": 256,
    "start_time": "2023-05-31T07:41:59.143Z"
   },
   {
    "duration": 347,
    "start_time": "2023-05-31T07:42:08.275Z"
   },
   {
    "duration": 8,
    "start_time": "2023-05-31T07:43:15.053Z"
   },
   {
    "duration": 352,
    "start_time": "2023-05-31T07:43:25.487Z"
   },
   {
    "duration": 356,
    "start_time": "2023-05-31T07:43:40.679Z"
   },
   {
    "duration": 177,
    "start_time": "2023-05-31T07:43:46.103Z"
   },
   {
    "duration": 188,
    "start_time": "2023-05-31T07:44:01.946Z"
   },
   {
    "duration": 181,
    "start_time": "2023-05-31T07:44:08.018Z"
   },
   {
    "duration": 186,
    "start_time": "2023-05-31T07:44:23.353Z"
   },
   {
    "duration": 5,
    "start_time": "2023-05-31T07:48:25.580Z"
   },
   {
    "duration": 2176,
    "start_time": "2023-05-31T07:51:23.744Z"
   },
   {
    "duration": 627,
    "start_time": "2023-05-31T07:52:59.844Z"
   },
   {
    "duration": 343,
    "start_time": "2023-05-31T07:54:58.382Z"
   },
   {
    "duration": 255,
    "start_time": "2023-05-31T07:56:50.943Z"
   },
   {
    "duration": 15,
    "start_time": "2023-05-31T07:57:15.741Z"
   },
   {
    "duration": 16,
    "start_time": "2023-05-31T07:57:22.989Z"
   },
   {
    "duration": 357,
    "start_time": "2023-05-31T07:57:51.045Z"
   },
   {
    "duration": 166,
    "start_time": "2023-05-31T07:58:34.749Z"
   },
   {
    "duration": 165,
    "start_time": "2023-05-31T07:58:41.237Z"
   },
   {
    "duration": 4,
    "start_time": "2023-05-31T07:59:20.689Z"
   },
   {
    "duration": 13,
    "start_time": "2023-05-31T07:59:22.601Z"
   },
   {
    "duration": 220,
    "start_time": "2023-05-31T08:00:06.201Z"
   },
   {
    "duration": 221,
    "start_time": "2023-05-31T08:00:22.945Z"
   },
   {
    "duration": 475,
    "start_time": "2023-05-31T08:04:28.529Z"
   },
   {
    "duration": 489,
    "start_time": "2023-05-31T08:04:50.522Z"
   },
   {
    "duration": 16,
    "start_time": "2023-05-31T08:05:01.252Z"
   },
   {
    "duration": 217,
    "start_time": "2023-05-31T08:06:50.303Z"
   },
   {
    "duration": 243,
    "start_time": "2023-05-31T08:07:02.120Z"
   },
   {
    "duration": 320,
    "start_time": "2023-05-31T08:08:47.988Z"
   },
   {
    "duration": 744,
    "start_time": "2023-05-31T08:09:37.514Z"
   },
   {
    "duration": 726,
    "start_time": "2023-05-31T08:09:48.189Z"
   },
   {
    "duration": 923,
    "start_time": "2023-05-31T08:11:00.207Z"
   },
   {
    "duration": 973,
    "start_time": "2023-05-31T08:11:37.809Z"
   },
   {
    "duration": 628,
    "start_time": "2023-05-31T08:12:12.710Z"
   },
   {
    "duration": 507,
    "start_time": "2023-05-31T08:12:40.916Z"
   },
   {
    "duration": 526,
    "start_time": "2023-05-31T08:12:55.074Z"
   },
   {
    "duration": 471,
    "start_time": "2023-05-31T08:12:59.596Z"
   },
   {
    "duration": 412982,
    "start_time": "2023-05-31T08:14:00.986Z"
   },
   {
    "duration": 3,
    "start_time": "2023-05-31T08:25:49.941Z"
   },
   {
    "duration": 119,
    "start_time": "2023-05-31T08:28:14.612Z"
   },
   {
    "duration": 33,
    "start_time": "2023-05-31T08:28:19.307Z"
   },
   {
    "duration": 18,
    "start_time": "2023-05-31T08:28:31.942Z"
   },
   {
    "duration": 12,
    "start_time": "2023-05-31T08:28:49.769Z"
   },
   {
    "duration": 13,
    "start_time": "2023-05-31T08:29:01.690Z"
   },
   {
    "duration": 5,
    "start_time": "2023-05-31T08:29:15.782Z"
   },
   {
    "duration": 13,
    "start_time": "2023-05-31T08:29:37.550Z"
   },
   {
    "duration": 26,
    "start_time": "2023-05-31T08:30:51.387Z"
   },
   {
    "duration": 26,
    "start_time": "2023-05-31T08:31:01.030Z"
   },
   {
    "duration": 28,
    "start_time": "2023-05-31T08:31:04.175Z"
   },
   {
    "duration": 6,
    "start_time": "2023-05-31T08:33:54.037Z"
   },
   {
    "duration": 69,
    "start_time": "2023-05-31T08:34:03.604Z"
   },
   {
    "duration": 24,
    "start_time": "2023-05-31T08:34:05.900Z"
   },
   {
    "duration": 3250,
    "start_time": "2023-05-31T08:34:13.043Z"
   },
   {
    "duration": 5,
    "start_time": "2023-05-31T08:34:28.247Z"
   },
   {
    "duration": 8,
    "start_time": "2023-05-31T08:34:49.797Z"
   },
   {
    "duration": 15,
    "start_time": "2023-05-31T08:35:04.751Z"
   },
   {
    "duration": 5,
    "start_time": "2023-05-31T08:37:47.048Z"
   },
   {
    "duration": 8,
    "start_time": "2023-05-31T08:38:06.586Z"
   },
   {
    "duration": 6,
    "start_time": "2023-05-31T08:38:07.429Z"
   },
   {
    "duration": 5,
    "start_time": "2023-05-31T08:38:09.639Z"
   },
   {
    "duration": 13,
    "start_time": "2023-05-31T08:46:07.318Z"
   },
   {
    "duration": 6,
    "start_time": "2023-05-31T08:46:07.619Z"
   },
   {
    "duration": 19,
    "start_time": "2023-05-31T08:47:18.068Z"
   },
   {
    "duration": 9,
    "start_time": "2023-05-31T08:47:56.781Z"
   },
   {
    "duration": 7,
    "start_time": "2023-05-31T08:48:00.339Z"
   },
   {
    "duration": 13,
    "start_time": "2023-05-31T08:48:42.846Z"
   },
   {
    "duration": 7,
    "start_time": "2023-05-31T08:48:43.925Z"
   },
   {
    "duration": 4,
    "start_time": "2023-05-31T09:06:38.896Z"
   },
   {
    "duration": 57,
    "start_time": "2023-05-31T09:06:39.939Z"
   },
   {
    "duration": 31,
    "start_time": "2023-05-31T09:06:43.946Z"
   },
   {
    "duration": 5,
    "start_time": "2023-05-31T09:09:21.124Z"
   },
   {
    "duration": 6,
    "start_time": "2023-05-31T09:09:22.189Z"
   },
   {
    "duration": 37,
    "start_time": "2023-05-31T09:11:00.390Z"
   },
   {
    "duration": 24,
    "start_time": "2023-05-31T09:11:06.788Z"
   },
   {
    "duration": 104,
    "start_time": "2023-05-31T09:11:38.488Z"
   },
   {
    "duration": 11,
    "start_time": "2023-05-31T09:11:41.241Z"
   },
   {
    "duration": 11,
    "start_time": "2023-05-31T09:11:46.392Z"
   },
   {
    "duration": 11,
    "start_time": "2023-05-31T09:12:00.504Z"
   },
   {
    "duration": 26,
    "start_time": "2023-05-31T09:14:33.294Z"
   },
   {
    "duration": 18,
    "start_time": "2023-05-31T09:14:54.559Z"
   },
   {
    "duration": 16,
    "start_time": "2023-05-31T09:15:18.800Z"
   },
   {
    "duration": 15,
    "start_time": "2023-05-31T09:15:25.241Z"
   },
   {
    "duration": 16,
    "start_time": "2023-05-31T09:15:33.546Z"
   },
   {
    "duration": 16,
    "start_time": "2023-05-31T09:15:40.940Z"
   },
   {
    "duration": 16,
    "start_time": "2023-05-31T09:15:49.306Z"
   },
   {
    "duration": 19,
    "start_time": "2023-05-31T09:15:54.990Z"
   },
   {
    "duration": 9,
    "start_time": "2023-05-31T09:17:17.888Z"
   },
   {
    "duration": 7,
    "start_time": "2023-05-31T09:17:19.025Z"
   },
   {
    "duration": 8,
    "start_time": "2023-05-31T09:17:22.220Z"
   },
   {
    "duration": 5,
    "start_time": "2023-05-31T09:18:36.191Z"
   },
   {
    "duration": 5,
    "start_time": "2023-05-31T09:19:02.412Z"
   },
   {
    "duration": 8,
    "start_time": "2023-05-31T09:19:04.112Z"
   },
   {
    "duration": 12,
    "start_time": "2023-05-31T09:19:11.523Z"
   },
   {
    "duration": 20,
    "start_time": "2023-05-31T09:19:30.360Z"
   },
   {
    "duration": 4,
    "start_time": "2023-05-31T09:19:42.686Z"
   },
   {
    "duration": 16,
    "start_time": "2023-05-31T09:19:46.445Z"
   },
   {
    "duration": 15,
    "start_time": "2023-05-31T09:20:09.975Z"
   },
   {
    "duration": 12,
    "start_time": "2023-05-31T09:21:19.952Z"
   },
   {
    "duration": 5,
    "start_time": "2023-05-31T09:21:50.026Z"
   },
   {
    "duration": 8,
    "start_time": "2023-05-31T09:21:50.501Z"
   },
   {
    "duration": 4,
    "start_time": "2023-05-31T09:21:53.197Z"
   },
   {
    "duration": 10,
    "start_time": "2023-05-31T09:21:58.188Z"
   },
   {
    "duration": 17,
    "start_time": "2023-05-31T09:22:19.139Z"
   },
   {
    "duration": 8,
    "start_time": "2023-05-31T09:22:25.541Z"
   },
   {
    "duration": 12,
    "start_time": "2023-05-31T09:22:40.643Z"
   },
   {
    "duration": 5,
    "start_time": "2023-05-31T09:22:58.003Z"
   },
   {
    "duration": 7,
    "start_time": "2023-05-31T09:23:15.863Z"
   },
   {
    "duration": 13,
    "start_time": "2023-05-31T09:23:44.085Z"
   },
   {
    "duration": 4,
    "start_time": "2023-05-31T09:23:47.937Z"
   },
   {
    "duration": 9,
    "start_time": "2023-05-31T09:24:05.868Z"
   },
   {
    "duration": 15,
    "start_time": "2023-05-31T09:24:39.908Z"
   },
   {
    "duration": 17,
    "start_time": "2023-05-31T09:25:20.011Z"
   },
   {
    "duration": 14,
    "start_time": "2023-05-31T09:25:31.216Z"
   },
   {
    "duration": 108,
    "start_time": "2023-05-31T09:30:22.188Z"
   },
   {
    "duration": 4,
    "start_time": "2023-05-31T09:30:27.490Z"
   },
   {
    "duration": 3,
    "start_time": "2023-05-31T09:30:40.346Z"
   },
   {
    "duration": 1179,
    "start_time": "2023-05-31T09:34:52.002Z"
   },
   {
    "duration": 81,
    "start_time": "2023-05-31T09:34:53.183Z"
   },
   {
    "duration": 85,
    "start_time": "2023-05-31T09:34:53.266Z"
   },
   {
    "duration": 4,
    "start_time": "2023-05-31T09:34:53.354Z"
   },
   {
    "duration": 17,
    "start_time": "2023-05-31T09:34:53.361Z"
   },
   {
    "duration": 78,
    "start_time": "2023-05-31T09:34:53.380Z"
   },
   {
    "duration": 11,
    "start_time": "2023-05-31T09:34:53.461Z"
   },
   {
    "duration": 85,
    "start_time": "2023-05-31T09:34:53.473Z"
   },
   {
    "duration": 41,
    "start_time": "2023-05-31T09:34:53.559Z"
   },
   {
    "duration": 48,
    "start_time": "2023-05-31T09:34:53.602Z"
   },
   {
    "duration": 7,
    "start_time": "2023-05-31T09:34:53.652Z"
   },
   {
    "duration": 33,
    "start_time": "2023-05-31T09:34:53.661Z"
   },
   {
    "duration": 61,
    "start_time": "2023-05-31T09:34:53.696Z"
   },
   {
    "duration": 29,
    "start_time": "2023-05-31T09:34:53.761Z"
   },
   {
    "duration": 11,
    "start_time": "2023-05-31T09:34:53.793Z"
   },
   {
    "duration": 40,
    "start_time": "2023-05-31T09:34:53.851Z"
   },
   {
    "duration": 6,
    "start_time": "2023-05-31T09:34:53.896Z"
   },
   {
    "duration": 51,
    "start_time": "2023-05-31T09:34:53.904Z"
   },
   {
    "duration": 24,
    "start_time": "2023-05-31T09:34:53.956Z"
   },
   {
    "duration": 31,
    "start_time": "2023-05-31T09:34:53.982Z"
   },
   {
    "duration": 57,
    "start_time": "2023-05-31T09:34:54.014Z"
   },
   {
    "duration": 32,
    "start_time": "2023-05-31T09:34:54.073Z"
   },
   {
    "duration": 50,
    "start_time": "2023-05-31T09:34:54.107Z"
   },
   {
    "duration": 20,
    "start_time": "2023-05-31T09:34:54.160Z"
   },
   {
    "duration": 79,
    "start_time": "2023-05-31T09:34:54.182Z"
   },
   {
    "duration": 6,
    "start_time": "2023-05-31T09:34:54.264Z"
   },
   {
    "duration": 20,
    "start_time": "2023-05-31T09:34:54.272Z"
   },
   {
    "duration": 356,
    "start_time": "2023-05-31T09:34:54.294Z"
   },
   {
    "duration": 21,
    "start_time": "2023-05-31T09:34:54.652Z"
   },
   {
    "duration": 5,
    "start_time": "2023-05-31T09:34:54.675Z"
   },
   {
    "duration": 70,
    "start_time": "2023-05-31T09:34:54.681Z"
   },
   {
    "duration": 778,
    "start_time": "2023-05-31T09:34:54.753Z"
   },
   {
    "duration": 24,
    "start_time": "2023-05-31T09:34:55.533Z"
   },
   {
    "duration": 5,
    "start_time": "2023-05-31T09:34:55.559Z"
   },
   {
    "duration": 9,
    "start_time": "2023-05-31T09:34:55.566Z"
   },
   {
    "duration": 14,
    "start_time": "2023-05-31T09:34:55.577Z"
   },
   {
    "duration": 273,
    "start_time": "2023-05-31T09:34:55.593Z"
   },
   {
    "duration": 660,
    "start_time": "2023-05-31T09:34:55.868Z"
   },
   {
    "duration": 22,
    "start_time": "2023-05-31T09:34:56.529Z"
   },
   {
    "duration": 304,
    "start_time": "2023-05-31T09:34:56.552Z"
   },
   {
    "duration": 19,
    "start_time": "2023-05-31T09:34:56.860Z"
   },
   {
    "duration": 348,
    "start_time": "2023-05-31T09:34:56.881Z"
   },
   {
    "duration": 21,
    "start_time": "2023-05-31T09:34:57.231Z"
   },
   {
    "duration": 283,
    "start_time": "2023-05-31T09:34:57.254Z"
   },
   {
    "duration": 22,
    "start_time": "2023-05-31T09:34:57.538Z"
   },
   {
    "duration": 8,
    "start_time": "2023-05-31T09:34:57.562Z"
   },
   {
    "duration": 302,
    "start_time": "2023-05-31T09:34:57.572Z"
   },
   {
    "duration": 303,
    "start_time": "2023-05-31T09:34:57.876Z"
   },
   {
    "duration": 293,
    "start_time": "2023-05-31T09:34:58.180Z"
   },
   {
    "duration": 8,
    "start_time": "2023-05-31T09:34:58.474Z"
   },
   {
    "duration": 276,
    "start_time": "2023-05-31T09:34:58.484Z"
   },
   {
    "duration": 189,
    "start_time": "2023-05-31T09:34:58.762Z"
   },
   {
    "duration": 192,
    "start_time": "2023-05-31T09:34:58.953Z"
   },
   {
    "duration": 468,
    "start_time": "2023-05-31T09:34:59.146Z"
   },
   {
    "duration": 9,
    "start_time": "2023-05-31T09:34:59.616Z"
   },
   {
    "duration": 6,
    "start_time": "2023-05-31T09:34:59.627Z"
   },
   {
    "duration": 116,
    "start_time": "2023-05-31T09:34:59.634Z"
   },
   {
    "duration": 0,
    "start_time": "2023-05-31T09:34:59.752Z"
   },
   {
    "duration": 0,
    "start_time": "2023-05-31T09:34:59.753Z"
   },
   {
    "duration": 0,
    "start_time": "2023-05-31T09:34:59.754Z"
   },
   {
    "duration": 4,
    "start_time": "2023-05-31T09:36:14.661Z"
   },
   {
    "duration": 12,
    "start_time": "2023-05-31T09:38:24.685Z"
   },
   {
    "duration": 10,
    "start_time": "2023-05-31T09:47:25.890Z"
   },
   {
    "duration": 5,
    "start_time": "2023-05-31T09:47:49.685Z"
   },
   {
    "duration": 139,
    "start_time": "2023-05-31T09:48:13.484Z"
   },
   {
    "duration": 135,
    "start_time": "2023-05-31T09:48:58.787Z"
   },
   {
    "duration": 16,
    "start_time": "2023-05-31T09:49:04.191Z"
   },
   {
    "duration": 165,
    "start_time": "2023-05-31T09:49:06.817Z"
   },
   {
    "duration": 177,
    "start_time": "2023-05-31T09:49:33.977Z"
   },
   {
    "duration": 167,
    "start_time": "2023-05-31T09:49:42.390Z"
   },
   {
    "duration": 154,
    "start_time": "2023-05-31T09:49:53.803Z"
   },
   {
    "duration": 6,
    "start_time": "2023-05-31T09:51:01.894Z"
   },
   {
    "duration": 274,
    "start_time": "2023-05-31T09:51:13.512Z"
   },
   {
    "duration": 193,
    "start_time": "2023-05-31T09:51:18.682Z"
   },
   {
    "duration": 113,
    "start_time": "2023-05-31T09:54:01.447Z"
   },
   {
    "duration": 229,
    "start_time": "2023-05-31T09:54:04.003Z"
   },
   {
    "duration": 187,
    "start_time": "2023-05-31T09:54:15.062Z"
   },
   {
    "duration": 197,
    "start_time": "2023-05-31T09:54:18.749Z"
   },
   {
    "duration": 193,
    "start_time": "2023-05-31T10:04:27.805Z"
   },
   {
    "duration": 12,
    "start_time": "2023-05-31T10:07:17.015Z"
   },
   {
    "duration": 5,
    "start_time": "2023-05-31T10:07:23.255Z"
   },
   {
    "duration": 4,
    "start_time": "2023-05-31T10:07:33.089Z"
   },
   {
    "duration": 6,
    "start_time": "2023-05-31T10:07:44.046Z"
   },
   {
    "duration": 6,
    "start_time": "2023-05-31T10:07:51.041Z"
   },
   {
    "duration": 4,
    "start_time": "2023-05-31T10:08:03.098Z"
   },
   {
    "duration": 22,
    "start_time": "2023-05-31T10:08:15.754Z"
   },
   {
    "duration": 9,
    "start_time": "2023-05-31T10:09:29.183Z"
   },
   {
    "duration": 12,
    "start_time": "2023-05-31T10:09:31.959Z"
   },
   {
    "duration": 17,
    "start_time": "2023-05-31T10:09:32.423Z"
   },
   {
    "duration": 6,
    "start_time": "2023-05-31T10:09:55.992Z"
   },
   {
    "duration": 14,
    "start_time": "2023-05-31T10:09:58.840Z"
   },
   {
    "duration": 11,
    "start_time": "2023-05-31T10:10:04.314Z"
   },
   {
    "duration": 12,
    "start_time": "2023-05-31T10:10:09.318Z"
   },
   {
    "duration": 5,
    "start_time": "2023-05-31T10:10:09.473Z"
   },
   {
    "duration": 11,
    "start_time": "2023-05-31T10:10:10.497Z"
   },
   {
    "duration": 486,
    "start_time": "2023-05-31T10:10:25.475Z"
   },
   {
    "duration": 7,
    "start_time": "2023-05-31T10:25:27.838Z"
   },
   {
    "duration": 15,
    "start_time": "2023-05-31T10:25:28.134Z"
   },
   {
    "duration": 18,
    "start_time": "2023-05-31T10:27:06.398Z"
   },
   {
    "duration": 8,
    "start_time": "2023-05-31T10:27:16.635Z"
   },
   {
    "duration": 7,
    "start_time": "2023-05-31T10:35:14.789Z"
   },
   {
    "duration": 11,
    "start_time": "2023-05-31T10:35:15.744Z"
   },
   {
    "duration": 258,
    "start_time": "2023-05-31T10:35:17.394Z"
   },
   {
    "duration": 8,
    "start_time": "2023-05-31T10:35:52.572Z"
   },
   {
    "duration": 12,
    "start_time": "2023-05-31T10:35:53.646Z"
   },
   {
    "duration": 320,
    "start_time": "2023-05-31T10:35:53.983Z"
   },
   {
    "duration": 8,
    "start_time": "2023-05-31T10:36:52.215Z"
   },
   {
    "duration": 14,
    "start_time": "2023-05-31T10:36:52.442Z"
   },
   {
    "duration": 411,
    "start_time": "2023-05-31T10:36:53.710Z"
   },
   {
    "duration": 7,
    "start_time": "2023-05-31T10:37:55.106Z"
   },
   {
    "duration": 11,
    "start_time": "2023-05-31T10:37:56.273Z"
   },
   {
    "duration": 8,
    "start_time": "2023-05-31T10:38:54.319Z"
   },
   {
    "duration": 12,
    "start_time": "2023-05-31T10:38:54.849Z"
   },
   {
    "duration": 270,
    "start_time": "2023-05-31T10:39:30.468Z"
   },
   {
    "duration": 18,
    "start_time": "2023-05-31T10:56:53.769Z"
   },
   {
    "duration": 354,
    "start_time": "2023-05-31T11:01:05.657Z"
   },
   {
    "duration": 419,
    "start_time": "2023-05-31T11:01:52.264Z"
   },
   {
    "duration": 387,
    "start_time": "2023-05-31T11:01:59.585Z"
   },
   {
    "duration": 458,
    "start_time": "2023-05-31T11:03:26.640Z"
   },
   {
    "duration": 580,
    "start_time": "2023-05-31T11:03:42.165Z"
   },
   {
    "duration": 471,
    "start_time": "2023-05-31T11:03:56.737Z"
   },
   {
    "duration": 489,
    "start_time": "2023-05-31T11:04:00.807Z"
   },
   {
    "duration": 541,
    "start_time": "2023-05-31T11:04:03.882Z"
   },
   {
    "duration": 690,
    "start_time": "2023-05-31T11:04:44.027Z"
   },
   {
    "duration": 867,
    "start_time": "2023-05-31T11:04:51.235Z"
   },
   {
    "duration": 753,
    "start_time": "2023-05-31T11:05:22.300Z"
   },
   {
    "duration": 40,
    "start_time": "2023-05-31T11:06:53.812Z"
   },
   {
    "duration": 296,
    "start_time": "2023-05-31T11:07:03.177Z"
   },
   {
    "duration": 6,
    "start_time": "2023-05-31T11:07:09.814Z"
   },
   {
    "duration": 6,
    "start_time": "2023-05-31T11:07:19.493Z"
   },
   {
    "duration": 6,
    "start_time": "2023-05-31T11:07:27.280Z"
   },
   {
    "duration": 7,
    "start_time": "2023-05-31T11:07:30.639Z"
   },
   {
    "duration": 9,
    "start_time": "2023-05-31T11:07:53.289Z"
   },
   {
    "duration": 10,
    "start_time": "2023-05-31T11:09:08.895Z"
   },
   {
    "duration": 8,
    "start_time": "2023-05-31T11:10:29.912Z"
   },
   {
    "duration": 10,
    "start_time": "2023-05-31T11:11:00.112Z"
   },
   {
    "duration": 9,
    "start_time": "2023-05-31T11:11:03.206Z"
   },
   {
    "duration": 9,
    "start_time": "2023-05-31T11:11:05.170Z"
   },
   {
    "duration": 9,
    "start_time": "2023-05-31T11:11:07.430Z"
   },
   {
    "duration": 10,
    "start_time": "2023-05-31T11:11:10.609Z"
   },
   {
    "duration": 10,
    "start_time": "2023-05-31T11:11:13.134Z"
   },
   {
    "duration": 10,
    "start_time": "2023-05-31T11:11:15.284Z"
   },
   {
    "duration": 688,
    "start_time": "2023-05-31T11:11:57.196Z"
   },
   {
    "duration": 11,
    "start_time": "2023-05-31T11:12:00.242Z"
   },
   {
    "duration": 10,
    "start_time": "2023-05-31T11:13:10.472Z"
   },
   {
    "duration": 9,
    "start_time": "2023-05-31T11:13:20.432Z"
   },
   {
    "duration": 10,
    "start_time": "2023-05-31T11:22:13.322Z"
   },
   {
    "duration": 15,
    "start_time": "2023-05-31T11:23:33.826Z"
   },
   {
    "duration": 18,
    "start_time": "2023-05-31T11:24:19.436Z"
   },
   {
    "duration": 107,
    "start_time": "2023-05-31T11:24:27.302Z"
   },
   {
    "duration": 109,
    "start_time": "2023-05-31T11:24:40.127Z"
   },
   {
    "duration": 16,
    "start_time": "2023-05-31T11:24:49.492Z"
   },
   {
    "duration": 15,
    "start_time": "2023-05-31T11:25:06.138Z"
   },
   {
    "duration": 8,
    "start_time": "2023-05-31T11:25:13.537Z"
   },
   {
    "duration": 12,
    "start_time": "2023-05-31T11:25:22.874Z"
   },
   {
    "duration": 14,
    "start_time": "2023-05-31T11:25:25.582Z"
   },
   {
    "duration": 11,
    "start_time": "2023-05-31T11:25:38.995Z"
   },
   {
    "duration": 137,
    "start_time": "2023-05-31T11:25:56.426Z"
   },
   {
    "duration": 307,
    "start_time": "2023-05-31T11:26:05.208Z"
   },
   {
    "duration": 18,
    "start_time": "2023-05-31T11:26:21.303Z"
   },
   {
    "duration": 188,
    "start_time": "2023-05-31T11:26:27.358Z"
   },
   {
    "duration": 184,
    "start_time": "2023-05-31T11:26:41.783Z"
   },
   {
    "duration": 192,
    "start_time": "2023-05-31T11:27:03.832Z"
   },
   {
    "duration": 20,
    "start_time": "2023-05-31T11:29:06.915Z"
   },
   {
    "duration": 346,
    "start_time": "2023-05-31T11:29:18.795Z"
   },
   {
    "duration": 337,
    "start_time": "2023-05-31T11:29:33.552Z"
   },
   {
    "duration": 368,
    "start_time": "2023-05-31T11:29:50.996Z"
   },
   {
    "duration": 361,
    "start_time": "2023-05-31T11:30:21.181Z"
   },
   {
    "duration": 366,
    "start_time": "2023-05-31T11:30:28.868Z"
   },
   {
    "duration": 18,
    "start_time": "2023-05-31T11:31:06.139Z"
   },
   {
    "duration": 372,
    "start_time": "2023-05-31T11:31:16.625Z"
   },
   {
    "duration": 9,
    "start_time": "2023-05-31T11:34:11.500Z"
   },
   {
    "duration": 240,
    "start_time": "2023-05-31T11:34:12.486Z"
   },
   {
    "duration": 345,
    "start_time": "2023-05-31T11:34:47.015Z"
   },
   {
    "duration": 226,
    "start_time": "2023-05-31T11:35:13.207Z"
   },
   {
    "duration": 225,
    "start_time": "2023-05-31T11:35:17.198Z"
   },
   {
    "duration": 8,
    "start_time": "2023-05-31T11:37:30.952Z"
   },
   {
    "duration": 988,
    "start_time": "2023-05-31T11:37:36.849Z"
   },
   {
    "duration": 958,
    "start_time": "2023-05-31T11:37:46.693Z"
   },
   {
    "duration": 10,
    "start_time": "2023-05-31T11:57:29.043Z"
   },
   {
    "duration": 7,
    "start_time": "2023-05-31T11:57:31.737Z"
   },
   {
    "duration": 6,
    "start_time": "2023-05-31T11:57:35.052Z"
   },
   {
    "duration": 6,
    "start_time": "2023-05-31T11:57:37.998Z"
   },
   {
    "duration": 6,
    "start_time": "2023-05-31T11:58:51.375Z"
   },
   {
    "duration": 9,
    "start_time": "2023-05-31T11:59:10.401Z"
   },
   {
    "duration": 7,
    "start_time": "2023-05-31T11:59:13.443Z"
   },
   {
    "duration": 6,
    "start_time": "2023-05-31T11:59:18.647Z"
   },
   {
    "duration": 6,
    "start_time": "2023-05-31T11:59:21.230Z"
   },
   {
    "duration": 11,
    "start_time": "2023-05-31T12:04:06.433Z"
   },
   {
    "duration": 16,
    "start_time": "2023-05-31T12:04:09.207Z"
   },
   {
    "duration": 18,
    "start_time": "2023-05-31T12:04:21.745Z"
   },
   {
    "duration": 18,
    "start_time": "2023-05-31T12:04:55.438Z"
   },
   {
    "duration": 17,
    "start_time": "2023-05-31T12:05:15.359Z"
   },
   {
    "duration": 21,
    "start_time": "2023-05-31T12:07:44.153Z"
   },
   {
    "duration": 10,
    "start_time": "2023-05-31T12:08:50.782Z"
   },
   {
    "duration": 1717,
    "start_time": "2023-05-31T12:09:02.774Z"
   },
   {
    "duration": 12,
    "start_time": "2023-05-31T12:10:14.656Z"
   },
   {
    "duration": 14,
    "start_time": "2023-05-31T12:10:23.378Z"
   },
   {
    "duration": 120,
    "start_time": "2023-05-31T12:12:23.710Z"
   },
   {
    "duration": 104,
    "start_time": "2023-05-31T12:12:30.251Z"
   },
   {
    "duration": 116,
    "start_time": "2023-05-31T12:12:33.997Z"
   },
   {
    "duration": 115,
    "start_time": "2023-05-31T12:12:36.742Z"
   },
   {
    "duration": 19,
    "start_time": "2023-05-31T12:12:46.230Z"
   },
   {
    "duration": 17,
    "start_time": "2023-05-31T12:12:53.378Z"
   },
   {
    "duration": 17,
    "start_time": "2023-05-31T12:12:55.182Z"
   },
   {
    "duration": 22,
    "start_time": "2023-05-31T12:13:11.865Z"
   },
   {
    "duration": 15,
    "start_time": "2023-05-31T12:13:40.222Z"
   },
   {
    "duration": 17,
    "start_time": "2023-05-31T12:13:43.769Z"
   },
   {
    "duration": 18,
    "start_time": "2023-05-31T12:13:49.688Z"
   },
   {
    "duration": 16,
    "start_time": "2023-05-31T12:14:00.021Z"
   },
   {
    "duration": 13,
    "start_time": "2023-05-31T12:15:38.727Z"
   },
   {
    "duration": 196,
    "start_time": "2023-05-31T12:16:20.043Z"
   },
   {
    "duration": 223,
    "start_time": "2023-05-31T12:16:24.344Z"
   },
   {
    "duration": 18,
    "start_time": "2023-05-31T12:17:29.328Z"
   },
   {
    "duration": 16,
    "start_time": "2023-05-31T12:18:07.986Z"
   },
   {
    "duration": 496,
    "start_time": "2023-05-31T17:08:57.281Z"
   },
   {
    "duration": 852,
    "start_time": "2023-05-31T17:10:11.683Z"
   },
   {
    "duration": 6,
    "start_time": "2023-05-31T17:10:59.286Z"
   },
   {
    "duration": 4,
    "start_time": "2023-05-31T17:11:05.144Z"
   },
   {
    "duration": 5,
    "start_time": "2023-05-31T17:11:10.189Z"
   },
   {
    "duration": 5,
    "start_time": "2023-05-31T17:11:12.083Z"
   },
   {
    "duration": 247,
    "start_time": "2023-05-31T17:23:24.145Z"
   },
   {
    "duration": 233,
    "start_time": "2023-05-31T17:23:35.687Z"
   },
   {
    "duration": 231,
    "start_time": "2023-05-31T17:23:39.599Z"
   },
   {
    "duration": 246,
    "start_time": "2023-05-31T17:23:56.840Z"
   },
   {
    "duration": 246,
    "start_time": "2023-05-31T17:24:37.051Z"
   },
   {
    "duration": 360,
    "start_time": "2023-05-31T17:24:41.292Z"
   },
   {
    "duration": 243,
    "start_time": "2023-05-31T17:24:55.381Z"
   },
   {
    "duration": 279,
    "start_time": "2023-05-31T17:25:02.044Z"
   },
   {
    "duration": 299,
    "start_time": "2023-05-31T17:25:15.318Z"
   },
   {
    "duration": 250,
    "start_time": "2023-05-31T17:25:22.622Z"
   },
   {
    "duration": 230,
    "start_time": "2023-05-31T17:26:25.537Z"
   },
   {
    "duration": 137,
    "start_time": "2023-05-31T17:26:33.004Z"
   },
   {
    "duration": 250,
    "start_time": "2023-05-31T17:26:37.292Z"
   },
   {
    "duration": 295,
    "start_time": "2023-05-31T17:27:14.199Z"
   },
   {
    "duration": 215,
    "start_time": "2023-05-31T17:27:18.594Z"
   },
   {
    "duration": 242,
    "start_time": "2023-05-31T17:27:21.400Z"
   },
   {
    "duration": 227,
    "start_time": "2023-05-31T17:28:00.005Z"
   },
   {
    "duration": 228,
    "start_time": "2023-05-31T17:28:05.949Z"
   },
   {
    "duration": 391,
    "start_time": "2023-05-31T17:28:08.302Z"
   },
   {
    "duration": 285,
    "start_time": "2023-05-31T17:28:24.016Z"
   },
   {
    "duration": 253,
    "start_time": "2023-05-31T17:28:35.553Z"
   },
   {
    "duration": 233,
    "start_time": "2023-05-31T17:29:00.913Z"
   },
   {
    "duration": 195,
    "start_time": "2023-05-31T17:29:29.027Z"
   },
   {
    "duration": 200,
    "start_time": "2023-05-31T17:29:40.196Z"
   },
   {
    "duration": 200,
    "start_time": "2023-05-31T17:29:44.499Z"
   },
   {
    "duration": 197,
    "start_time": "2023-05-31T17:29:48.587Z"
   },
   {
    "duration": 237,
    "start_time": "2023-05-31T17:29:54.400Z"
   },
   {
    "duration": 227,
    "start_time": "2023-05-31T17:30:03.692Z"
   },
   {
    "duration": 209,
    "start_time": "2023-05-31T17:30:06.586Z"
   },
   {
    "duration": 371,
    "start_time": "2023-05-31T17:30:13.285Z"
   },
   {
    "duration": 37,
    "start_time": "2023-05-31T17:30:59.447Z"
   },
   {
    "duration": 18,
    "start_time": "2023-05-31T17:31:06.341Z"
   },
   {
    "duration": 17,
    "start_time": "2023-05-31T17:31:38.283Z"
   },
   {
    "duration": 11,
    "start_time": "2023-05-31T17:31:42.791Z"
   },
   {
    "duration": 11,
    "start_time": "2023-05-31T17:31:47.434Z"
   },
   {
    "duration": 206,
    "start_time": "2023-05-31T17:32:08.927Z"
   },
   {
    "duration": 8,
    "start_time": "2023-05-31T17:32:54.539Z"
   },
   {
    "duration": 18,
    "start_time": "2023-05-31T17:33:53.254Z"
   },
   {
    "duration": 11,
    "start_time": "2023-05-31T17:34:03.907Z"
   },
   {
    "duration": 11,
    "start_time": "2023-05-31T17:34:11.390Z"
   },
   {
    "duration": 232,
    "start_time": "2023-05-31T17:43:09.395Z"
   },
   {
    "duration": 224,
    "start_time": "2023-05-31T17:43:14.833Z"
   },
   {
    "duration": 247,
    "start_time": "2023-05-31T17:43:19.150Z"
   },
   {
    "duration": 229,
    "start_time": "2023-05-31T17:43:31.515Z"
   },
   {
    "duration": 227,
    "start_time": "2023-05-31T17:43:46.807Z"
   },
   {
    "duration": 281,
    "start_time": "2023-05-31T17:43:54.612Z"
   },
   {
    "duration": 272,
    "start_time": "2023-05-31T17:44:03.008Z"
   },
   {
    "duration": 474,
    "start_time": "2023-05-31T17:44:42.396Z"
   },
   {
    "duration": 382,
    "start_time": "2023-05-31T17:44:49.632Z"
   },
   {
    "duration": 433,
    "start_time": "2023-05-31T17:44:59.096Z"
   },
   {
    "duration": 293,
    "start_time": "2023-05-31T17:45:07.896Z"
   },
   {
    "duration": 349,
    "start_time": "2023-05-31T17:45:57.130Z"
   },
   {
    "duration": 262,
    "start_time": "2023-05-31T17:46:14.976Z"
   },
   {
    "duration": 281,
    "start_time": "2023-05-31T17:46:22.141Z"
   },
   {
    "duration": 1408,
    "start_time": "2023-05-31T17:51:14.469Z"
   },
   {
    "duration": 63,
    "start_time": "2023-05-31T17:51:15.879Z"
   },
   {
    "duration": 54,
    "start_time": "2023-05-31T17:51:15.944Z"
   },
   {
    "duration": 6,
    "start_time": "2023-05-31T17:51:15.999Z"
   },
   {
    "duration": 6,
    "start_time": "2023-05-31T17:51:16.009Z"
   },
   {
    "duration": 7,
    "start_time": "2023-05-31T17:51:16.016Z"
   },
   {
    "duration": 45,
    "start_time": "2023-05-31T17:51:16.025Z"
   },
   {
    "duration": 15,
    "start_time": "2023-05-31T17:51:16.072Z"
   },
   {
    "duration": 32,
    "start_time": "2023-05-31T17:51:16.090Z"
   },
   {
    "duration": 21,
    "start_time": "2023-05-31T17:51:16.124Z"
   },
   {
    "duration": 21,
    "start_time": "2023-05-31T17:51:16.147Z"
   },
   {
    "duration": 27,
    "start_time": "2023-05-31T17:51:16.170Z"
   },
   {
    "duration": 13,
    "start_time": "2023-05-31T17:51:16.198Z"
   },
   {
    "duration": 13,
    "start_time": "2023-05-31T17:51:16.217Z"
   },
   {
    "duration": 6,
    "start_time": "2023-05-31T17:51:16.232Z"
   },
   {
    "duration": 22,
    "start_time": "2023-05-31T17:51:16.240Z"
   },
   {
    "duration": 9,
    "start_time": "2023-05-31T17:51:16.264Z"
   },
   {
    "duration": 13,
    "start_time": "2023-05-31T17:51:16.275Z"
   },
   {
    "duration": 12,
    "start_time": "2023-05-31T17:51:16.289Z"
   },
   {
    "duration": 10,
    "start_time": "2023-05-31T17:51:16.305Z"
   },
   {
    "duration": 16,
    "start_time": "2023-05-31T17:51:16.317Z"
   },
   {
    "duration": 19,
    "start_time": "2023-05-31T17:51:16.334Z"
   },
   {
    "duration": 10,
    "start_time": "2023-05-31T17:51:16.355Z"
   },
   {
    "duration": 31,
    "start_time": "2023-05-31T17:51:16.367Z"
   },
   {
    "duration": 246,
    "start_time": "2023-05-31T17:51:16.399Z"
   },
   {
    "duration": 28,
    "start_time": "2023-05-31T17:51:16.647Z"
   },
   {
    "duration": 7,
    "start_time": "2023-05-31T17:51:16.676Z"
   },
   {
    "duration": 12,
    "start_time": "2023-05-31T17:51:16.685Z"
   },
   {
    "duration": 162,
    "start_time": "2023-05-31T17:51:16.699Z"
   },
   {
    "duration": 0,
    "start_time": "2023-05-31T17:51:16.864Z"
   },
   {
    "duration": 0,
    "start_time": "2023-05-31T17:51:16.865Z"
   },
   {
    "duration": 0,
    "start_time": "2023-05-31T17:51:16.866Z"
   },
   {
    "duration": 0,
    "start_time": "2023-05-31T17:51:16.867Z"
   },
   {
    "duration": 0,
    "start_time": "2023-05-31T17:51:16.868Z"
   },
   {
    "duration": 0,
    "start_time": "2023-05-31T17:51:16.869Z"
   },
   {
    "duration": 0,
    "start_time": "2023-05-31T17:51:16.870Z"
   },
   {
    "duration": 0,
    "start_time": "2023-05-31T17:51:16.871Z"
   },
   {
    "duration": 0,
    "start_time": "2023-05-31T17:51:16.872Z"
   },
   {
    "duration": 0,
    "start_time": "2023-05-31T17:51:16.873Z"
   },
   {
    "duration": 0,
    "start_time": "2023-05-31T17:51:16.874Z"
   },
   {
    "duration": 0,
    "start_time": "2023-05-31T17:51:16.875Z"
   },
   {
    "duration": 0,
    "start_time": "2023-05-31T17:51:16.876Z"
   },
   {
    "duration": 0,
    "start_time": "2023-05-31T17:51:16.877Z"
   },
   {
    "duration": 0,
    "start_time": "2023-05-31T17:51:16.878Z"
   },
   {
    "duration": 0,
    "start_time": "2023-05-31T17:51:16.879Z"
   },
   {
    "duration": 0,
    "start_time": "2023-05-31T17:51:16.880Z"
   },
   {
    "duration": 0,
    "start_time": "2023-05-31T17:51:16.881Z"
   },
   {
    "duration": 0,
    "start_time": "2023-05-31T17:51:16.882Z"
   },
   {
    "duration": 0,
    "start_time": "2023-05-31T17:51:16.883Z"
   },
   {
    "duration": 0,
    "start_time": "2023-05-31T17:51:16.884Z"
   },
   {
    "duration": 0,
    "start_time": "2023-05-31T17:51:16.886Z"
   },
   {
    "duration": 0,
    "start_time": "2023-05-31T17:51:16.887Z"
   },
   {
    "duration": 0,
    "start_time": "2023-05-31T17:51:16.888Z"
   },
   {
    "duration": 0,
    "start_time": "2023-05-31T17:51:16.890Z"
   },
   {
    "duration": 0,
    "start_time": "2023-05-31T17:51:16.893Z"
   },
   {
    "duration": 0,
    "start_time": "2023-05-31T17:51:16.894Z"
   },
   {
    "duration": 686,
    "start_time": "2023-05-31T17:51:37.534Z"
   },
   {
    "duration": 22,
    "start_time": "2023-05-31T17:51:40.378Z"
   },
   {
    "duration": 24,
    "start_time": "2023-05-31T17:51:40.666Z"
   },
   {
    "duration": 1348,
    "start_time": "2023-05-31T17:51:48.023Z"
   },
   {
    "duration": 64,
    "start_time": "2023-05-31T17:51:49.374Z"
   },
   {
    "duration": 49,
    "start_time": "2023-05-31T17:51:49.442Z"
   },
   {
    "duration": 8,
    "start_time": "2023-05-31T17:51:49.493Z"
   },
   {
    "duration": 7,
    "start_time": "2023-05-31T17:51:49.507Z"
   },
   {
    "duration": 5,
    "start_time": "2023-05-31T17:51:49.516Z"
   },
   {
    "duration": 11,
    "start_time": "2023-05-31T17:51:49.522Z"
   },
   {
    "duration": 44,
    "start_time": "2023-05-31T17:51:49.535Z"
   },
   {
    "duration": 16,
    "start_time": "2023-05-31T17:51:49.580Z"
   },
   {
    "duration": 10,
    "start_time": "2023-05-31T17:51:49.600Z"
   },
   {
    "duration": 7,
    "start_time": "2023-05-31T17:51:49.612Z"
   },
   {
    "duration": 16,
    "start_time": "2023-05-31T17:51:49.620Z"
   },
   {
    "duration": 22,
    "start_time": "2023-05-31T17:51:49.637Z"
   },
   {
    "duration": 14,
    "start_time": "2023-05-31T17:51:49.661Z"
   },
   {
    "duration": 5,
    "start_time": "2023-05-31T17:51:49.678Z"
   },
   {
    "duration": 17,
    "start_time": "2023-05-31T17:51:49.685Z"
   },
   {
    "duration": 5,
    "start_time": "2023-05-31T17:51:49.704Z"
   },
   {
    "duration": 7,
    "start_time": "2023-05-31T17:51:49.714Z"
   },
   {
    "duration": 35,
    "start_time": "2023-05-31T17:51:49.722Z"
   },
   {
    "duration": 16,
    "start_time": "2023-05-31T17:51:49.765Z"
   },
   {
    "duration": 23,
    "start_time": "2023-05-31T17:51:49.783Z"
   },
   {
    "duration": 4,
    "start_time": "2023-05-31T17:51:49.809Z"
   },
   {
    "duration": 7,
    "start_time": "2023-05-31T17:51:49.814Z"
   },
   {
    "duration": 42,
    "start_time": "2023-05-31T17:51:49.823Z"
   },
   {
    "duration": 273,
    "start_time": "2023-05-31T17:51:49.867Z"
   },
   {
    "duration": 28,
    "start_time": "2023-05-31T17:51:50.142Z"
   },
   {
    "duration": 16,
    "start_time": "2023-05-31T17:51:50.179Z"
   },
   {
    "duration": 11,
    "start_time": "2023-05-31T17:51:50.200Z"
   },
   {
    "duration": 651,
    "start_time": "2023-05-31T17:51:50.213Z"
   },
   {
    "duration": 28,
    "start_time": "2023-05-31T17:51:50.868Z"
   },
   {
    "duration": 11,
    "start_time": "2023-05-31T17:51:50.897Z"
   },
   {
    "duration": 8,
    "start_time": "2023-05-31T17:51:50.910Z"
   },
   {
    "duration": 13,
    "start_time": "2023-05-31T17:51:50.919Z"
   },
   {
    "duration": 361,
    "start_time": "2023-05-31T17:51:50.958Z"
   },
   {
    "duration": 276,
    "start_time": "2023-05-31T17:51:51.321Z"
   },
   {
    "duration": 68,
    "start_time": "2023-05-31T17:51:51.599Z"
   },
   {
    "duration": 1037,
    "start_time": "2023-05-31T17:51:51.670Z"
   },
   {
    "duration": 11,
    "start_time": "2023-05-31T17:51:52.712Z"
   },
   {
    "duration": 521,
    "start_time": "2023-05-31T17:51:52.725Z"
   },
   {
    "duration": 23,
    "start_time": "2023-05-31T17:51:53.248Z"
   },
   {
    "duration": 338,
    "start_time": "2023-05-31T17:51:53.273Z"
   },
   {
    "duration": 305,
    "start_time": "2023-05-31T17:51:53.613Z"
   },
   {
    "duration": 321,
    "start_time": "2023-05-31T17:51:53.921Z"
   },
   {
    "duration": 38,
    "start_time": "2023-05-31T17:51:54.244Z"
   },
   {
    "duration": 47,
    "start_time": "2023-05-31T17:51:54.283Z"
   },
   {
    "duration": 12,
    "start_time": "2023-05-31T17:51:54.333Z"
   },
   {
    "duration": 292,
    "start_time": "2023-05-31T17:51:54.348Z"
   },
   {
    "duration": 362,
    "start_time": "2023-05-31T17:51:54.650Z"
   },
   {
    "duration": 309,
    "start_time": "2023-05-31T17:51:55.014Z"
   },
   {
    "duration": 22,
    "start_time": "2023-05-31T17:51:55.325Z"
   },
   {
    "duration": 53,
    "start_time": "2023-05-31T17:51:55.348Z"
   },
   {
    "duration": 734,
    "start_time": "2023-05-31T17:51:55.403Z"
   },
   {
    "duration": 23,
    "start_time": "2023-05-31T17:51:56.139Z"
   },
   {
    "duration": 8,
    "start_time": "2023-05-31T17:51:56.164Z"
   },
   {
    "duration": 13,
    "start_time": "2023-05-31T17:51:56.175Z"
   },
   {
    "duration": 7,
    "start_time": "2023-05-31T17:51:56.190Z"
   },
   {
    "duration": 16,
    "start_time": "2023-05-31T17:57:42.592Z"
   },
   {
    "duration": 1533,
    "start_time": "2023-05-31T17:57:50.076Z"
   },
   {
    "duration": 64,
    "start_time": "2023-05-31T17:57:51.622Z"
   },
   {
    "duration": 42,
    "start_time": "2023-05-31T17:57:51.688Z"
   },
   {
    "duration": 6,
    "start_time": "2023-05-31T17:57:51.732Z"
   },
   {
    "duration": 35,
    "start_time": "2023-05-31T17:57:51.740Z"
   },
   {
    "duration": 35,
    "start_time": "2023-05-31T17:57:51.777Z"
   },
   {
    "duration": 15,
    "start_time": "2023-05-31T17:57:51.815Z"
   },
   {
    "duration": 15,
    "start_time": "2023-05-31T17:57:51.832Z"
   },
   {
    "duration": 35,
    "start_time": "2023-05-31T17:57:51.849Z"
   },
   {
    "duration": 20,
    "start_time": "2023-05-31T17:57:51.888Z"
   },
   {
    "duration": 9,
    "start_time": "2023-05-31T17:57:51.914Z"
   },
   {
    "duration": 16,
    "start_time": "2023-05-31T17:57:51.927Z"
   },
   {
    "duration": 22,
    "start_time": "2023-05-31T17:57:51.944Z"
   },
   {
    "duration": 34,
    "start_time": "2023-05-31T17:57:51.973Z"
   },
   {
    "duration": 10,
    "start_time": "2023-05-31T17:57:52.009Z"
   },
   {
    "duration": 32,
    "start_time": "2023-05-31T17:57:52.020Z"
   },
   {
    "duration": 5,
    "start_time": "2023-05-31T17:57:52.061Z"
   },
   {
    "duration": 19,
    "start_time": "2023-05-31T17:57:52.068Z"
   },
   {
    "duration": 26,
    "start_time": "2023-05-31T17:57:52.088Z"
   },
   {
    "duration": 15,
    "start_time": "2023-05-31T17:57:52.116Z"
   },
   {
    "duration": 32,
    "start_time": "2023-05-31T17:57:52.133Z"
   },
   {
    "duration": 3,
    "start_time": "2023-05-31T17:57:52.167Z"
   },
   {
    "duration": 9,
    "start_time": "2023-05-31T17:57:52.172Z"
   },
   {
    "duration": 32,
    "start_time": "2023-05-31T17:57:52.182Z"
   },
   {
    "duration": 297,
    "start_time": "2023-05-31T17:57:52.218Z"
   },
   {
    "duration": 18,
    "start_time": "2023-05-31T17:57:52.517Z"
   },
   {
    "duration": 11,
    "start_time": "2023-05-31T17:57:52.537Z"
   },
   {
    "duration": 20,
    "start_time": "2023-05-31T17:57:52.553Z"
   },
   {
    "duration": 825,
    "start_time": "2023-05-31T17:57:52.576Z"
   },
   {
    "duration": 70,
    "start_time": "2023-05-31T17:57:53.404Z"
   },
   {
    "duration": 18,
    "start_time": "2023-05-31T17:57:53.476Z"
   },
   {
    "duration": 17,
    "start_time": "2023-05-31T17:57:53.497Z"
   },
   {
    "duration": 43,
    "start_time": "2023-05-31T17:57:53.516Z"
   },
   {
    "duration": 617,
    "start_time": "2023-05-31T17:57:53.561Z"
   },
   {
    "duration": 646,
    "start_time": "2023-05-31T17:57:54.186Z"
   },
   {
    "duration": 134,
    "start_time": "2023-05-31T17:57:54.837Z"
   },
   {
    "duration": 1640,
    "start_time": "2023-05-31T17:57:54.972Z"
   },
   {
    "duration": 20,
    "start_time": "2023-05-31T17:57:56.617Z"
   },
   {
    "duration": 509,
    "start_time": "2023-05-31T17:57:56.639Z"
   },
   {
    "duration": 13,
    "start_time": "2023-05-31T17:57:57.151Z"
   },
   {
    "duration": 276,
    "start_time": "2023-05-31T17:57:57.165Z"
   },
   {
    "duration": 289,
    "start_time": "2023-05-31T17:57:57.443Z"
   },
   {
    "duration": 361,
    "start_time": "2023-05-31T17:57:57.734Z"
   },
   {
    "duration": 23,
    "start_time": "2023-05-31T17:57:58.101Z"
   },
   {
    "duration": 17,
    "start_time": "2023-05-31T17:57:58.126Z"
   },
   {
    "duration": 12,
    "start_time": "2023-05-31T17:57:58.145Z"
   },
   {
    "duration": 300,
    "start_time": "2023-05-31T17:57:58.160Z"
   },
   {
    "duration": 249,
    "start_time": "2023-05-31T17:57:58.462Z"
   },
   {
    "duration": 229,
    "start_time": "2023-05-31T17:57:58.713Z"
   },
   {
    "duration": 25,
    "start_time": "2023-05-31T17:57:58.943Z"
   },
   {
    "duration": 20,
    "start_time": "2023-05-31T17:57:58.971Z"
   },
   {
    "duration": 627,
    "start_time": "2023-05-31T17:57:58.993Z"
   },
   {
    "duration": 17,
    "start_time": "2023-05-31T17:57:59.629Z"
   },
   {
    "duration": 6,
    "start_time": "2023-05-31T17:57:59.650Z"
   },
   {
    "duration": 12,
    "start_time": "2023-05-31T17:57:59.659Z"
   },
   {
    "duration": 6,
    "start_time": "2023-05-31T17:57:59.673Z"
   },
   {
    "duration": 13,
    "start_time": "2023-05-31T17:58:05.184Z"
   },
   {
    "duration": 252,
    "start_time": "2023-05-31T18:26:03.835Z"
   },
   {
    "duration": 330,
    "start_time": "2023-05-31T18:26:11.617Z"
   },
   {
    "duration": 228,
    "start_time": "2023-05-31T18:26:21.710Z"
   },
   {
    "duration": 237,
    "start_time": "2023-05-31T18:27:39.678Z"
   },
   {
    "duration": 257,
    "start_time": "2023-05-31T18:27:46.352Z"
   },
   {
    "duration": 40,
    "start_time": "2023-05-31T18:29:17.706Z"
   },
   {
    "duration": 522,
    "start_time": "2023-05-31T18:35:46.068Z"
   },
   {
    "duration": 563,
    "start_time": "2023-05-31T18:35:58.240Z"
   },
   {
    "duration": 14,
    "start_time": "2023-05-31T18:51:30.315Z"
   },
   {
    "duration": 48,
    "start_time": "2023-06-01T07:39:46.783Z"
   },
   {
    "duration": 1277,
    "start_time": "2023-06-01T07:39:58.026Z"
   },
   {
    "duration": 185,
    "start_time": "2023-06-01T07:39:59.305Z"
   },
   {
    "duration": 30,
    "start_time": "2023-06-01T07:39:59.491Z"
   },
   {
    "duration": 6,
    "start_time": "2023-06-01T07:39:59.523Z"
   },
   {
    "duration": 5,
    "start_time": "2023-06-01T07:39:59.530Z"
   },
   {
    "duration": 4,
    "start_time": "2023-06-01T07:39:59.537Z"
   },
   {
    "duration": 10,
    "start_time": "2023-06-01T07:39:59.542Z"
   },
   {
    "duration": 34,
    "start_time": "2023-06-01T07:39:59.554Z"
   },
   {
    "duration": 11,
    "start_time": "2023-06-01T07:39:59.590Z"
   },
   {
    "duration": 9,
    "start_time": "2023-06-01T07:39:59.604Z"
   },
   {
    "duration": 5,
    "start_time": "2023-06-01T07:39:59.614Z"
   },
   {
    "duration": 15,
    "start_time": "2023-06-01T07:39:59.621Z"
   },
   {
    "duration": 40,
    "start_time": "2023-06-01T07:39:59.638Z"
   },
   {
    "duration": 19,
    "start_time": "2023-06-01T07:39:59.680Z"
   },
   {
    "duration": 5,
    "start_time": "2023-06-01T07:39:59.700Z"
   },
   {
    "duration": 25,
    "start_time": "2023-06-01T07:39:59.706Z"
   },
   {
    "duration": 19,
    "start_time": "2023-06-01T07:39:59.733Z"
   },
   {
    "duration": 10,
    "start_time": "2023-06-01T07:39:59.754Z"
   },
   {
    "duration": 19,
    "start_time": "2023-06-01T07:39:59.766Z"
   },
   {
    "duration": 13,
    "start_time": "2023-06-01T07:39:59.786Z"
   },
   {
    "duration": 13,
    "start_time": "2023-06-01T07:39:59.800Z"
   },
   {
    "duration": 3,
    "start_time": "2023-06-01T07:39:59.815Z"
   },
   {
    "duration": 6,
    "start_time": "2023-06-01T07:39:59.819Z"
   },
   {
    "duration": 14,
    "start_time": "2023-06-01T07:39:59.826Z"
   },
   {
    "duration": 237,
    "start_time": "2023-06-01T07:39:59.842Z"
   },
   {
    "duration": 17,
    "start_time": "2023-06-01T07:40:00.082Z"
   },
   {
    "duration": 48,
    "start_time": "2023-06-01T07:40:00.103Z"
   },
   {
    "duration": 35,
    "start_time": "2023-06-01T07:40:00.155Z"
   },
   {
    "duration": 541,
    "start_time": "2023-06-01T07:40:00.191Z"
   },
   {
    "duration": 15,
    "start_time": "2023-06-01T07:40:00.734Z"
   },
   {
    "duration": 51,
    "start_time": "2023-06-01T07:40:00.751Z"
   },
   {
    "duration": 46,
    "start_time": "2023-06-01T07:40:00.803Z"
   },
   {
    "duration": 50,
    "start_time": "2023-06-01T07:40:00.851Z"
   },
   {
    "duration": 301,
    "start_time": "2023-06-01T07:40:00.903Z"
   },
   {
    "duration": 206,
    "start_time": "2023-06-01T07:40:01.205Z"
   },
   {
    "duration": 37,
    "start_time": "2023-06-01T07:40:01.413Z"
   },
   {
    "duration": 841,
    "start_time": "2023-06-01T07:40:01.451Z"
   },
   {
    "duration": 11,
    "start_time": "2023-06-01T07:40:02.294Z"
   },
   {
    "duration": 395,
    "start_time": "2023-06-01T07:40:02.306Z"
   },
   {
    "duration": 7,
    "start_time": "2023-06-01T07:40:02.703Z"
   },
   {
    "duration": 225,
    "start_time": "2023-06-01T07:40:02.712Z"
   },
   {
    "duration": 209,
    "start_time": "2023-06-01T07:40:02.938Z"
   },
   {
    "duration": 242,
    "start_time": "2023-06-01T07:40:03.148Z"
   },
   {
    "duration": 15,
    "start_time": "2023-06-01T07:40:03.392Z"
   },
   {
    "duration": 14,
    "start_time": "2023-06-01T07:40:03.408Z"
   },
   {
    "duration": 9,
    "start_time": "2023-06-01T07:40:03.424Z"
   },
   {
    "duration": 189,
    "start_time": "2023-06-01T07:40:03.434Z"
   },
   {
    "duration": 180,
    "start_time": "2023-06-01T07:40:03.624Z"
   },
   {
    "duration": 205,
    "start_time": "2023-06-01T07:40:03.805Z"
   },
   {
    "duration": 20,
    "start_time": "2023-06-01T07:40:04.012Z"
   },
   {
    "duration": 25,
    "start_time": "2023-06-01T07:40:04.034Z"
   },
   {
    "duration": 498,
    "start_time": "2023-06-01T07:40:04.061Z"
   },
   {
    "duration": 16,
    "start_time": "2023-06-01T07:40:04.560Z"
   },
   {
    "duration": 10,
    "start_time": "2023-06-01T07:40:04.578Z"
   },
   {
    "duration": 9,
    "start_time": "2023-06-01T07:40:04.591Z"
   },
   {
    "duration": 6,
    "start_time": "2023-06-01T07:40:04.601Z"
   },
   {
    "duration": 560,
    "start_time": "2023-06-01T07:49:22.280Z"
   },
   {
    "duration": 1187,
    "start_time": "2023-06-01T08:09:12.103Z"
   },
   {
    "duration": 52,
    "start_time": "2023-06-01T08:09:13.292Z"
   },
   {
    "duration": 37,
    "start_time": "2023-06-01T08:09:13.346Z"
   },
   {
    "duration": 5,
    "start_time": "2023-06-01T08:09:13.388Z"
   },
   {
    "duration": 6,
    "start_time": "2023-06-01T08:09:13.395Z"
   },
   {
    "duration": 4,
    "start_time": "2023-06-01T08:09:13.403Z"
   },
   {
    "duration": 17,
    "start_time": "2023-06-01T08:09:13.409Z"
   },
   {
    "duration": 14,
    "start_time": "2023-06-01T08:09:13.428Z"
   },
   {
    "duration": 12,
    "start_time": "2023-06-01T08:09:13.444Z"
   },
   {
    "duration": 33,
    "start_time": "2023-06-01T08:09:13.458Z"
   },
   {
    "duration": 6,
    "start_time": "2023-06-01T08:09:13.503Z"
   },
   {
    "duration": 28,
    "start_time": "2023-06-01T08:09:13.511Z"
   },
   {
    "duration": 12,
    "start_time": "2023-06-01T08:09:13.540Z"
   },
   {
    "duration": 13,
    "start_time": "2023-06-01T08:09:13.556Z"
   },
   {
    "duration": 6,
    "start_time": "2023-06-01T08:09:13.571Z"
   },
   {
    "duration": 24,
    "start_time": "2023-06-01T08:09:13.578Z"
   },
   {
    "duration": 6,
    "start_time": "2023-06-01T08:09:13.604Z"
   },
   {
    "duration": 8,
    "start_time": "2023-06-01T08:09:13.611Z"
   },
   {
    "duration": 6,
    "start_time": "2023-06-01T08:09:13.621Z"
   },
   {
    "duration": 19,
    "start_time": "2023-06-01T08:09:13.628Z"
   },
   {
    "duration": 34,
    "start_time": "2023-06-01T08:09:13.648Z"
   },
   {
    "duration": 10,
    "start_time": "2023-06-01T08:09:13.683Z"
   },
   {
    "duration": 10,
    "start_time": "2023-06-01T08:09:13.694Z"
   },
   {
    "duration": 18,
    "start_time": "2023-06-01T08:09:13.705Z"
   },
   {
    "duration": 213,
    "start_time": "2023-06-01T08:09:13.725Z"
   },
   {
    "duration": 13,
    "start_time": "2023-06-01T08:09:13.940Z"
   },
   {
    "duration": 23,
    "start_time": "2023-06-01T08:09:13.955Z"
   },
   {
    "duration": 12,
    "start_time": "2023-06-01T08:09:13.979Z"
   },
   {
    "duration": 586,
    "start_time": "2023-06-01T08:09:13.993Z"
   },
   {
    "duration": 16,
    "start_time": "2023-06-01T08:09:14.590Z"
   },
   {
    "duration": 7,
    "start_time": "2023-06-01T08:09:14.607Z"
   },
   {
    "duration": 11,
    "start_time": "2023-06-01T08:09:14.615Z"
   },
   {
    "duration": 10,
    "start_time": "2023-06-01T08:09:14.628Z"
   },
   {
    "duration": 292,
    "start_time": "2023-06-01T08:09:14.639Z"
   },
   {
    "duration": 210,
    "start_time": "2023-06-01T08:09:14.933Z"
   },
   {
    "duration": 55,
    "start_time": "2023-06-01T08:09:15.145Z"
   },
   {
    "duration": 758,
    "start_time": "2023-06-01T08:09:15.202Z"
   },
   {
    "duration": 24,
    "start_time": "2023-06-01T08:09:15.961Z"
   },
   {
    "duration": 378,
    "start_time": "2023-06-01T08:09:15.986Z"
   },
   {
    "duration": 15,
    "start_time": "2023-06-01T08:09:16.366Z"
   },
   {
    "duration": 213,
    "start_time": "2023-06-01T08:09:16.389Z"
   },
   {
    "duration": 211,
    "start_time": "2023-06-01T08:09:16.603Z"
   },
   {
    "duration": 214,
    "start_time": "2023-06-01T08:09:16.815Z"
   },
   {
    "duration": 16,
    "start_time": "2023-06-01T08:09:17.031Z"
   },
   {
    "duration": 36,
    "start_time": "2023-06-01T08:09:17.049Z"
   },
   {
    "duration": 9,
    "start_time": "2023-06-01T08:09:17.087Z"
   },
   {
    "duration": 193,
    "start_time": "2023-06-01T08:09:17.097Z"
   },
   {
    "duration": 197,
    "start_time": "2023-06-01T08:09:17.291Z"
   },
   {
    "duration": 177,
    "start_time": "2023-06-01T08:09:17.489Z"
   },
   {
    "duration": 33,
    "start_time": "2023-06-01T08:09:17.667Z"
   },
   {
    "duration": 13,
    "start_time": "2023-06-01T08:09:17.702Z"
   },
   {
    "duration": 489,
    "start_time": "2023-06-01T08:09:17.716Z"
   },
   {
    "duration": 7,
    "start_time": "2023-06-01T08:09:18.207Z"
   },
   {
    "duration": 11,
    "start_time": "2023-06-01T08:09:18.216Z"
   },
   {
    "duration": 9,
    "start_time": "2023-06-01T08:09:18.229Z"
   },
   {
    "duration": 15,
    "start_time": "2023-06-01T08:09:18.239Z"
   },
   {
    "duration": 1181,
    "start_time": "2023-06-01T08:20:14.207Z"
   },
   {
    "duration": 51,
    "start_time": "2023-06-01T08:20:15.390Z"
   },
   {
    "duration": 28,
    "start_time": "2023-06-01T08:20:15.442Z"
   },
   {
    "duration": 15,
    "start_time": "2023-06-01T08:20:15.471Z"
   },
   {
    "duration": 4,
    "start_time": "2023-06-01T08:20:15.488Z"
   },
   {
    "duration": 14,
    "start_time": "2023-06-01T08:20:15.493Z"
   },
   {
    "duration": 15,
    "start_time": "2023-06-01T08:20:15.508Z"
   },
   {
    "duration": 10,
    "start_time": "2023-06-01T08:20:15.524Z"
   },
   {
    "duration": 10,
    "start_time": "2023-06-01T08:20:15.536Z"
   },
   {
    "duration": 8,
    "start_time": "2023-06-01T08:20:15.547Z"
   },
   {
    "duration": 29,
    "start_time": "2023-06-01T08:20:15.556Z"
   },
   {
    "duration": 13,
    "start_time": "2023-06-01T08:20:15.587Z"
   },
   {
    "duration": 8,
    "start_time": "2023-06-01T08:20:15.602Z"
   },
   {
    "duration": 14,
    "start_time": "2023-06-01T08:20:15.614Z"
   },
   {
    "duration": 5,
    "start_time": "2023-06-01T08:20:15.630Z"
   },
   {
    "duration": 43,
    "start_time": "2023-06-01T08:20:15.636Z"
   },
   {
    "duration": 10,
    "start_time": "2023-06-01T08:20:15.683Z"
   },
   {
    "duration": 14,
    "start_time": "2023-06-01T08:20:15.696Z"
   },
   {
    "duration": 7,
    "start_time": "2023-06-01T08:20:15.711Z"
   },
   {
    "duration": 10,
    "start_time": "2023-06-01T08:20:15.720Z"
   },
   {
    "duration": 15,
    "start_time": "2023-06-01T08:20:15.732Z"
   },
   {
    "duration": 3,
    "start_time": "2023-06-01T08:20:15.749Z"
   },
   {
    "duration": 10,
    "start_time": "2023-06-01T08:20:15.779Z"
   },
   {
    "duration": 17,
    "start_time": "2023-06-01T08:20:15.791Z"
   },
   {
    "duration": 231,
    "start_time": "2023-06-01T08:20:15.810Z"
   },
   {
    "duration": 15,
    "start_time": "2023-06-01T08:20:16.044Z"
   },
   {
    "duration": 21,
    "start_time": "2023-06-01T08:20:16.061Z"
   },
   {
    "duration": 21,
    "start_time": "2023-06-01T08:20:16.084Z"
   },
   {
    "duration": 528,
    "start_time": "2023-06-01T08:20:16.107Z"
   },
   {
    "duration": 14,
    "start_time": "2023-06-01T08:20:16.637Z"
   },
   {
    "duration": 13,
    "start_time": "2023-06-01T08:20:16.653Z"
   },
   {
    "duration": 20,
    "start_time": "2023-06-01T08:20:16.675Z"
   },
   {
    "duration": 34,
    "start_time": "2023-06-01T08:20:16.697Z"
   },
   {
    "duration": 295,
    "start_time": "2023-06-01T08:20:16.733Z"
   },
   {
    "duration": 218,
    "start_time": "2023-06-01T08:20:17.029Z"
   },
   {
    "duration": 55,
    "start_time": "2023-06-01T08:20:17.248Z"
   },
   {
    "duration": 839,
    "start_time": "2023-06-01T08:20:17.304Z"
   },
   {
    "duration": 10,
    "start_time": "2023-06-01T08:20:18.144Z"
   },
   {
    "duration": 393,
    "start_time": "2023-06-01T08:20:18.156Z"
   },
   {
    "duration": 8,
    "start_time": "2023-06-01T08:20:18.551Z"
   },
   {
    "duration": 230,
    "start_time": "2023-06-01T08:20:18.562Z"
   },
   {
    "duration": 214,
    "start_time": "2023-06-01T08:20:18.793Z"
   },
   {
    "duration": 224,
    "start_time": "2023-06-01T08:20:19.009Z"
   },
   {
    "duration": 15,
    "start_time": "2023-06-01T08:20:19.234Z"
   },
   {
    "duration": 37,
    "start_time": "2023-06-01T08:20:19.251Z"
   },
   {
    "duration": 8,
    "start_time": "2023-06-01T08:20:19.290Z"
   },
   {
    "duration": 192,
    "start_time": "2023-06-01T08:20:19.299Z"
   },
   {
    "duration": 176,
    "start_time": "2023-06-01T08:20:19.493Z"
   },
   {
    "duration": 186,
    "start_time": "2023-06-01T08:20:19.676Z"
   },
   {
    "duration": 27,
    "start_time": "2023-06-01T08:20:19.864Z"
   },
   {
    "duration": 13,
    "start_time": "2023-06-01T08:20:19.892Z"
   },
   {
    "duration": 496,
    "start_time": "2023-06-01T08:20:19.906Z"
   },
   {
    "duration": 9,
    "start_time": "2023-06-01T08:20:20.404Z"
   },
   {
    "duration": 6,
    "start_time": "2023-06-01T08:20:20.414Z"
   },
   {
    "duration": 15,
    "start_time": "2023-06-01T08:20:20.422Z"
   },
   {
    "duration": 6,
    "start_time": "2023-06-01T08:20:20.439Z"
   },
   {
    "duration": 1105,
    "start_time": "2023-06-01T16:33:05.086Z"
   },
   {
    "duration": 102,
    "start_time": "2023-06-01T16:33:06.193Z"
   },
   {
    "duration": 27,
    "start_time": "2023-06-01T16:33:06.296Z"
   },
   {
    "duration": 4,
    "start_time": "2023-06-01T16:33:06.325Z"
   },
   {
    "duration": 16,
    "start_time": "2023-06-01T16:33:06.331Z"
   },
   {
    "duration": 5,
    "start_time": "2023-06-01T16:33:06.348Z"
   },
   {
    "duration": 32,
    "start_time": "2023-06-01T16:33:06.355Z"
   },
   {
    "duration": 16,
    "start_time": "2023-06-01T16:33:06.389Z"
   },
   {
    "duration": 13,
    "start_time": "2023-06-01T16:33:06.406Z"
   },
   {
    "duration": 14,
    "start_time": "2023-06-01T16:33:06.420Z"
   },
   {
    "duration": 9,
    "start_time": "2023-06-01T16:33:06.436Z"
   },
   {
    "duration": 24,
    "start_time": "2023-06-01T16:33:06.446Z"
   },
   {
    "duration": 17,
    "start_time": "2023-06-01T16:33:06.472Z"
   },
   {
    "duration": 16,
    "start_time": "2023-06-01T16:33:06.493Z"
   },
   {
    "duration": 8,
    "start_time": "2023-06-01T16:33:06.511Z"
   },
   {
    "duration": 21,
    "start_time": "2023-06-01T16:33:06.520Z"
   },
   {
    "duration": 5,
    "start_time": "2023-06-01T16:33:06.542Z"
   },
   {
    "duration": 19,
    "start_time": "2023-06-01T16:33:06.549Z"
   },
   {
    "duration": 6,
    "start_time": "2023-06-01T16:33:06.569Z"
   },
   {
    "duration": 16,
    "start_time": "2023-06-01T16:33:06.576Z"
   },
   {
    "duration": 30,
    "start_time": "2023-06-01T16:33:06.594Z"
   },
   {
    "duration": 4,
    "start_time": "2023-06-01T16:33:06.626Z"
   },
   {
    "duration": 15,
    "start_time": "2023-06-01T16:33:06.631Z"
   },
   {
    "duration": 20,
    "start_time": "2023-06-01T16:33:06.647Z"
   },
   {
    "duration": 222,
    "start_time": "2023-06-01T16:33:06.668Z"
   },
   {
    "duration": 17,
    "start_time": "2023-06-01T16:33:06.891Z"
   },
   {
    "duration": 6,
    "start_time": "2023-06-01T16:33:06.916Z"
   },
   {
    "duration": 21,
    "start_time": "2023-06-01T16:33:06.924Z"
   },
   {
    "duration": 443,
    "start_time": "2023-06-01T16:33:06.946Z"
   },
   {
    "duration": 13,
    "start_time": "2023-06-01T16:33:07.391Z"
   },
   {
    "duration": 12,
    "start_time": "2023-06-01T16:33:07.405Z"
   },
   {
    "duration": 7,
    "start_time": "2023-06-01T16:33:07.419Z"
   },
   {
    "duration": 9,
    "start_time": "2023-06-01T16:33:07.428Z"
   },
   {
    "duration": 228,
    "start_time": "2023-06-01T16:33:07.438Z"
   },
   {
    "duration": 170,
    "start_time": "2023-06-01T16:33:07.667Z"
   },
   {
    "duration": 44,
    "start_time": "2023-06-01T16:33:07.838Z"
   },
   {
    "duration": 676,
    "start_time": "2023-06-01T16:33:07.883Z"
   },
   {
    "duration": 8,
    "start_time": "2023-06-01T16:33:08.560Z"
   },
   {
    "duration": 307,
    "start_time": "2023-06-01T16:33:08.570Z"
   },
   {
    "duration": 7,
    "start_time": "2023-06-01T16:33:08.879Z"
   },
   {
    "duration": 184,
    "start_time": "2023-06-01T16:33:08.889Z"
   },
   {
    "duration": 176,
    "start_time": "2023-06-01T16:33:09.074Z"
   },
   {
    "duration": 187,
    "start_time": "2023-06-01T16:33:09.252Z"
   },
   {
    "duration": 14,
    "start_time": "2023-06-01T16:33:09.440Z"
   },
   {
    "duration": 13,
    "start_time": "2023-06-01T16:33:09.455Z"
   },
   {
    "duration": 6,
    "start_time": "2023-06-01T16:33:09.469Z"
   },
   {
    "duration": 162,
    "start_time": "2023-06-01T16:33:09.476Z"
   },
   {
    "duration": 153,
    "start_time": "2023-06-01T16:33:09.640Z"
   },
   {
    "duration": 174,
    "start_time": "2023-06-01T16:33:09.794Z"
   },
   {
    "duration": 18,
    "start_time": "2023-06-01T16:33:09.969Z"
   },
   {
    "duration": 30,
    "start_time": "2023-06-01T16:33:09.988Z"
   },
   {
    "duration": 475,
    "start_time": "2023-06-01T16:33:10.020Z"
   },
   {
    "duration": 7,
    "start_time": "2023-06-01T16:33:10.497Z"
   },
   {
    "duration": 12,
    "start_time": "2023-06-01T16:33:10.506Z"
   },
   {
    "duration": 9,
    "start_time": "2023-06-01T16:33:10.519Z"
   },
   {
    "duration": 6,
    "start_time": "2023-06-01T16:33:10.529Z"
   },
   {
    "duration": 1363,
    "start_time": "2023-06-06T10:40:57.416Z"
   },
   {
    "duration": 222,
    "start_time": "2023-06-06T10:40:58.781Z"
   },
   {
    "duration": 48,
    "start_time": "2023-06-06T10:40:59.005Z"
   },
   {
    "duration": 4,
    "start_time": "2023-06-06T10:40:59.055Z"
   },
   {
    "duration": 23,
    "start_time": "2023-06-06T10:40:59.062Z"
   },
   {
    "duration": 6,
    "start_time": "2023-06-06T10:40:59.086Z"
   },
   {
    "duration": 13,
    "start_time": "2023-06-06T10:40:59.094Z"
   },
   {
    "duration": 32,
    "start_time": "2023-06-06T10:40:59.109Z"
   },
   {
    "duration": 11,
    "start_time": "2023-06-06T10:40:59.142Z"
   },
   {
    "duration": 9,
    "start_time": "2023-06-06T10:40:59.155Z"
   },
   {
    "duration": 10,
    "start_time": "2023-06-06T10:40:59.167Z"
   },
   {
    "duration": 18,
    "start_time": "2023-06-06T10:40:59.178Z"
   },
   {
    "duration": 14,
    "start_time": "2023-06-06T10:40:59.225Z"
   },
   {
    "duration": 19,
    "start_time": "2023-06-06T10:40:59.242Z"
   },
   {
    "duration": 6,
    "start_time": "2023-06-06T10:40:59.262Z"
   },
   {
    "duration": 24,
    "start_time": "2023-06-06T10:40:59.269Z"
   },
   {
    "duration": 14,
    "start_time": "2023-06-06T10:40:59.294Z"
   },
   {
    "duration": 29,
    "start_time": "2023-06-06T10:40:59.309Z"
   },
   {
    "duration": 14,
    "start_time": "2023-06-06T10:40:59.341Z"
   },
   {
    "duration": 10,
    "start_time": "2023-06-06T10:40:59.356Z"
   },
   {
    "duration": 13,
    "start_time": "2023-06-06T10:40:59.367Z"
   },
   {
    "duration": 12,
    "start_time": "2023-06-06T10:40:59.382Z"
   },
   {
    "duration": 10,
    "start_time": "2023-06-06T10:40:59.396Z"
   },
   {
    "duration": 22,
    "start_time": "2023-06-06T10:40:59.407Z"
   },
   {
    "duration": 213,
    "start_time": "2023-06-06T10:40:59.438Z"
   },
   {
    "duration": 16,
    "start_time": "2023-06-06T10:40:59.653Z"
   },
   {
    "duration": 19,
    "start_time": "2023-06-06T10:40:59.671Z"
   },
   {
    "duration": 34,
    "start_time": "2023-06-06T10:40:59.692Z"
   },
   {
    "duration": 554,
    "start_time": "2023-06-06T10:40:59.728Z"
   },
   {
    "duration": 20,
    "start_time": "2023-06-06T10:41:00.284Z"
   },
   {
    "duration": 49,
    "start_time": "2023-06-06T10:41:00.306Z"
   },
   {
    "duration": 40,
    "start_time": "2023-06-06T10:41:00.357Z"
   },
   {
    "duration": 38,
    "start_time": "2023-06-06T10:41:00.399Z"
   },
   {
    "duration": 289,
    "start_time": "2023-06-06T10:41:00.439Z"
   },
   {
    "duration": 206,
    "start_time": "2023-06-06T10:41:00.730Z"
   },
   {
    "duration": 40,
    "start_time": "2023-06-06T10:41:00.938Z"
   },
   {
    "duration": 1855,
    "start_time": "2023-06-06T10:41:00.979Z"
   },
   {
    "duration": 12,
    "start_time": "2023-06-06T10:41:02.835Z"
   },
   {
    "duration": 429,
    "start_time": "2023-06-06T10:41:02.849Z"
   },
   {
    "duration": 10,
    "start_time": "2023-06-06T10:41:03.279Z"
   },
   {
    "duration": 256,
    "start_time": "2023-06-06T10:41:03.295Z"
   },
   {
    "duration": 218,
    "start_time": "2023-06-06T10:41:03.553Z"
   },
   {
    "duration": 224,
    "start_time": "2023-06-06T10:41:03.774Z"
   },
   {
    "duration": 33,
    "start_time": "2023-06-06T10:41:04.000Z"
   },
   {
    "duration": 15,
    "start_time": "2023-06-06T10:41:04.034Z"
   },
   {
    "duration": 8,
    "start_time": "2023-06-06T10:41:04.051Z"
   },
   {
    "duration": 191,
    "start_time": "2023-06-06T10:41:04.060Z"
   },
   {
    "duration": 187,
    "start_time": "2023-06-06T10:41:04.252Z"
   },
   {
    "duration": 189,
    "start_time": "2023-06-06T10:41:04.441Z"
   },
   {
    "duration": 17,
    "start_time": "2023-06-06T10:41:04.638Z"
   },
   {
    "duration": 21,
    "start_time": "2023-06-06T10:41:04.657Z"
   },
   {
    "duration": 514,
    "start_time": "2023-06-06T10:41:04.680Z"
   },
   {
    "duration": 7,
    "start_time": "2023-06-06T10:41:05.196Z"
   },
   {
    "duration": 36,
    "start_time": "2023-06-06T10:41:05.205Z"
   },
   {
    "duration": 27,
    "start_time": "2023-06-06T10:41:05.243Z"
   },
   {
    "duration": 14,
    "start_time": "2023-06-06T10:41:05.272Z"
   },
   {
    "duration": 5,
    "start_time": "2023-06-06T10:48:16.343Z"
   },
   {
    "duration": 129,
    "start_time": "2023-06-06T10:48:17.057Z"
   },
   {
    "duration": 10,
    "start_time": "2023-06-06T10:48:22.264Z"
   },
   {
    "duration": 161,
    "start_time": "2023-06-06T10:48:26.743Z"
   },
   {
    "duration": 6,
    "start_time": "2023-06-06T10:49:25.068Z"
   },
   {
    "duration": 258,
    "start_time": "2023-06-06T10:49:25.811Z"
   },
   {
    "duration": 5,
    "start_time": "2023-06-06T10:49:50.772Z"
   },
   {
    "duration": 168,
    "start_time": "2023-06-06T10:49:51.216Z"
   },
   {
    "duration": 5,
    "start_time": "2023-06-06T10:49:55.382Z"
   },
   {
    "duration": 166,
    "start_time": "2023-06-06T10:49:55.741Z"
   },
   {
    "duration": 13,
    "start_time": "2023-06-06T10:50:07.618Z"
   },
   {
    "duration": 180,
    "start_time": "2023-06-06T10:50:14.250Z"
   },
   {
    "duration": 1213,
    "start_time": "2023-06-06T10:56:13.085Z"
   },
   {
    "duration": 63,
    "start_time": "2023-06-06T10:56:14.299Z"
   },
   {
    "duration": 28,
    "start_time": "2023-06-06T10:56:14.364Z"
   },
   {
    "duration": 4,
    "start_time": "2023-06-06T10:56:14.393Z"
   },
   {
    "duration": 14,
    "start_time": "2023-06-06T10:56:14.399Z"
   },
   {
    "duration": 9,
    "start_time": "2023-06-06T10:56:14.436Z"
   },
   {
    "duration": 24,
    "start_time": "2023-06-06T10:56:14.447Z"
   },
   {
    "duration": 21,
    "start_time": "2023-06-06T10:56:14.473Z"
   },
   {
    "duration": 13,
    "start_time": "2023-06-06T10:56:14.496Z"
   },
   {
    "duration": 10,
    "start_time": "2023-06-06T10:56:14.511Z"
   },
   {
    "duration": 31,
    "start_time": "2023-06-06T10:56:14.523Z"
   },
   {
    "duration": 28,
    "start_time": "2023-06-06T10:56:14.556Z"
   },
   {
    "duration": 15,
    "start_time": "2023-06-06T10:56:14.586Z"
   },
   {
    "duration": 18,
    "start_time": "2023-06-06T10:56:14.605Z"
   },
   {
    "duration": 16,
    "start_time": "2023-06-06T10:56:14.624Z"
   },
   {
    "duration": 43,
    "start_time": "2023-06-06T10:56:14.642Z"
   },
   {
    "duration": 16,
    "start_time": "2023-06-06T10:56:14.687Z"
   },
   {
    "duration": 14,
    "start_time": "2023-06-06T10:56:14.706Z"
   },
   {
    "duration": 29,
    "start_time": "2023-06-06T10:56:14.722Z"
   },
   {
    "duration": 12,
    "start_time": "2023-06-06T10:56:14.757Z"
   },
   {
    "duration": 31,
    "start_time": "2023-06-06T10:56:14.770Z"
   },
   {
    "duration": 3,
    "start_time": "2023-06-06T10:56:14.803Z"
   },
   {
    "duration": 15,
    "start_time": "2023-06-06T10:56:14.807Z"
   },
   {
    "duration": 41,
    "start_time": "2023-06-06T10:56:14.823Z"
   },
   {
    "duration": 221,
    "start_time": "2023-06-06T10:56:14.866Z"
   },
   {
    "duration": 16,
    "start_time": "2023-06-06T10:56:15.088Z"
   },
   {
    "duration": 54,
    "start_time": "2023-06-06T10:56:15.106Z"
   },
   {
    "duration": 24,
    "start_time": "2023-06-06T10:56:15.162Z"
   },
   {
    "duration": 575,
    "start_time": "2023-06-06T10:56:15.188Z"
   },
   {
    "duration": 16,
    "start_time": "2023-06-06T10:56:15.765Z"
   },
   {
    "duration": 13,
    "start_time": "2023-06-06T10:56:15.782Z"
   },
   {
    "duration": 33,
    "start_time": "2023-06-06T10:56:15.797Z"
   },
   {
    "duration": 19,
    "start_time": "2023-06-06T10:56:15.832Z"
   },
   {
    "duration": 300,
    "start_time": "2023-06-06T10:56:15.853Z"
   },
   {
    "duration": 216,
    "start_time": "2023-06-06T10:56:16.157Z"
   },
   {
    "duration": 78,
    "start_time": "2023-06-06T10:56:16.375Z"
   },
   {
    "duration": 1611,
    "start_time": "2023-06-06T10:56:16.455Z"
   },
   {
    "duration": 72,
    "start_time": "2023-06-06T10:56:18.067Z"
   },
   {
    "duration": 1085,
    "start_time": "2023-06-06T10:56:18.141Z"
   },
   {
    "duration": 12,
    "start_time": "2023-06-06T10:56:19.229Z"
   },
   {
    "duration": 188,
    "start_time": "2023-06-06T10:56:19.254Z"
   },
   {
    "duration": 10,
    "start_time": "2023-06-06T10:56:19.444Z"
   },
   {
    "duration": 252,
    "start_time": "2023-06-06T10:56:19.455Z"
   },
   {
    "duration": 258,
    "start_time": "2023-06-06T10:56:19.709Z"
   },
   {
    "duration": 248,
    "start_time": "2023-06-06T10:56:19.969Z"
   },
   {
    "duration": 21,
    "start_time": "2023-06-06T10:56:20.224Z"
   },
   {
    "duration": 40,
    "start_time": "2023-06-06T10:56:20.246Z"
   },
   {
    "duration": 65,
    "start_time": "2023-06-06T10:56:20.287Z"
   },
   {
    "duration": 213,
    "start_time": "2023-06-06T10:56:20.353Z"
   },
   {
    "duration": 211,
    "start_time": "2023-06-06T10:56:20.569Z"
   },
   {
    "duration": 218,
    "start_time": "2023-06-06T10:56:20.782Z"
   },
   {
    "duration": 43,
    "start_time": "2023-06-06T10:56:21.002Z"
   },
   {
    "duration": 24,
    "start_time": "2023-06-06T10:56:21.055Z"
   },
   {
    "duration": 503,
    "start_time": "2023-06-06T10:56:21.081Z"
   },
   {
    "duration": 8,
    "start_time": "2023-06-06T10:56:21.586Z"
   },
   {
    "duration": 7,
    "start_time": "2023-06-06T10:56:21.596Z"
   },
   {
    "duration": 38,
    "start_time": "2023-06-06T10:56:21.605Z"
   },
   {
    "duration": 5,
    "start_time": "2023-06-06T10:56:21.652Z"
   }
  ],
  "kernelspec": {
   "display_name": "Python 3 (ipykernel)",
   "language": "python",
   "name": "python3"
  },
  "language_info": {
   "codemirror_mode": {
    "name": "ipython",
    "version": 3
   },
   "file_extension": ".py",
   "mimetype": "text/x-python",
   "name": "python",
   "nbconvert_exporter": "python",
   "pygments_lexer": "ipython3",
   "version": "3.10.9"
  },
  "toc": {
   "base_numbering": 1,
   "nav_menu": {},
   "number_sections": true,
   "sideBar": true,
   "skip_h1_title": true,
   "title_cell": "Table of Contents",
   "title_sidebar": "Contents",
   "toc_cell": false,
   "toc_position": {
    "height": "calc(100% - 180px)",
    "left": "10px",
    "top": "150px",
    "width": "304px"
   },
   "toc_section_display": true,
   "toc_window_display": false
  }
 },
 "nbformat": 4,
 "nbformat_minor": 2
}
